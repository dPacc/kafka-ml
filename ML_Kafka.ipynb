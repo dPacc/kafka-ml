{
 "cells": [
  {
   "cell_type": "code",
   "execution_count": 2,
   "metadata": {},
   "outputs": [
    {
     "name": "stderr",
     "output_type": "stream",
     "text": [
      "2021-09-20 12:28:48.699382: W tensorflow/stream_executor/platform/default/dso_loader.cc:64] Could not load dynamic library 'libcudart.so.11.0'; dlerror: libcudart.so.11.0: cannot open shared object file: No such file or directory; LD_LIBRARY_PATH: /usr/lib/cuda/include:/usr/lib/cuda/lib64:/usr/lib/cuda/include:/usr/lib/cuda/lib64:\n",
      "2021-09-20 12:28:48.699400: I tensorflow/stream_executor/cuda/cudart_stub.cc:29] Ignore above cudart dlerror if you do not have a GPU set up on your machine.\n"
     ]
    }
   ],
   "source": [
    "# Import packages\n",
    "\n",
    "import os\n",
    "from datetime import datetime\n",
    "import time\n",
    "import threading\n",
    "import json\n",
    "from kafka import KafkaProducer\n",
    "from kafka.errors import KafkaError\n",
    "from sklearn.model_selection import train_test_split\n",
    "import pandas as pd\n",
    "import tensorflow as tf\n",
    "import tensorflow_io as tfio"
   ]
  },
  {
   "cell_type": "code",
   "execution_count": 4,
   "metadata": {},
   "outputs": [
    {
     "name": "stdout",
     "output_type": "stream",
     "text": [
      "tensorflow-io version: 0.21.0\n",
      "tensorflow version: 2.6.0\n"
     ]
    }
   ],
   "source": [
    "print(\"tensorflow-io version: {}\".format(tfio.__version__))\n",
    "print(\"tensorflow version: {}\".format(tf.__version__))"
   ]
  },
  {
   "cell_type": "markdown",
   "metadata": {
    "tags": []
   },
   "source": [
    "# Explore the dataset"
   ]
  },
  {
   "cell_type": "code",
   "execution_count": 6,
   "metadata": {},
   "outputs": [],
   "source": [
    "COLUMNS = [\n",
    "          #  labels\n",
    "           'class',\n",
    "          #  low-level features\n",
    "           'lepton_1_pT',\n",
    "           'lepton_1_eta',\n",
    "           'lepton_1_phi',\n",
    "           'lepton_2_pT',\n",
    "           'lepton_2_eta',\n",
    "           'lepton_2_phi',\n",
    "           'missing_energy_magnitude',\n",
    "           'missing_energy_phi',\n",
    "          #  high-level derived features\n",
    "           'MET_rel',\n",
    "           'axial_MET',\n",
    "           'M_R',\n",
    "           'M_TR_2',\n",
    "           'R',\n",
    "           'MT2',\n",
    "           'S_R',\n",
    "           'M_Delta_R',\n",
    "           'dPhi_r_b',\n",
    "           'cos(theta_r1)'\n",
    "           ]"
   ]
  },
  {
   "cell_type": "code",
   "execution_count": 8,
   "metadata": {},
   "outputs": [
    {
     "data": {
      "text/html": [
       "<div>\n",
       "<style scoped>\n",
       "    .dataframe tbody tr th:only-of-type {\n",
       "        vertical-align: middle;\n",
       "    }\n",
       "\n",
       "    .dataframe tbody tr th {\n",
       "        vertical-align: top;\n",
       "    }\n",
       "\n",
       "    .dataframe thead th {\n",
       "        text-align: right;\n",
       "    }\n",
       "</style>\n",
       "<table border=\"1\" class=\"dataframe\">\n",
       "  <thead>\n",
       "    <tr style=\"text-align: right;\">\n",
       "      <th></th>\n",
       "      <th>class</th>\n",
       "      <th>lepton_1_pT</th>\n",
       "      <th>lepton_1_eta</th>\n",
       "      <th>lepton_1_phi</th>\n",
       "      <th>lepton_2_pT</th>\n",
       "      <th>lepton_2_eta</th>\n",
       "      <th>lepton_2_phi</th>\n",
       "      <th>missing_energy_magnitude</th>\n",
       "      <th>missing_energy_phi</th>\n",
       "      <th>MET_rel</th>\n",
       "      <th>axial_MET</th>\n",
       "      <th>M_R</th>\n",
       "      <th>M_TR_2</th>\n",
       "      <th>R</th>\n",
       "      <th>MT2</th>\n",
       "      <th>S_R</th>\n",
       "      <th>M_Delta_R</th>\n",
       "      <th>dPhi_r_b</th>\n",
       "      <th>cos(theta_r1)</th>\n",
       "    </tr>\n",
       "  </thead>\n",
       "  <tbody>\n",
       "    <tr>\n",
       "      <th>0</th>\n",
       "      <td>0.0</td>\n",
       "      <td>0.972861</td>\n",
       "      <td>0.653855</td>\n",
       "      <td>1.176225</td>\n",
       "      <td>1.157156</td>\n",
       "      <td>-1.739873</td>\n",
       "      <td>-0.874309</td>\n",
       "      <td>0.567765</td>\n",
       "      <td>-0.175000</td>\n",
       "      <td>0.810061</td>\n",
       "      <td>-0.252552</td>\n",
       "      <td>1.921887</td>\n",
       "      <td>0.889637</td>\n",
       "      <td>0.410772</td>\n",
       "      <td>1.145621</td>\n",
       "      <td>1.932632</td>\n",
       "      <td>0.994464</td>\n",
       "      <td>1.367815</td>\n",
       "      <td>0.040714</td>\n",
       "    </tr>\n",
       "    <tr>\n",
       "      <th>1</th>\n",
       "      <td>1.0</td>\n",
       "      <td>1.667973</td>\n",
       "      <td>0.064191</td>\n",
       "      <td>-1.225171</td>\n",
       "      <td>0.506102</td>\n",
       "      <td>-0.338939</td>\n",
       "      <td>1.672543</td>\n",
       "      <td>3.475464</td>\n",
       "      <td>-1.219136</td>\n",
       "      <td>0.012955</td>\n",
       "      <td>3.775174</td>\n",
       "      <td>1.045977</td>\n",
       "      <td>0.568051</td>\n",
       "      <td>0.481928</td>\n",
       "      <td>0.000000</td>\n",
       "      <td>0.448410</td>\n",
       "      <td>0.205356</td>\n",
       "      <td>1.321893</td>\n",
       "      <td>0.377584</td>\n",
       "    </tr>\n",
       "    <tr>\n",
       "      <th>2</th>\n",
       "      <td>1.0</td>\n",
       "      <td>0.444840</td>\n",
       "      <td>-0.134298</td>\n",
       "      <td>-0.709972</td>\n",
       "      <td>0.451719</td>\n",
       "      <td>-1.613871</td>\n",
       "      <td>-0.768661</td>\n",
       "      <td>1.219918</td>\n",
       "      <td>0.504026</td>\n",
       "      <td>1.831248</td>\n",
       "      <td>-0.431385</td>\n",
       "      <td>0.526283</td>\n",
       "      <td>0.941514</td>\n",
       "      <td>1.587535</td>\n",
       "      <td>2.024308</td>\n",
       "      <td>0.603498</td>\n",
       "      <td>1.562374</td>\n",
       "      <td>1.135454</td>\n",
       "      <td>0.180910</td>\n",
       "    </tr>\n",
       "    <tr>\n",
       "      <th>3</th>\n",
       "      <td>1.0</td>\n",
       "      <td>0.381256</td>\n",
       "      <td>-0.976145</td>\n",
       "      <td>0.693152</td>\n",
       "      <td>0.448959</td>\n",
       "      <td>0.891753</td>\n",
       "      <td>-0.677328</td>\n",
       "      <td>2.033060</td>\n",
       "      <td>1.533041</td>\n",
       "      <td>3.046260</td>\n",
       "      <td>-1.005285</td>\n",
       "      <td>0.569386</td>\n",
       "      <td>1.015211</td>\n",
       "      <td>1.582217</td>\n",
       "      <td>1.551914</td>\n",
       "      <td>0.761215</td>\n",
       "      <td>1.715464</td>\n",
       "      <td>1.492257</td>\n",
       "      <td>0.090719</td>\n",
       "    </tr>\n",
       "    <tr>\n",
       "      <th>4</th>\n",
       "      <td>1.0</td>\n",
       "      <td>1.309996</td>\n",
       "      <td>-0.690089</td>\n",
       "      <td>-0.676259</td>\n",
       "      <td>1.589283</td>\n",
       "      <td>-0.693326</td>\n",
       "      <td>0.622907</td>\n",
       "      <td>1.087562</td>\n",
       "      <td>-0.381742</td>\n",
       "      <td>0.589204</td>\n",
       "      <td>1.365479</td>\n",
       "      <td>1.179295</td>\n",
       "      <td>0.968218</td>\n",
       "      <td>0.728563</td>\n",
       "      <td>0.000000</td>\n",
       "      <td>1.083158</td>\n",
       "      <td>0.043429</td>\n",
       "      <td>1.154854</td>\n",
       "      <td>0.094859</td>\n",
       "    </tr>\n",
       "  </tbody>\n",
       "</table>\n",
       "</div>"
      ],
      "text/plain": [
       "   class  lepton_1_pT  lepton_1_eta  lepton_1_phi  lepton_2_pT  lepton_2_eta  \\\n",
       "0    0.0     0.972861      0.653855      1.176225     1.157156     -1.739873   \n",
       "1    1.0     1.667973      0.064191     -1.225171     0.506102     -0.338939   \n",
       "2    1.0     0.444840     -0.134298     -0.709972     0.451719     -1.613871   \n",
       "3    1.0     0.381256     -0.976145      0.693152     0.448959      0.891753   \n",
       "4    1.0     1.309996     -0.690089     -0.676259     1.589283     -0.693326   \n",
       "\n",
       "   lepton_2_phi  missing_energy_magnitude  missing_energy_phi   MET_rel  \\\n",
       "0     -0.874309                  0.567765           -0.175000  0.810061   \n",
       "1      1.672543                  3.475464           -1.219136  0.012955   \n",
       "2     -0.768661                  1.219918            0.504026  1.831248   \n",
       "3     -0.677328                  2.033060            1.533041  3.046260   \n",
       "4      0.622907                  1.087562           -0.381742  0.589204   \n",
       "\n",
       "   axial_MET       M_R    M_TR_2         R       MT2       S_R  M_Delta_R  \\\n",
       "0  -0.252552  1.921887  0.889637  0.410772  1.145621  1.932632   0.994464   \n",
       "1   3.775174  1.045977  0.568051  0.481928  0.000000  0.448410   0.205356   \n",
       "2  -0.431385  0.526283  0.941514  1.587535  2.024308  0.603498   1.562374   \n",
       "3  -1.005285  0.569386  1.015211  1.582217  1.551914  0.761215   1.715464   \n",
       "4   1.365479  1.179295  0.968218  0.728563  0.000000  1.083158   0.043429   \n",
       "\n",
       "   dPhi_r_b  cos(theta_r1)  \n",
       "0  1.367815       0.040714  \n",
       "1  1.321893       0.377584  \n",
       "2  1.135454       0.180910  \n",
       "3  1.492257       0.090719  \n",
       "4  1.154854       0.094859  "
      ]
     },
     "execution_count": 8,
     "metadata": {},
     "output_type": "execute_result"
    }
   ],
   "source": [
    "susy_iterator = pd.read_csv('SUSY.csv.gz', header=None, names=COLUMNS, chunksize=100000)\n",
    "susy_df = next(susy_iterator)\n",
    "susy_df.head()"
   ]
  },
  {
   "cell_type": "code",
   "execution_count": 11,
   "metadata": {},
   "outputs": [
    {
     "data": {
      "text/plain": [
       "(100000, 19)"
      ]
     },
     "execution_count": 11,
     "metadata": {},
     "output_type": "execute_result"
    }
   ],
   "source": [
    "# Number of datapoints and columns\n",
    "\n",
    "len(susy_df), len(susy_df.columns)"
   ]
  },
  {
   "cell_type": "code",
   "execution_count": 12,
   "metadata": {},
   "outputs": [
    {
     "data": {
      "text/plain": [
       "(54025, 45975)"
      ]
     },
     "execution_count": 12,
     "metadata": {},
     "output_type": "execute_result"
    }
   ],
   "source": [
    "# Number of datapoints belonging to each class (0: background noise, 1: signal)\n",
    "\n",
    "len(susy_df[susy_df[\"class\"]==0]), len(susy_df[susy_df[\"class\"]==1])"
   ]
  },
  {
   "cell_type": "code",
   "execution_count": 13,
   "metadata": {},
   "outputs": [
    {
     "name": "stdout",
     "output_type": "stream",
     "text": [
      "Number of training samples:  60000\n",
      "Number of testing sample:  40000\n"
     ]
    }
   ],
   "source": [
    "train_df, test_df = train_test_split(susy_df, test_size=0.4, shuffle=True)\n",
    "\n",
    "print(\"Number of training samples: \",len(train_df))\n",
    "print(\"Number of testing sample: \",len(test_df))\n",
    "\n",
    "x_train_df = train_df.drop([\"class\"], axis=1)\n",
    "y_train_df = train_df[\"class\"]\n",
    "\n",
    "x_test_df = test_df.drop([\"class\"], axis=1)\n",
    "y_test_df = test_df[\"class\"]\n",
    "\n",
    "# The labels are set as the kafka message keys so as to store data\n",
    "# in multiple-partitions. Thus, enabling efficient data retrieval\n",
    "# using the consumer groups.\n",
    "x_train = list(filter(None, x_train_df.to_csv(index=False).split(\"\\n\")[1:]))\n",
    "y_train = list(filter(None, y_train_df.to_csv(index=False).split(\"\\n\")[1:]))\n",
    "\n",
    "x_test = list(filter(None, x_test_df.to_csv(index=False).split(\"\\n\")[1:]))\n",
    "y_test = list(filter(None, y_test_df.to_csv(index=False).split(\"\\n\")[1:]))"
   ]
  },
  {
   "cell_type": "code",
   "execution_count": 14,
   "metadata": {},
   "outputs": [
    {
     "data": {
      "text/plain": [
       "(60000, 60000, 40000, 40000)"
      ]
     },
     "execution_count": 14,
     "metadata": {},
     "output_type": "execute_result"
    }
   ],
   "source": [
    "NUM_COLUMNS = len(x_train_df.columns)\n",
    "len(x_train), len(y_train), len(x_test), len(y_test)"
   ]
  },
  {
   "cell_type": "markdown",
   "metadata": {},
   "source": [
    "# Store the train and test data in kafka\n",
    "\n",
    "#### Storing the data in kafka simulates an environment for continuous remote data retrieval for training and inference purposes."
   ]
  },
  {
   "cell_type": "code",
   "execution_count": 15,
   "metadata": {},
   "outputs": [],
   "source": [
    "def error_callback(exc):\n",
    "    raise Exception('Error while sendig data to kafka: {0}'.format(str(exc)))\n",
    "\n",
    "def write_to_kafka(topic_name, items):\n",
    "    count=0\n",
    "    producer = KafkaProducer(bootstrap_servers=['127.0.0.1:9092'])\n",
    "    for message, key in items:\n",
    "        producer.send(topic_name, key=key.encode('utf-8'), value=message.encode('utf-8')).add_errback(error_callback)\n",
    "        count+=1\n",
    "    producer.flush()\n",
    "    print(\"Wrote {0} messages into topic: {1}\".format(count, topic_name))"
   ]
  },
  {
   "cell_type": "code",
   "execution_count": 16,
   "metadata": {},
   "outputs": [
    {
     "name": "stdout",
     "output_type": "stream",
     "text": [
      "Wrote 60000 messages into topic: susy-train\n"
     ]
    }
   ],
   "source": [
    "write_to_kafka(\"susy-train\", zip(x_train, y_train))"
   ]
  },
  {
   "cell_type": "code",
   "execution_count": 17,
   "metadata": {},
   "outputs": [
    {
     "name": "stdout",
     "output_type": "stream",
     "text": [
      "Wrote 40000 messages into topic: susy-test\n"
     ]
    }
   ],
   "source": [
    "write_to_kafka(\"susy-test\", zip(x_test, y_test))"
   ]
  },
  {
   "cell_type": "markdown",
   "metadata": {},
   "source": [
    "# Define the tfio train dataset\n",
    "#### The IODataset class is utilized for streaming data from kafka into tensorflow. The class inherits from tf.data.Dataset and thus has all the useful functionalities of tf.data.Dataset out of the box."
   ]
  },
  {
   "cell_type": "code",
   "execution_count": 18,
   "metadata": {},
   "outputs": [],
   "source": [
    "def decode_kafka_item(item):\n",
    "    message = tf.io.decode_csv(item.message, [[0.0] for i in range(NUM_COLUMNS)])\n",
    "    key = tf.strings.to_number(item.key)\n",
    "    return (message, key)"
   ]
  },
  {
   "cell_type": "code",
   "execution_count": 19,
   "metadata": {},
   "outputs": [
    {
     "name": "stderr",
     "output_type": "stream",
     "text": [
      "2021-09-20 13:16:20.324179: I tensorflow_io/core/kernels/cpu_check.cc:128] Your CPU supports instructions that this TensorFlow IO binary was not compiled to use: AVX2 FMA\n",
      "2021-09-20 13:16:20.415956: I tensorflow/stream_executor/cuda/cuda_gpu_executor.cc:937] successful NUMA node read from SysFS had negative value (-1), but there must be at least one NUMA node, so returning NUMA node zero\n",
      "2021-09-20 13:16:20.416537: W tensorflow/stream_executor/platform/default/dso_loader.cc:64] Could not load dynamic library 'libcudart.so.11.0'; dlerror: libcudart.so.11.0: cannot open shared object file: No such file or directory; LD_LIBRARY_PATH: /usr/lib/cuda/include:/usr/lib/cuda/lib64:/usr/lib/cuda/include:/usr/lib/cuda/lib64:\n",
      "2021-09-20 13:16:20.416705: W tensorflow/stream_executor/platform/default/dso_loader.cc:64] Could not load dynamic library 'libcublas.so.11'; dlerror: libcublas.so.11: cannot open shared object file: No such file or directory; LD_LIBRARY_PATH: /usr/lib/cuda/include:/usr/lib/cuda/lib64:/usr/lib/cuda/include:/usr/lib/cuda/lib64:\n",
      "2021-09-20 13:16:20.416858: W tensorflow/stream_executor/platform/default/dso_loader.cc:64] Could not load dynamic library 'libcublasLt.so.11'; dlerror: libcublasLt.so.11: cannot open shared object file: No such file or directory; LD_LIBRARY_PATH: /usr/lib/cuda/include:/usr/lib/cuda/lib64:/usr/lib/cuda/include:/usr/lib/cuda/lib64:\n",
      "2021-09-20 13:16:20.460678: W tensorflow/stream_executor/platform/default/dso_loader.cc:64] Could not load dynamic library 'libcusolver.so.11'; dlerror: libcusolver.so.11: cannot open shared object file: No such file or directory; LD_LIBRARY_PATH: /usr/lib/cuda/include:/usr/lib/cuda/lib64:/usr/lib/cuda/include:/usr/lib/cuda/lib64:\n",
      "2021-09-20 13:16:20.461377: W tensorflow/stream_executor/platform/default/dso_loader.cc:64] Could not load dynamic library 'libcusparse.so.11'; dlerror: libcusparse.so.11: cannot open shared object file: No such file or directory; LD_LIBRARY_PATH: /usr/lib/cuda/include:/usr/lib/cuda/lib64:/usr/lib/cuda/include:/usr/lib/cuda/lib64:\n",
      "2021-09-20 13:16:20.474274: W tensorflow/core/common_runtime/gpu/gpu_device.cc:1835] Cannot dlopen some GPU libraries. Please make sure the missing libraries mentioned above are installed properly if you would like to use GPU. Follow the guide at https://www.tensorflow.org/install/gpu for how to download and setup the required libraries for your platform.\n",
      "Skipping registering GPU devices...\n",
      "2021-09-20 13:16:20.475152: I tensorflow/core/platform/cpu_feature_guard.cc:142] This TensorFlow binary is optimized with oneAPI Deep Neural Network Library (oneDNN) to use the following CPU instructions in performance-critical operations:  AVX2 FMA\n",
      "To enable them in other operations, rebuild TensorFlow with the appropriate compiler flags.\n",
      "2021-09-20 13:16:21.025588: I tensorflow_io/core/kernels/kafka_kernels.cc:349] Kafka tail: 60000\n"
     ]
    }
   ],
   "source": [
    "BATCH_SIZE=64\n",
    "SHUFFLE_BUFFER_SIZE=64\n",
    "train_ds = tfio.IODataset.from_kafka('susy-train', partition=0, offset=0)\n",
    "train_ds = train_ds.shuffle(buffer_size=SHUFFLE_BUFFER_SIZE)\n",
    "train_ds = train_ds.map(decode_kafka_item)\n",
    "train_ds = train_ds.batch(BATCH_SIZE)"
   ]
  },
  {
   "cell_type": "markdown",
   "metadata": {},
   "source": [
    "# Build and train the model"
   ]
  },
  {
   "cell_type": "code",
   "execution_count": 20,
   "metadata": {},
   "outputs": [],
   "source": [
    "# Set the parameters\n",
    "\n",
    "OPTIMIZER=\"adam\"\n",
    "LOSS=tf.keras.losses.BinaryCrossentropy(from_logits=True)\n",
    "METRICS=['accuracy']\n",
    "EPOCHS=10"
   ]
  },
  {
   "cell_type": "code",
   "execution_count": 21,
   "metadata": {},
   "outputs": [
    {
     "name": "stdout",
     "output_type": "stream",
     "text": [
      "Model: \"sequential\"\n",
      "_________________________________________________________________\n",
      "Layer (type)                 Output Shape              Param #   \n",
      "=================================================================\n",
      "dense (Dense)                (None, 128)               2432      \n",
      "_________________________________________________________________\n",
      "dropout (Dropout)            (None, 128)               0         \n",
      "_________________________________________________________________\n",
      "dense_1 (Dense)              (None, 256)               33024     \n",
      "_________________________________________________________________\n",
      "dropout_1 (Dropout)          (None, 256)               0         \n",
      "_________________________________________________________________\n",
      "dense_2 (Dense)              (None, 128)               32896     \n",
      "_________________________________________________________________\n",
      "dropout_2 (Dropout)          (None, 128)               0         \n",
      "_________________________________________________________________\n",
      "dense_3 (Dense)              (None, 1)                 129       \n",
      "=================================================================\n",
      "Total params: 68,481\n",
      "Trainable params: 68,481\n",
      "Non-trainable params: 0\n",
      "_________________________________________________________________\n",
      "None\n"
     ]
    }
   ],
   "source": [
    "# design/build the model\n",
    "model = tf.keras.Sequential([\n",
    "  tf.keras.layers.Input(shape=(NUM_COLUMNS,)),\n",
    "  tf.keras.layers.Dense(128, activation='relu'),\n",
    "  tf.keras.layers.Dropout(0.2),\n",
    "  tf.keras.layers.Dense(256, activation='relu'),\n",
    "  tf.keras.layers.Dropout(0.4),\n",
    "  tf.keras.layers.Dense(128, activation='relu'),\n",
    "  tf.keras.layers.Dropout(0.4),\n",
    "  tf.keras.layers.Dense(1, activation='sigmoid')\n",
    "])\n",
    "\n",
    "print(model.summary())"
   ]
  },
  {
   "cell_type": "code",
   "execution_count": 22,
   "metadata": {},
   "outputs": [],
   "source": [
    "# compile the model\n",
    "\n",
    "model.compile(optimizer=OPTIMIZER, loss=LOSS, metrics=METRICS)"
   ]
  },
  {
   "cell_type": "code",
   "execution_count": 23,
   "metadata": {
    "tags": []
   },
   "outputs": [
    {
     "name": "stderr",
     "output_type": "stream",
     "text": [
      "2021-09-20 13:17:34.924470: I tensorflow/compiler/mlir/mlir_graph_optimization_pass.cc:185] None of the MLIR Optimization Passes are enabled (registered 2)\n",
      "/home/dpacman/anaconda3/envs/kafka-ml/lib/python3.9/site-packages/keras/backend.py:4993: UserWarning: \"`binary_crossentropy` received `from_logits=True`, but the `output` argument was produced by a sigmoid or softmax activation and thus does not represent logits. Was this intended?\"\n",
      "  warnings.warn(\n"
     ]
    },
    {
     "name": "stdout",
     "output_type": "stream",
     "text": [
      "Epoch 1/10\n",
      "      1/Unknown - 0s 454ms/step - loss: 0.7358 - accuracy: 0.4844"
     ]
    },
    {
     "name": "stderr",
     "output_type": "stream",
     "text": [
      "2021-09-20 13:17:35.362961: I tensorflow_io/core/kernels/kafka_kernels.cc:248] Kafka stream starts with current offset: 0\n",
      "2021-09-20 13:17:35.420083: I tensorflow_io/core/kernels/kafka_kernels.cc:248] Kafka stream starts with current offset: 1024\n"
     ]
    },
    {
     "name": "stdout",
     "output_type": "stream",
     "text": [
      "    116/Unknown - 1s 6ms/step - loss: 0.5628 - accuracy: 0.7031"
     ]
    },
    {
     "name": "stderr",
     "output_type": "stream",
     "text": [
      "2021-09-20 13:17:35.943999: I tensorflow_io/core/kernels/kafka_kernels.cc:248] Kafka stream starts with current offset: 2048\n",
      "2021-09-20 13:17:35.977796: I tensorflow_io/core/kernels/kafka_kernels.cc:248] Kafka stream starts with current offset: 3072\n",
      "2021-09-20 13:17:36.010413: I tensorflow_io/core/kernels/kafka_kernels.cc:248] Kafka stream starts with current offset: 4096\n",
      "2021-09-20 13:17:36.043463: I tensorflow_io/core/kernels/kafka_kernels.cc:248] Kafka stream starts with current offset: 5120\n",
      "2021-09-20 13:17:36.076311: I tensorflow_io/core/kernels/kafka_kernels.cc:248] Kafka stream starts with current offset: 6144\n",
      "2021-09-20 13:17:36.106365: I tensorflow_io/core/kernels/kafka_kernels.cc:248] Kafka stream starts with current offset: 7168\n",
      "2021-09-20 13:17:36.136799: I tensorflow_io/core/kernels/kafka_kernels.cc:248] Kafka stream starts with current offset: 8192\n"
     ]
    },
    {
     "name": "stdout",
     "output_type": "stream",
     "text": [
      "    143/Unknown - 1s 5ms/step - loss: 0.5506 - accuracy: 0.7172"
     ]
    },
    {
     "name": "stderr",
     "output_type": "stream",
     "text": [
      "2021-09-20 13:17:36.168676: I tensorflow_io/core/kernels/kafka_kernels.cc:248] Kafka stream starts with current offset: 9216\n",
      "2021-09-20 13:17:36.201833: I tensorflow_io/core/kernels/kafka_kernels.cc:248] Kafka stream starts with current offset: 10240\n"
     ]
    },
    {
     "name": "stdout",
     "output_type": "stream",
     "text": [
      "    160/Unknown - 2s 8ms/step - loss: 0.5421 - accuracy: 0.7237"
     ]
    },
    {
     "name": "stderr",
     "output_type": "stream",
     "text": [
      "2021-09-20 13:17:36.765552: I tensorflow_io/core/kernels/kafka_kernels.cc:248] Kafka stream starts with current offset: 11264\n"
     ]
    },
    {
     "name": "stdout",
     "output_type": "stream",
     "text": [
      "    176/Unknown - 2s 11ms/step - loss: 0.5369 - accuracy: 0.7264"
     ]
    },
    {
     "name": "stderr",
     "output_type": "stream",
     "text": [
      "2021-09-20 13:17:37.321493: I tensorflow_io/core/kernels/kafka_kernels.cc:248] Kafka stream starts with current offset: 12288\n"
     ]
    },
    {
     "name": "stdout",
     "output_type": "stream",
     "text": [
      "    192/Unknown - 3s 13ms/step - loss: 0.5312 - accuracy: 0.7316"
     ]
    },
    {
     "name": "stderr",
     "output_type": "stream",
     "text": [
      "2021-09-20 13:17:37.884262: I tensorflow_io/core/kernels/kafka_kernels.cc:248] Kafka stream starts with current offset: 13312\n"
     ]
    },
    {
     "name": "stdout",
     "output_type": "stream",
     "text": [
      "    208/Unknown - 3s 15ms/step - loss: 0.5282 - accuracy: 0.7354"
     ]
    },
    {
     "name": "stderr",
     "output_type": "stream",
     "text": [
      "2021-09-20 13:17:38.441740: I tensorflow_io/core/kernels/kafka_kernels.cc:248] Kafka stream starts with current offset: 14336\n"
     ]
    },
    {
     "name": "stdout",
     "output_type": "stream",
     "text": [
      "    236/Unknown - 4s 15ms/step - loss: 0.5211 - accuracy: 0.7407"
     ]
    },
    {
     "name": "stderr",
     "output_type": "stream",
     "text": [
      "2021-09-20 13:17:39.006441: I tensorflow_io/core/kernels/kafka_kernels.cc:248] Kafka stream starts with current offset: 15360\n"
     ]
    },
    {
     "name": "stdout",
     "output_type": "stream",
     "text": [
      "    240/Unknown - 5s 17ms/step - loss: 0.5208 - accuracy: 0.7411"
     ]
    },
    {
     "name": "stderr",
     "output_type": "stream",
     "text": [
      "2021-09-20 13:17:39.555555: I tensorflow_io/core/kernels/kafka_kernels.cc:248] Kafka stream starts with current offset: 16384\n"
     ]
    },
    {
     "name": "stdout",
     "output_type": "stream",
     "text": [
      "    256/Unknown - 5s 18ms/step - loss: 0.5191 - accuracy: 0.7435"
     ]
    },
    {
     "name": "stderr",
     "output_type": "stream",
     "text": [
      "2021-09-20 13:17:40.098857: I tensorflow_io/core/kernels/kafka_kernels.cc:248] Kafka stream starts with current offset: 17408\n"
     ]
    },
    {
     "name": "stdout",
     "output_type": "stream",
     "text": [
      "    272/Unknown - 6s 19ms/step - loss: 0.5165 - accuracy: 0.7448"
     ]
    },
    {
     "name": "stderr",
     "output_type": "stream",
     "text": [
      "2021-09-20 13:17:40.624443: I tensorflow_io/core/kernels/kafka_kernels.cc:248] Kafka stream starts with current offset: 18432\n"
     ]
    },
    {
     "name": "stdout",
     "output_type": "stream",
     "text": [
      "    288/Unknown - 6s 20ms/step - loss: 0.5132 - accuracy: 0.7476"
     ]
    },
    {
     "name": "stderr",
     "output_type": "stream",
     "text": [
      "2021-09-20 13:17:41.168011: I tensorflow_io/core/kernels/kafka_kernels.cc:248] Kafka stream starts with current offset: 19456\n"
     ]
    },
    {
     "name": "stdout",
     "output_type": "stream",
     "text": [
      "    304/Unknown - 7s 21ms/step - loss: 0.5115 - accuracy: 0.7494"
     ]
    },
    {
     "name": "stderr",
     "output_type": "stream",
     "text": [
      "2021-09-20 13:17:41.721212: I tensorflow_io/core/kernels/kafka_kernels.cc:248] Kafka stream starts with current offset: 20480\n"
     ]
    },
    {
     "name": "stdout",
     "output_type": "stream",
     "text": [
      "    320/Unknown - 7s 21ms/step - loss: 0.5098 - accuracy: 0.7506"
     ]
    },
    {
     "name": "stderr",
     "output_type": "stream",
     "text": [
      "2021-09-20 13:17:42.271879: I tensorflow_io/core/kernels/kafka_kernels.cc:248] Kafka stream starts with current offset: 21504\n"
     ]
    },
    {
     "name": "stdout",
     "output_type": "stream",
     "text": [
      "    336/Unknown - 8s 22ms/step - loss: 0.5066 - accuracy: 0.7527"
     ]
    },
    {
     "name": "stderr",
     "output_type": "stream",
     "text": [
      "2021-09-20 13:17:42.806821: I tensorflow_io/core/kernels/kafka_kernels.cc:248] Kafka stream starts with current offset: 22528\n"
     ]
    },
    {
     "name": "stdout",
     "output_type": "stream",
     "text": [
      "    352/Unknown - 8s 23ms/step - loss: 0.5052 - accuracy: 0.7545"
     ]
    },
    {
     "name": "stderr",
     "output_type": "stream",
     "text": [
      "2021-09-20 13:17:43.334822: I tensorflow_io/core/kernels/kafka_kernels.cc:248] Kafka stream starts with current offset: 23552\n"
     ]
    },
    {
     "name": "stdout",
     "output_type": "stream",
     "text": [
      "    368/Unknown - 9s 23ms/step - loss: 0.5038 - accuracy: 0.7551"
     ]
    },
    {
     "name": "stderr",
     "output_type": "stream",
     "text": [
      "2021-09-20 13:17:43.871533: I tensorflow_io/core/kernels/kafka_kernels.cc:248] Kafka stream starts with current offset: 24576\n"
     ]
    },
    {
     "name": "stdout",
     "output_type": "stream",
     "text": [
      "    399/Unknown - 9s 23ms/step - loss: 0.5033 - accuracy: 0.7552"
     ]
    },
    {
     "name": "stderr",
     "output_type": "stream",
     "text": [
      "2021-09-20 13:17:44.427787: I tensorflow_io/core/kernels/kafka_kernels.cc:248] Kafka stream starts with current offset: 25600\n"
     ]
    },
    {
     "name": "stdout",
     "output_type": "stream",
     "text": [
      "    413/Unknown - 10s 23ms/step - loss: 0.5024 - accuracy: 0.7562"
     ]
    },
    {
     "name": "stderr",
     "output_type": "stream",
     "text": [
      "2021-09-20 13:17:44.984135: I tensorflow_io/core/kernels/kafka_kernels.cc:248] Kafka stream starts with current offset: 26624\n"
     ]
    },
    {
     "name": "stdout",
     "output_type": "stream",
     "text": [
      "    416/Unknown - 11s 24ms/step - loss: 0.5025 - accuracy: 0.7561"
     ]
    },
    {
     "name": "stderr",
     "output_type": "stream",
     "text": [
      "2021-09-20 13:17:45.505749: I tensorflow_io/core/kernels/kafka_kernels.cc:248] Kafka stream starts with current offset: 27648\n"
     ]
    },
    {
     "name": "stdout",
     "output_type": "stream",
     "text": [
      "    432/Unknown - 11s 25ms/step - loss: 0.5010 - accuracy: 0.7573"
     ]
    },
    {
     "name": "stderr",
     "output_type": "stream",
     "text": [
      "2021-09-20 13:17:46.059297: I tensorflow_io/core/kernels/kafka_kernels.cc:248] Kafka stream starts with current offset: 28672\n"
     ]
    },
    {
     "name": "stdout",
     "output_type": "stream",
     "text": [
      "    461/Unknown - 12s 24ms/step - loss: 0.4984 - accuracy: 0.7587"
     ]
    },
    {
     "name": "stderr",
     "output_type": "stream",
     "text": [
      "2021-09-20 13:17:46.615543: I tensorflow_io/core/kernels/kafka_kernels.cc:248] Kafka stream starts with current offset: 29696\n"
     ]
    },
    {
     "name": "stdout",
     "output_type": "stream",
     "text": [
      "    464/Unknown - 12s 25ms/step - loss: 0.4982 - accuracy: 0.7589"
     ]
    },
    {
     "name": "stderr",
     "output_type": "stream",
     "text": [
      "2021-09-20 13:17:47.152209: I tensorflow_io/core/kernels/kafka_kernels.cc:248] Kafka stream starts with current offset: 30720\n"
     ]
    },
    {
     "name": "stdout",
     "output_type": "stream",
     "text": [
      "    495/Unknown - 13s 25ms/step - loss: 0.4971 - accuracy: 0.7600"
     ]
    },
    {
     "name": "stderr",
     "output_type": "stream",
     "text": [
      "2021-09-20 13:17:47.704323: I tensorflow_io/core/kernels/kafka_kernels.cc:248] Kafka stream starts with current offset: 31744\n"
     ]
    },
    {
     "name": "stdout",
     "output_type": "stream",
     "text": [
      "    511/Unknown - 13s 25ms/step - loss: 0.4955 - accuracy: 0.7613"
     ]
    },
    {
     "name": "stderr",
     "output_type": "stream",
     "text": [
      "2021-09-20 13:17:48.252663: I tensorflow_io/core/kernels/kafka_kernels.cc:248] Kafka stream starts with current offset: 32768\n"
     ]
    },
    {
     "name": "stdout",
     "output_type": "stream",
     "text": [
      "    512/Unknown - 14s 26ms/step - loss: 0.4956 - accuracy: 0.7612"
     ]
    },
    {
     "name": "stderr",
     "output_type": "stream",
     "text": [
      "2021-09-20 13:17:48.762493: I tensorflow_io/core/kernels/kafka_kernels.cc:248] Kafka stream starts with current offset: 33792\n"
     ]
    },
    {
     "name": "stdout",
     "output_type": "stream",
     "text": [
      "    528/Unknown - 14s 26ms/step - loss: 0.4955 - accuracy: 0.7613"
     ]
    },
    {
     "name": "stderr",
     "output_type": "stream",
     "text": [
      "2021-09-20 13:17:49.313354: I tensorflow_io/core/kernels/kafka_kernels.cc:248] Kafka stream starts with current offset: 34816\n"
     ]
    },
    {
     "name": "stdout",
     "output_type": "stream",
     "text": [
      "    544/Unknown - 15s 27ms/step - loss: 0.4951 - accuracy: 0.7611"
     ]
    },
    {
     "name": "stderr",
     "output_type": "stream",
     "text": [
      "2021-09-20 13:17:49.836048: I tensorflow_io/core/kernels/kafka_kernels.cc:248] Kafka stream starts with current offset: 35840\n"
     ]
    },
    {
     "name": "stdout",
     "output_type": "stream",
     "text": [
      "    560/Unknown - 15s 27ms/step - loss: 0.4942 - accuracy: 0.7615"
     ]
    },
    {
     "name": "stderr",
     "output_type": "stream",
     "text": [
      "2021-09-20 13:17:50.376591: I tensorflow_io/core/kernels/kafka_kernels.cc:248] Kafka stream starts with current offset: 36864\n"
     ]
    },
    {
     "name": "stdout",
     "output_type": "stream",
     "text": [
      "    576/Unknown - 16s 27ms/step - loss: 0.4930 - accuracy: 0.7622"
     ]
    },
    {
     "name": "stderr",
     "output_type": "stream",
     "text": [
      "2021-09-20 13:17:50.881564: I tensorflow_io/core/kernels/kafka_kernels.cc:248] Kafka stream starts with current offset: 37888\n"
     ]
    },
    {
     "name": "stdout",
     "output_type": "stream",
     "text": [
      "    592/Unknown - 16s 27ms/step - loss: 0.4920 - accuracy: 0.7628"
     ]
    },
    {
     "name": "stderr",
     "output_type": "stream",
     "text": [
      "2021-09-20 13:17:51.429887: I tensorflow_io/core/kernels/kafka_kernels.cc:248] Kafka stream starts with current offset: 38912\n"
     ]
    },
    {
     "name": "stdout",
     "output_type": "stream",
     "text": [
      "    608/Unknown - 17s 27ms/step - loss: 0.4910 - accuracy: 0.7635"
     ]
    },
    {
     "name": "stderr",
     "output_type": "stream",
     "text": [
      "2021-09-20 13:17:51.940529: I tensorflow_io/core/kernels/kafka_kernels.cc:248] Kafka stream starts with current offset: 39936\n"
     ]
    },
    {
     "name": "stdout",
     "output_type": "stream",
     "text": [
      "    624/Unknown - 17s 27ms/step - loss: 0.4911 - accuracy: 0.7640"
     ]
    },
    {
     "name": "stderr",
     "output_type": "stream",
     "text": [
      "2021-09-20 13:17:52.448205: I tensorflow_io/core/kernels/kafka_kernels.cc:248] Kafka stream starts with current offset: 40960\n"
     ]
    },
    {
     "name": "stdout",
     "output_type": "stream",
     "text": [
      "    640/Unknown - 18s 27ms/step - loss: 0.4907 - accuracy: 0.7646"
     ]
    },
    {
     "name": "stderr",
     "output_type": "stream",
     "text": [
      "2021-09-20 13:17:52.991088: I tensorflow_io/core/kernels/kafka_kernels.cc:248] Kafka stream starts with current offset: 41984\n"
     ]
    },
    {
     "name": "stdout",
     "output_type": "stream",
     "text": [
      "    656/Unknown - 19s 28ms/step - loss: 0.4900 - accuracy: 0.7653"
     ]
    },
    {
     "name": "stderr",
     "output_type": "stream",
     "text": [
      "2021-09-20 13:17:53.498090: I tensorflow_io/core/kernels/kafka_kernels.cc:248] Kafka stream starts with current offset: 43008\n"
     ]
    },
    {
     "name": "stdout",
     "output_type": "stream",
     "text": [
      "    672/Unknown - 19s 28ms/step - loss: 0.4896 - accuracy: 0.7656"
     ]
    },
    {
     "name": "stderr",
     "output_type": "stream",
     "text": [
      "2021-09-20 13:17:54.019433: I tensorflow_io/core/kernels/kafka_kernels.cc:248] Kafka stream starts with current offset: 44032\n"
     ]
    },
    {
     "name": "stdout",
     "output_type": "stream",
     "text": [
      "    688/Unknown - 20s 28ms/step - loss: 0.4898 - accuracy: 0.7656"
     ]
    },
    {
     "name": "stderr",
     "output_type": "stream",
     "text": [
      "2021-09-20 13:17:54.561926: I tensorflow_io/core/kernels/kafka_kernels.cc:248] Kafka stream starts with current offset: 45056\n"
     ]
    },
    {
     "name": "stdout",
     "output_type": "stream",
     "text": [
      "    704/Unknown - 20s 28ms/step - loss: 0.4890 - accuracy: 0.7662"
     ]
    },
    {
     "name": "stderr",
     "output_type": "stream",
     "text": [
      "2021-09-20 13:17:55.062711: I tensorflow_io/core/kernels/kafka_kernels.cc:248] Kafka stream starts with current offset: 46080\n"
     ]
    },
    {
     "name": "stdout",
     "output_type": "stream",
     "text": [
      "    720/Unknown - 21s 28ms/step - loss: 0.4881 - accuracy: 0.7664"
     ]
    },
    {
     "name": "stderr",
     "output_type": "stream",
     "text": [
      "2021-09-20 13:17:55.588677: I tensorflow_io/core/kernels/kafka_kernels.cc:248] Kafka stream starts with current offset: 47104\n"
     ]
    },
    {
     "name": "stdout",
     "output_type": "stream",
     "text": [
      "    736/Unknown - 21s 28ms/step - loss: 0.4875 - accuracy: 0.7668"
     ]
    },
    {
     "name": "stderr",
     "output_type": "stream",
     "text": [
      "2021-09-20 13:17:56.121987: I tensorflow_io/core/kernels/kafka_kernels.cc:248] Kafka stream starts with current offset: 48128\n"
     ]
    },
    {
     "name": "stdout",
     "output_type": "stream",
     "text": [
      "    752/Unknown - 22s 28ms/step - loss: 0.4870 - accuracy: 0.7671"
     ]
    },
    {
     "name": "stderr",
     "output_type": "stream",
     "text": [
      "2021-09-20 13:17:56.645579: I tensorflow_io/core/kernels/kafka_kernels.cc:248] Kafka stream starts with current offset: 49152\n"
     ]
    },
    {
     "name": "stdout",
     "output_type": "stream",
     "text": [
      "    768/Unknown - 22s 28ms/step - loss: 0.4870 - accuracy: 0.7670"
     ]
    },
    {
     "name": "stderr",
     "output_type": "stream",
     "text": [
      "2021-09-20 13:17:57.135563: I tensorflow_io/core/kernels/kafka_kernels.cc:248] Kafka stream starts with current offset: 50176\n"
     ]
    },
    {
     "name": "stdout",
     "output_type": "stream",
     "text": [
      "    784/Unknown - 23s 28ms/step - loss: 0.4870 - accuracy: 0.7672"
     ]
    },
    {
     "name": "stderr",
     "output_type": "stream",
     "text": [
      "2021-09-20 13:17:57.675980: I tensorflow_io/core/kernels/kafka_kernels.cc:248] Kafka stream starts with current offset: 51200\n"
     ]
    },
    {
     "name": "stdout",
     "output_type": "stream",
     "text": [
      "    800/Unknown - 23s 28ms/step - loss: 0.4862 - accuracy: 0.7674"
     ]
    },
    {
     "name": "stderr",
     "output_type": "stream",
     "text": [
      "2021-09-20 13:17:58.195283: I tensorflow_io/core/kernels/kafka_kernels.cc:248] Kafka stream starts with current offset: 52224\n"
     ]
    },
    {
     "name": "stdout",
     "output_type": "stream",
     "text": [
      "    816/Unknown - 24s 29ms/step - loss: 0.4858 - accuracy: 0.7677"
     ]
    },
    {
     "name": "stderr",
     "output_type": "stream",
     "text": [
      "2021-09-20 13:17:58.708169: I tensorflow_io/core/kernels/kafka_kernels.cc:248] Kafka stream starts with current offset: 53248\n"
     ]
    },
    {
     "name": "stdout",
     "output_type": "stream",
     "text": [
      "    832/Unknown - 24s 29ms/step - loss: 0.4849 - accuracy: 0.7683"
     ]
    },
    {
     "name": "stderr",
     "output_type": "stream",
     "text": [
      "2021-09-20 13:17:59.226108: I tensorflow_io/core/kernels/kafka_kernels.cc:248] Kafka stream starts with current offset: 54272\n"
     ]
    },
    {
     "name": "stdout",
     "output_type": "stream",
     "text": [
      "    862/Unknown - 25s 28ms/step - loss: 0.4843 - accuracy: 0.7690"
     ]
    },
    {
     "name": "stderr",
     "output_type": "stream",
     "text": [
      "2021-09-20 13:17:59.749349: I tensorflow_io/core/kernels/kafka_kernels.cc:248] Kafka stream starts with current offset: 55296\n"
     ]
    },
    {
     "name": "stdout",
     "output_type": "stream",
     "text": [
      "    879/Unknown - 25s 28ms/step - loss: 0.4841 - accuracy: 0.7694"
     ]
    },
    {
     "name": "stderr",
     "output_type": "stream",
     "text": [
      "2021-09-20 13:18:00.258061: I tensorflow_io/core/kernels/kafka_kernels.cc:248] Kafka stream starts with current offset: 56320\n"
     ]
    },
    {
     "name": "stdout",
     "output_type": "stream",
     "text": [
      "    880/Unknown - 26s 29ms/step - loss: 0.4841 - accuracy: 0.7694"
     ]
    },
    {
     "name": "stderr",
     "output_type": "stream",
     "text": [
      "2021-09-20 13:18:00.749924: I tensorflow_io/core/kernels/kafka_kernels.cc:248] Kafka stream starts with current offset: 57344\n"
     ]
    },
    {
     "name": "stdout",
     "output_type": "stream",
     "text": [
      "    910/Unknown - 26s 28ms/step - loss: 0.4829 - accuracy: 0.7702"
     ]
    },
    {
     "name": "stderr",
     "output_type": "stream",
     "text": [
      "2021-09-20 13:18:01.271197: I tensorflow_io/core/kernels/kafka_kernels.cc:248] Kafka stream starts with current offset: 58368\n"
     ]
    },
    {
     "name": "stdout",
     "output_type": "stream",
     "text": [
      "    912/Unknown - 27s 29ms/step - loss: 0.4828 - accuracy: 0.7703"
     ]
    },
    {
     "name": "stderr",
     "output_type": "stream",
     "text": [
      "2021-09-20 13:18:01.737954: I tensorflow_io/core/kernels/kafka_kernels.cc:248] Kafka stream starts with current offset: 59392\n"
     ]
    },
    {
     "name": "stdout",
     "output_type": "stream",
     "text": [
      "938/938 [==============================] - 27s 29ms/step - loss: 0.4814 - accuracy: 0.7710\n",
      "Epoch 2/10\n"
     ]
    },
    {
     "name": "stderr",
     "output_type": "stream",
     "text": [
      "2021-09-20 13:18:02.289648: I tensorflow_io/core/kernels/kafka_kernels.cc:248] Kafka stream starts with current offset: 0\n"
     ]
    },
    {
     "name": "stdout",
     "output_type": "stream",
     "text": [
      "114/938 [==>...........................] - ETA: 1s - loss: 0.4623 - accuracy: 0.7833"
     ]
    },
    {
     "name": "stderr",
     "output_type": "stream",
     "text": [
      "2021-09-20 13:18:02.743984: I tensorflow_io/core/kernels/kafka_kernels.cc:248] Kafka stream starts with current offset: 1024\n",
      "2021-09-20 13:18:02.771715: I tensorflow_io/core/kernels/kafka_kernels.cc:248] Kafka stream starts with current offset: 2048\n",
      "2021-09-20 13:18:02.799987: I tensorflow_io/core/kernels/kafka_kernels.cc:248] Kafka stream starts with current offset: 3072\n",
      "2021-09-20 13:18:02.828930: I tensorflow_io/core/kernels/kafka_kernels.cc:248] Kafka stream starts with current offset: 4096\n",
      "2021-09-20 13:18:02.854320: I tensorflow_io/core/kernels/kafka_kernels.cc:248] Kafka stream starts with current offset: 5120\n",
      "2021-09-20 13:18:02.882515: I tensorflow_io/core/kernels/kafka_kernels.cc:248] Kafka stream starts with current offset: 6144\n",
      "2021-09-20 13:18:02.906100: I tensorflow_io/core/kernels/kafka_kernels.cc:248] Kafka stream starts with current offset: 7168\n",
      "2021-09-20 13:18:02.932734: I tensorflow_io/core/kernels/kafka_kernels.cc:248] Kafka stream starts with current offset: 8192\n"
     ]
    },
    {
     "name": "stdout",
     "output_type": "stream",
     "text": [
      "197/938 [=====>........................] - ETA: 1s - loss: 0.4572 - accuracy: 0.7865"
     ]
    },
    {
     "name": "stderr",
     "output_type": "stream",
     "text": [
      "2021-09-20 13:18:02.958682: I tensorflow_io/core/kernels/kafka_kernels.cc:248] Kafka stream starts with current offset: 9216\n",
      "2021-09-20 13:18:02.991533: I tensorflow_io/core/kernels/kafka_kernels.cc:248] Kafka stream starts with current offset: 10240\n",
      "2021-09-20 13:18:03.029030: I tensorflow_io/core/kernels/kafka_kernels.cc:248] Kafka stream starts with current offset: 11264\n",
      "2021-09-20 13:18:03.054122: I tensorflow_io/core/kernels/kafka_kernels.cc:248] Kafka stream starts with current offset: 12288\n",
      "2021-09-20 13:18:03.080330: I tensorflow_io/core/kernels/kafka_kernels.cc:248] Kafka stream starts with current offset: 13312\n",
      "2021-09-20 13:18:03.110315: I tensorflow_io/core/kernels/kafka_kernels.cc:248] Kafka stream starts with current offset: 14336\n"
     ]
    },
    {
     "name": "stdout",
     "output_type": "stream",
     "text": [
      "305/938 [========>.....................] - ETA: 2s - loss: 0.4557 - accuracy: 0.7887"
     ]
    },
    {
     "name": "stderr",
     "output_type": "stream",
     "text": [
      "2021-09-20 13:18:03.660508: I tensorflow_io/core/kernels/kafka_kernels.cc:248] Kafka stream starts with current offset: 15360\n",
      "2021-09-20 13:18:03.692274: I tensorflow_io/core/kernels/kafka_kernels.cc:248] Kafka stream starts with current offset: 16384\n",
      "2021-09-20 13:18:03.715753: I tensorflow_io/core/kernels/kafka_kernels.cc:248] Kafka stream starts with current offset: 17408\n",
      "2021-09-20 13:18:03.739091: I tensorflow_io/core/kernels/kafka_kernels.cc:248] Kafka stream starts with current offset: 18432\n",
      "2021-09-20 13:18:03.762816: I tensorflow_io/core/kernels/kafka_kernels.cc:248] Kafka stream starts with current offset: 19456\n",
      "2021-09-20 13:18:03.786650: I tensorflow_io/core/kernels/kafka_kernels.cc:248] Kafka stream starts with current offset: 20480\n"
     ]
    },
    {
     "name": "stdout",
     "output_type": "stream",
     "text": [
      "333/938 [=========>....................] - ETA: 2s - loss: 0.4549 - accuracy: 0.7889"
     ]
    },
    {
     "name": "stderr",
     "output_type": "stream",
     "text": [
      "2021-09-20 13:18:04.334461: I tensorflow_io/core/kernels/kafka_kernels.cc:248] Kafka stream starts with current offset: 21504\n",
      "2021-09-20 13:18:04.366622: I tensorflow_io/core/kernels/kafka_kernels.cc:248] Kafka stream starts with current offset: 22528\n"
     ]
    },
    {
     "name": "stdout",
     "output_type": "stream",
     "text": [
      "366/938 [==========>...................] - ETA: 3s - loss: 0.4545 - accuracy: 0.7891"
     ]
    },
    {
     "name": "stderr",
     "output_type": "stream",
     "text": [
      "2021-09-20 13:18:04.909539: I tensorflow_io/core/kernels/kafka_kernels.cc:248] Kafka stream starts with current offset: 23552\n",
      "2021-09-20 13:18:04.941688: I tensorflow_io/core/kernels/kafka_kernels.cc:248] Kafka stream starts with current offset: 24576\n"
     ]
    },
    {
     "name": "stdout",
     "output_type": "stream",
     "text": [
      "398/938 [===========>..................] - ETA: 3s - loss: 0.4559 - accuracy: 0.7881"
     ]
    },
    {
     "name": "stderr",
     "output_type": "stream",
     "text": [
      "2021-09-20 13:18:05.480768: I tensorflow_io/core/kernels/kafka_kernels.cc:248] Kafka stream starts with current offset: 25600\n",
      "2021-09-20 13:18:05.513953: I tensorflow_io/core/kernels/kafka_kernels.cc:248] Kafka stream starts with current offset: 26624\n"
     ]
    },
    {
     "name": "stdout",
     "output_type": "stream",
     "text": [
      "416/938 [============>.................] - ETA: 4s - loss: 0.4561 - accuracy: 0.7880"
     ]
    },
    {
     "name": "stderr",
     "output_type": "stream",
     "text": [
      "2021-09-20 13:18:06.027731: I tensorflow_io/core/kernels/kafka_kernels.cc:248] Kafka stream starts with current offset: 27648\n",
      "2021-09-20 13:18:06.055131: I tensorflow_io/core/kernels/kafka_kernels.cc:248] Kafka stream starts with current offset: 28672\n"
     ]
    },
    {
     "name": "stdout",
     "output_type": "stream",
     "text": [
      "448/938 [=============>................] - ETA: 4s - loss: 0.4565 - accuracy: 0.7877"
     ]
    },
    {
     "name": "stderr",
     "output_type": "stream",
     "text": [
      "2021-09-20 13:18:06.598646: I tensorflow_io/core/kernels/kafka_kernels.cc:248] Kafka stream starts with current offset: 29696\n"
     ]
    },
    {
     "name": "stdout",
     "output_type": "stream",
     "text": [
      "478/938 [==============>...............] - ETA: 4s - loss: 0.4558 - accuracy: 0.7876"
     ]
    },
    {
     "name": "stderr",
     "output_type": "stream",
     "text": [
      "2021-09-20 13:18:07.142340: I tensorflow_io/core/kernels/kafka_kernels.cc:248] Kafka stream starts with current offset: 30720\n",
      "2021-09-20 13:18:07.174619: I tensorflow_io/core/kernels/kafka_kernels.cc:248] Kafka stream starts with current offset: 31744\n"
     ]
    },
    {
     "name": "stdout",
     "output_type": "stream",
     "text": [
      "496/938 [==============>...............] - ETA: 4s - loss: 0.4555 - accuracy: 0.7877"
     ]
    },
    {
     "name": "stderr",
     "output_type": "stream",
     "text": [
      "2021-09-20 13:18:07.712104: I tensorflow_io/core/kernels/kafka_kernels.cc:248] Kafka stream starts with current offset: 32768\n"
     ]
    },
    {
     "name": "stdout",
     "output_type": "stream",
     "text": [
      "512/938 [===============>..............] - ETA: 4s - loss: 0.4556 - accuracy: 0.7878"
     ]
    },
    {
     "name": "stderr",
     "output_type": "stream",
     "text": [
      "2021-09-20 13:18:08.254400: I tensorflow_io/core/kernels/kafka_kernels.cc:248] Kafka stream starts with current offset: 33792\n"
     ]
    },
    {
     "name": "stdout",
     "output_type": "stream",
     "text": [
      "528/938 [===============>..............] - ETA: 4s - loss: 0.4564 - accuracy: 0.7873"
     ]
    },
    {
     "name": "stderr",
     "output_type": "stream",
     "text": [
      "2021-09-20 13:18:08.793567: I tensorflow_io/core/kernels/kafka_kernels.cc:248] Kafka stream starts with current offset: 34816\n"
     ]
    },
    {
     "name": "stdout",
     "output_type": "stream",
     "text": [
      "544/938 [================>.............] - ETA: 4s - loss: 0.4568 - accuracy: 0.7870"
     ]
    },
    {
     "name": "stderr",
     "output_type": "stream",
     "text": [
      "2021-09-20 13:18:09.334638: I tensorflow_io/core/kernels/kafka_kernels.cc:248] Kafka stream starts with current offset: 35840\n"
     ]
    },
    {
     "name": "stdout",
     "output_type": "stream",
     "text": [
      "560/938 [================>.............] - ETA: 4s - loss: 0.4569 - accuracy: 0.7872"
     ]
    },
    {
     "name": "stderr",
     "output_type": "stream",
     "text": [
      "2021-09-20 13:18:09.875181: I tensorflow_io/core/kernels/kafka_kernels.cc:248] Kafka stream starts with current offset: 36864\n"
     ]
    },
    {
     "name": "stdout",
     "output_type": "stream",
     "text": [
      "576/938 [=================>............] - ETA: 4s - loss: 0.4565 - accuracy: 0.7877"
     ]
    },
    {
     "name": "stderr",
     "output_type": "stream",
     "text": [
      "2021-09-20 13:18:10.386139: I tensorflow_io/core/kernels/kafka_kernels.cc:248] Kafka stream starts with current offset: 37888\n"
     ]
    },
    {
     "name": "stdout",
     "output_type": "stream",
     "text": [
      "592/938 [=================>............] - ETA: 4s - loss: 0.4563 - accuracy: 0.7879"
     ]
    },
    {
     "name": "stderr",
     "output_type": "stream",
     "text": [
      "2021-09-20 13:18:10.907326: I tensorflow_io/core/kernels/kafka_kernels.cc:248] Kafka stream starts with current offset: 38912\n"
     ]
    },
    {
     "name": "stdout",
     "output_type": "stream",
     "text": [
      "608/938 [==================>...........] - ETA: 4s - loss: 0.4557 - accuracy: 0.7882"
     ]
    },
    {
     "name": "stderr",
     "output_type": "stream",
     "text": [
      "2021-09-20 13:18:11.445139: I tensorflow_io/core/kernels/kafka_kernels.cc:248] Kafka stream starts with current offset: 39936\n"
     ]
    },
    {
     "name": "stdout",
     "output_type": "stream",
     "text": [
      "624/938 [==================>...........] - ETA: 4s - loss: 0.4567 - accuracy: 0.7879"
     ]
    },
    {
     "name": "stderr",
     "output_type": "stream",
     "text": [
      "2021-09-20 13:18:11.961493: I tensorflow_io/core/kernels/kafka_kernels.cc:248] Kafka stream starts with current offset: 40960\n"
     ]
    },
    {
     "name": "stdout",
     "output_type": "stream",
     "text": [
      "640/938 [===================>..........] - ETA: 4s - loss: 0.4567 - accuracy: 0.7881"
     ]
    },
    {
     "name": "stderr",
     "output_type": "stream",
     "text": [
      "2021-09-20 13:18:12.502364: I tensorflow_io/core/kernels/kafka_kernels.cc:248] Kafka stream starts with current offset: 41984\n"
     ]
    },
    {
     "name": "stdout",
     "output_type": "stream",
     "text": [
      "656/938 [===================>..........] - ETA: 4s - loss: 0.4564 - accuracy: 0.7879"
     ]
    },
    {
     "name": "stderr",
     "output_type": "stream",
     "text": [
      "2021-09-20 13:18:13.038224: I tensorflow_io/core/kernels/kafka_kernels.cc:248] Kafka stream starts with current offset: 43008\n"
     ]
    },
    {
     "name": "stdout",
     "output_type": "stream",
     "text": [
      "672/938 [====================>.........] - ETA: 4s - loss: 0.4566 - accuracy: 0.7877"
     ]
    },
    {
     "name": "stderr",
     "output_type": "stream",
     "text": [
      "2021-09-20 13:18:13.571489: I tensorflow_io/core/kernels/kafka_kernels.cc:248] Kafka stream starts with current offset: 44032\n"
     ]
    },
    {
     "name": "stdout",
     "output_type": "stream",
     "text": [
      "688/938 [=====================>........] - ETA: 4s - loss: 0.4573 - accuracy: 0.7875"
     ]
    },
    {
     "name": "stderr",
     "output_type": "stream",
     "text": [
      "2021-09-20 13:18:14.096882: I tensorflow_io/core/kernels/kafka_kernels.cc:248] Kafka stream starts with current offset: 45056\n"
     ]
    },
    {
     "name": "stdout",
     "output_type": "stream",
     "text": [
      "704/938 [=====================>........] - ETA: 3s - loss: 0.4569 - accuracy: 0.7876"
     ]
    },
    {
     "name": "stderr",
     "output_type": "stream",
     "text": [
      "2021-09-20 13:18:14.629094: I tensorflow_io/core/kernels/kafka_kernels.cc:248] Kafka stream starts with current offset: 46080\n"
     ]
    },
    {
     "name": "stdout",
     "output_type": "stream",
     "text": [
      "720/938 [======================>.......] - ETA: 3s - loss: 0.4571 - accuracy: 0.7873"
     ]
    },
    {
     "name": "stderr",
     "output_type": "stream",
     "text": [
      "2021-09-20 13:18:15.134045: I tensorflow_io/core/kernels/kafka_kernels.cc:248] Kafka stream starts with current offset: 47104\n"
     ]
    },
    {
     "name": "stdout",
     "output_type": "stream",
     "text": [
      "736/938 [======================>.......] - ETA: 3s - loss: 0.4569 - accuracy: 0.7872"
     ]
    },
    {
     "name": "stderr",
     "output_type": "stream",
     "text": [
      "2021-09-20 13:18:15.665906: I tensorflow_io/core/kernels/kafka_kernels.cc:248] Kafka stream starts with current offset: 48128\n"
     ]
    },
    {
     "name": "stdout",
     "output_type": "stream",
     "text": [
      "752/938 [=======================>......] - ETA: 3s - loss: 0.4569 - accuracy: 0.7871"
     ]
    },
    {
     "name": "stderr",
     "output_type": "stream",
     "text": [
      "2021-09-20 13:18:16.195512: I tensorflow_io/core/kernels/kafka_kernels.cc:248] Kafka stream starts with current offset: 49152\n"
     ]
    },
    {
     "name": "stdout",
     "output_type": "stream",
     "text": [
      "768/938 [=======================>......] - ETA: 3s - loss: 0.4573 - accuracy: 0.7868"
     ]
    },
    {
     "name": "stderr",
     "output_type": "stream",
     "text": [
      "2021-09-20 13:18:16.713085: I tensorflow_io/core/kernels/kafka_kernels.cc:248] Kafka stream starts with current offset: 50176\n"
     ]
    },
    {
     "name": "stdout",
     "output_type": "stream",
     "text": [
      "784/938 [========================>.....] - ETA: 2s - loss: 0.4577 - accuracy: 0.7867"
     ]
    },
    {
     "name": "stderr",
     "output_type": "stream",
     "text": [
      "2021-09-20 13:18:17.236739: I tensorflow_io/core/kernels/kafka_kernels.cc:248] Kafka stream starts with current offset: 51200\n"
     ]
    },
    {
     "name": "stdout",
     "output_type": "stream",
     "text": [
      "800/938 [========================>.....] - ETA: 2s - loss: 0.4573 - accuracy: 0.7868"
     ]
    },
    {
     "name": "stderr",
     "output_type": "stream",
     "text": [
      "2021-09-20 13:18:17.754599: I tensorflow_io/core/kernels/kafka_kernels.cc:248] Kafka stream starts with current offset: 52224\n"
     ]
    },
    {
     "name": "stdout",
     "output_type": "stream",
     "text": [
      "816/938 [=========================>....] - ETA: 2s - loss: 0.4571 - accuracy: 0.7868"
     ]
    },
    {
     "name": "stderr",
     "output_type": "stream",
     "text": [
      "2021-09-20 13:18:18.264302: I tensorflow_io/core/kernels/kafka_kernels.cc:248] Kafka stream starts with current offset: 53248\n"
     ]
    },
    {
     "name": "stdout",
     "output_type": "stream",
     "text": [
      "832/938 [=========================>....] - ETA: 2s - loss: 0.4568 - accuracy: 0.7871"
     ]
    },
    {
     "name": "stderr",
     "output_type": "stream",
     "text": [
      "2021-09-20 13:18:18.752105: I tensorflow_io/core/kernels/kafka_kernels.cc:248] Kafka stream starts with current offset: 54272\n"
     ]
    },
    {
     "name": "stdout",
     "output_type": "stream",
     "text": [
      "848/938 [==========================>...] - ETA: 1s - loss: 0.4568 - accuracy: 0.7872"
     ]
    },
    {
     "name": "stderr",
     "output_type": "stream",
     "text": [
      "2021-09-20 13:18:19.283386: I tensorflow_io/core/kernels/kafka_kernels.cc:248] Kafka stream starts with current offset: 55296\n"
     ]
    },
    {
     "name": "stdout",
     "output_type": "stream",
     "text": [
      "864/938 [==========================>...] - ETA: 1s - loss: 0.4569 - accuracy: 0.7873"
     ]
    },
    {
     "name": "stderr",
     "output_type": "stream",
     "text": [
      "2021-09-20 13:18:19.780074: I tensorflow_io/core/kernels/kafka_kernels.cc:248] Kafka stream starts with current offset: 56320\n"
     ]
    },
    {
     "name": "stdout",
     "output_type": "stream",
     "text": [
      "880/938 [===========================>..] - ETA: 1s - loss: 0.4571 - accuracy: 0.7874"
     ]
    },
    {
     "name": "stderr",
     "output_type": "stream",
     "text": [
      "2021-09-20 13:18:20.303149: I tensorflow_io/core/kernels/kafka_kernels.cc:248] Kafka stream starts with current offset: 57344\n"
     ]
    },
    {
     "name": "stdout",
     "output_type": "stream",
     "text": [
      "896/938 [===========================>..] - ETA: 0s - loss: 0.4570 - accuracy: 0.7874"
     ]
    },
    {
     "name": "stderr",
     "output_type": "stream",
     "text": [
      "2021-09-20 13:18:20.806606: I tensorflow_io/core/kernels/kafka_kernels.cc:248] Kafka stream starts with current offset: 58368\n"
     ]
    },
    {
     "name": "stdout",
     "output_type": "stream",
     "text": [
      "912/938 [============================>.] - ETA: 0s - loss: 0.4567 - accuracy: 0.7874"
     ]
    },
    {
     "name": "stderr",
     "output_type": "stream",
     "text": [
      "2021-09-20 13:18:21.309569: I tensorflow_io/core/kernels/kafka_kernels.cc:248] Kafka stream starts with current offset: 59392\n"
     ]
    },
    {
     "name": "stdout",
     "output_type": "stream",
     "text": [
      "938/938 [==============================] - 20s 20ms/step - loss: 0.4557 - accuracy: 0.7880\n",
      "Epoch 3/10\n"
     ]
    },
    {
     "name": "stderr",
     "output_type": "stream",
     "text": [
      "2021-09-20 13:18:21.814833: I tensorflow_io/core/kernels/kafka_kernels.cc:248] Kafka stream starts with current offset: 0\n"
     ]
    },
    {
     "name": "stdout",
     "output_type": "stream",
     "text": [
      "104/938 [==>...........................] - ETA: 1s - loss: 0.4537 - accuracy: 0.7880"
     ]
    },
    {
     "name": "stderr",
     "output_type": "stream",
     "text": [
      "2021-09-20 13:18:22.338836: I tensorflow_io/core/kernels/kafka_kernels.cc:248] Kafka stream starts with current offset: 1024\n",
      "2021-09-20 13:18:22.371733: I tensorflow_io/core/kernels/kafka_kernels.cc:248] Kafka stream starts with current offset: 2048\n",
      "2021-09-20 13:18:22.398875: I tensorflow_io/core/kernels/kafka_kernels.cc:248] Kafka stream starts with current offset: 3072\n",
      "2021-09-20 13:18:22.423478: I tensorflow_io/core/kernels/kafka_kernels.cc:248] Kafka stream starts with current offset: 4096\n",
      "2021-09-20 13:18:22.450025: I tensorflow_io/core/kernels/kafka_kernels.cc:248] Kafka stream starts with current offset: 5120\n",
      "2021-09-20 13:18:22.475344: I tensorflow_io/core/kernels/kafka_kernels.cc:248] Kafka stream starts with current offset: 6144\n",
      "2021-09-20 13:18:22.500474: I tensorflow_io/core/kernels/kafka_kernels.cc:248] Kafka stream starts with current offset: 7168\n",
      "2021-09-20 13:18:22.525087: I tensorflow_io/core/kernels/kafka_kernels.cc:248] Kafka stream starts with current offset: 8192\n"
     ]
    },
    {
     "name": "stdout",
     "output_type": "stream",
     "text": [
      "168/938 [====>.........................] - ETA: 1s - loss: 0.4482 - accuracy: 0.7922"
     ]
    },
    {
     "name": "stderr",
     "output_type": "stream",
     "text": [
      "2021-09-20 13:18:22.551488: I tensorflow_io/core/kernels/kafka_kernels.cc:248] Kafka stream starts with current offset: 9216\n",
      "2021-09-20 13:18:22.576567: I tensorflow_io/core/kernels/kafka_kernels.cc:248] Kafka stream starts with current offset: 10240\n",
      "2021-09-20 13:18:22.602778: I tensorflow_io/core/kernels/kafka_kernels.cc:248] Kafka stream starts with current offset: 11264\n"
     ]
    },
    {
     "name": "stdout",
     "output_type": "stream",
     "text": [
      "176/938 [====>.........................] - ETA: 3s - loss: 0.4498 - accuracy: 0.7911"
     ]
    },
    {
     "name": "stderr",
     "output_type": "stream",
     "text": [
      "2021-09-20 13:18:23.157737: I tensorflow_io/core/kernels/kafka_kernels.cc:248] Kafka stream starts with current offset: 12288\n"
     ]
    },
    {
     "name": "stdout",
     "output_type": "stream",
     "text": [
      "192/938 [=====>........................] - ETA: 5s - loss: 0.4503 - accuracy: 0.7912"
     ]
    },
    {
     "name": "stderr",
     "output_type": "stream",
     "text": [
      "2021-09-20 13:18:23.686108: I tensorflow_io/core/kernels/kafka_kernels.cc:248] Kafka stream starts with current offset: 13312\n"
     ]
    },
    {
     "name": "stdout",
     "output_type": "stream",
     "text": [
      "208/938 [=====>........................] - ETA: 6s - loss: 0.4500 - accuracy: 0.7906"
     ]
    },
    {
     "name": "stderr",
     "output_type": "stream",
     "text": [
      "2021-09-20 13:18:24.243209: I tensorflow_io/core/kernels/kafka_kernels.cc:248] Kafka stream starts with current offset: 14336\n"
     ]
    },
    {
     "name": "stdout",
     "output_type": "stream",
     "text": [
      "224/938 [======>.......................] - ETA: 7s - loss: 0.4495 - accuracy: 0.7916"
     ]
    },
    {
     "name": "stderr",
     "output_type": "stream",
     "text": [
      "2021-09-20 13:18:24.768623: I tensorflow_io/core/kernels/kafka_kernels.cc:248] Kafka stream starts with current offset: 15360\n"
     ]
    },
    {
     "name": "stdout",
     "output_type": "stream",
     "text": [
      "252/938 [=======>......................] - ETA: 8s - loss: 0.4501 - accuracy: 0.7910"
     ]
    },
    {
     "name": "stderr",
     "output_type": "stream",
     "text": [
      "2021-09-20 13:18:25.330766: I tensorflow_io/core/kernels/kafka_kernels.cc:248] Kafka stream starts with current offset: 16384\n"
     ]
    },
    {
     "name": "stdout",
     "output_type": "stream",
     "text": [
      "256/938 [=======>......................] - ETA: 9s - loss: 0.4503 - accuracy: 0.7908"
     ]
    },
    {
     "name": "stderr",
     "output_type": "stream",
     "text": [
      "2021-09-20 13:18:25.890182: I tensorflow_io/core/kernels/kafka_kernels.cc:248] Kafka stream starts with current offset: 17408\n"
     ]
    },
    {
     "name": "stdout",
     "output_type": "stream",
     "text": [
      "272/938 [=======>......................] - ETA: 10s - loss: 0.4496 - accuracy: 0.7910"
     ]
    },
    {
     "name": "stderr",
     "output_type": "stream",
     "text": [
      "2021-09-20 13:18:26.405995: I tensorflow_io/core/kernels/kafka_kernels.cc:248] Kafka stream starts with current offset: 18432\n"
     ]
    },
    {
     "name": "stdout",
     "output_type": "stream",
     "text": [
      "288/938 [========>.....................] - ETA: 10s - loss: 0.4492 - accuracy: 0.7918"
     ]
    },
    {
     "name": "stderr",
     "output_type": "stream",
     "text": [
      "2021-09-20 13:18:26.961925: I tensorflow_io/core/kernels/kafka_kernels.cc:248] Kafka stream starts with current offset: 19456\n"
     ]
    },
    {
     "name": "stdout",
     "output_type": "stream",
     "text": [
      "304/938 [========>.....................] - ETA: 10s - loss: 0.4494 - accuracy: 0.7924"
     ]
    },
    {
     "name": "stderr",
     "output_type": "stream",
     "text": [
      "2021-09-20 13:18:27.485839: I tensorflow_io/core/kernels/kafka_kernels.cc:248] Kafka stream starts with current offset: 20480\n"
     ]
    },
    {
     "name": "stdout",
     "output_type": "stream",
     "text": [
      "320/938 [=========>....................] - ETA: 11s - loss: 0.4495 - accuracy: 0.7924"
     ]
    },
    {
     "name": "stderr",
     "output_type": "stream",
     "text": [
      "2021-09-20 13:18:28.010891: I tensorflow_io/core/kernels/kafka_kernels.cc:248] Kafka stream starts with current offset: 21504\n"
     ]
    },
    {
     "name": "stdout",
     "output_type": "stream",
     "text": [
      "336/938 [=========>....................] - ETA: 11s - loss: 0.4485 - accuracy: 0.7926"
     ]
    },
    {
     "name": "stderr",
     "output_type": "stream",
     "text": [
      "2021-09-20 13:18:28.539405: I tensorflow_io/core/kernels/kafka_kernels.cc:248] Kafka stream starts with current offset: 22528\n"
     ]
    },
    {
     "name": "stdout",
     "output_type": "stream",
     "text": [
      "352/938 [==========>...................] - ETA: 11s - loss: 0.4479 - accuracy: 0.7931"
     ]
    },
    {
     "name": "stderr",
     "output_type": "stream",
     "text": [
      "2021-09-20 13:18:29.066867: I tensorflow_io/core/kernels/kafka_kernels.cc:248] Kafka stream starts with current offset: 23552\n"
     ]
    },
    {
     "name": "stdout",
     "output_type": "stream",
     "text": [
      "368/938 [==========>...................] - ETA: 11s - loss: 0.4485 - accuracy: 0.7929"
     ]
    },
    {
     "name": "stderr",
     "output_type": "stream",
     "text": [
      "2021-09-20 13:18:29.584313: I tensorflow_io/core/kernels/kafka_kernels.cc:248] Kafka stream starts with current offset: 24576\n"
     ]
    },
    {
     "name": "stdout",
     "output_type": "stream",
     "text": [
      "384/938 [===========>..................] - ETA: 11s - loss: 0.4492 - accuracy: 0.7923"
     ]
    },
    {
     "name": "stderr",
     "output_type": "stream",
     "text": [
      "2021-09-20 13:18:30.131969: I tensorflow_io/core/kernels/kafka_kernels.cc:248] Kafka stream starts with current offset: 25600\n"
     ]
    },
    {
     "name": "stdout",
     "output_type": "stream",
     "text": [
      "400/938 [===========>..................] - ETA: 11s - loss: 0.4506 - accuracy: 0.7914"
     ]
    },
    {
     "name": "stderr",
     "output_type": "stream",
     "text": [
      "2021-09-20 13:18:30.654220: I tensorflow_io/core/kernels/kafka_kernels.cc:248] Kafka stream starts with current offset: 26624\n"
     ]
    },
    {
     "name": "stdout",
     "output_type": "stream",
     "text": [
      "416/938 [============>.................] - ETA: 11s - loss: 0.4505 - accuracy: 0.7915"
     ]
    },
    {
     "name": "stderr",
     "output_type": "stream",
     "text": [
      "2021-09-20 13:18:31.188528: I tensorflow_io/core/kernels/kafka_kernels.cc:248] Kafka stream starts with current offset: 27648\n"
     ]
    },
    {
     "name": "stdout",
     "output_type": "stream",
     "text": [
      "432/938 [============>.................] - ETA: 11s - loss: 0.4506 - accuracy: 0.7916"
     ]
    },
    {
     "name": "stderr",
     "output_type": "stream",
     "text": [
      "2021-09-20 13:18:31.701156: I tensorflow_io/core/kernels/kafka_kernels.cc:248] Kafka stream starts with current offset: 28672\n"
     ]
    },
    {
     "name": "stdout",
     "output_type": "stream",
     "text": [
      "448/938 [=============>................] - ETA: 10s - loss: 0.4511 - accuracy: 0.7909"
     ]
    },
    {
     "name": "stderr",
     "output_type": "stream",
     "text": [
      "2021-09-20 13:18:32.251739: I tensorflow_io/core/kernels/kafka_kernels.cc:248] Kafka stream starts with current offset: 29696\n"
     ]
    },
    {
     "name": "stdout",
     "output_type": "stream",
     "text": [
      "464/938 [=============>................] - ETA: 10s - loss: 0.4508 - accuracy: 0.7909"
     ]
    },
    {
     "name": "stderr",
     "output_type": "stream",
     "text": [
      "2021-09-20 13:18:32.768767: I tensorflow_io/core/kernels/kafka_kernels.cc:248] Kafka stream starts with current offset: 30720\n"
     ]
    },
    {
     "name": "stdout",
     "output_type": "stream",
     "text": [
      "480/938 [==============>...............] - ETA: 10s - loss: 0.4516 - accuracy: 0.7906"
     ]
    },
    {
     "name": "stderr",
     "output_type": "stream",
     "text": [
      "2021-09-20 13:18:33.314030: I tensorflow_io/core/kernels/kafka_kernels.cc:248] Kafka stream starts with current offset: 31744\n"
     ]
    },
    {
     "name": "stdout",
     "output_type": "stream",
     "text": [
      "496/938 [==============>...............] - ETA: 10s - loss: 0.4512 - accuracy: 0.7909"
     ]
    },
    {
     "name": "stderr",
     "output_type": "stream",
     "text": [
      "2021-09-20 13:18:33.855207: I tensorflow_io/core/kernels/kafka_kernels.cc:248] Kafka stream starts with current offset: 32768\n"
     ]
    },
    {
     "name": "stdout",
     "output_type": "stream",
     "text": [
      "512/938 [===============>..............] - ETA: 10s - loss: 0.4509 - accuracy: 0.7913"
     ]
    },
    {
     "name": "stderr",
     "output_type": "stream",
     "text": [
      "2021-09-20 13:18:34.403467: I tensorflow_io/core/kernels/kafka_kernels.cc:248] Kafka stream starts with current offset: 33792\n"
     ]
    },
    {
     "name": "stdout",
     "output_type": "stream",
     "text": [
      "528/938 [===============>..............] - ETA: 9s - loss: 0.4515 - accuracy: 0.7911 "
     ]
    },
    {
     "name": "stderr",
     "output_type": "stream",
     "text": [
      "2021-09-20 13:18:34.945950: I tensorflow_io/core/kernels/kafka_kernels.cc:248] Kafka stream starts with current offset: 34816\n"
     ]
    },
    {
     "name": "stdout",
     "output_type": "stream",
     "text": [
      "544/938 [================>.............] - ETA: 9s - loss: 0.4522 - accuracy: 0.7904"
     ]
    },
    {
     "name": "stderr",
     "output_type": "stream",
     "text": [
      "2021-09-20 13:18:35.488435: I tensorflow_io/core/kernels/kafka_kernels.cc:248] Kafka stream starts with current offset: 35840\n"
     ]
    },
    {
     "name": "stdout",
     "output_type": "stream",
     "text": [
      "560/938 [================>.............] - ETA: 9s - loss: 0.4523 - accuracy: 0.7906"
     ]
    },
    {
     "name": "stderr",
     "output_type": "stream",
     "text": [
      "2021-09-20 13:18:36.004406: I tensorflow_io/core/kernels/kafka_kernels.cc:248] Kafka stream starts with current offset: 36864\n"
     ]
    },
    {
     "name": "stdout",
     "output_type": "stream",
     "text": [
      "576/938 [=================>............] - ETA: 8s - loss: 0.4519 - accuracy: 0.7908"
     ]
    },
    {
     "name": "stderr",
     "output_type": "stream",
     "text": [
      "2021-09-20 13:18:36.520735: I tensorflow_io/core/kernels/kafka_kernels.cc:248] Kafka stream starts with current offset: 37888\n"
     ]
    },
    {
     "name": "stdout",
     "output_type": "stream",
     "text": [
      "592/938 [=================>............] - ETA: 8s - loss: 0.4517 - accuracy: 0.7908"
     ]
    },
    {
     "name": "stderr",
     "output_type": "stream",
     "text": [
      "2021-09-20 13:18:37.038710: I tensorflow_io/core/kernels/kafka_kernels.cc:248] Kafka stream starts with current offset: 38912\n"
     ]
    },
    {
     "name": "stdout",
     "output_type": "stream",
     "text": [
      "608/938 [==================>...........] - ETA: 8s - loss: 0.4510 - accuracy: 0.7912"
     ]
    },
    {
     "name": "stderr",
     "output_type": "stream",
     "text": [
      "2021-09-20 13:18:37.587838: I tensorflow_io/core/kernels/kafka_kernels.cc:248] Kafka stream starts with current offset: 39936\n"
     ]
    },
    {
     "name": "stdout",
     "output_type": "stream",
     "text": [
      "624/938 [==================>...........] - ETA: 7s - loss: 0.4517 - accuracy: 0.7910"
     ]
    },
    {
     "name": "stderr",
     "output_type": "stream",
     "text": [
      "2021-09-20 13:18:38.127318: I tensorflow_io/core/kernels/kafka_kernels.cc:248] Kafka stream starts with current offset: 40960\n"
     ]
    },
    {
     "name": "stdout",
     "output_type": "stream",
     "text": [
      "654/938 [===================>..........] - ETA: 7s - loss: 0.4522 - accuracy: 0.7909"
     ]
    },
    {
     "name": "stderr",
     "output_type": "stream",
     "text": [
      "2021-09-20 13:18:38.657742: I tensorflow_io/core/kernels/kafka_kernels.cc:248] Kafka stream starts with current offset: 41984\n"
     ]
    },
    {
     "name": "stdout",
     "output_type": "stream",
     "text": [
      "656/938 [===================>..........] - ETA: 7s - loss: 0.4524 - accuracy: 0.7908"
     ]
    },
    {
     "name": "stderr",
     "output_type": "stream",
     "text": [
      "2021-09-20 13:18:39.154807: I tensorflow_io/core/kernels/kafka_kernels.cc:248] Kafka stream starts with current offset: 43008\n"
     ]
    },
    {
     "name": "stdout",
     "output_type": "stream",
     "text": [
      "683/938 [====================>.........] - ETA: 6s - loss: 0.4532 - accuracy: 0.7904"
     ]
    },
    {
     "name": "stderr",
     "output_type": "stream",
     "text": [
      "2021-09-20 13:18:39.708242: I tensorflow_io/core/kernels/kafka_kernels.cc:248] Kafka stream starts with current offset: 44032\n"
     ]
    },
    {
     "name": "stdout",
     "output_type": "stream",
     "text": [
      "701/938 [=====================>........] - ETA: 6s - loss: 0.4528 - accuracy: 0.7910"
     ]
    },
    {
     "name": "stderr",
     "output_type": "stream",
     "text": [
      "2021-09-20 13:18:40.229210: I tensorflow_io/core/kernels/kafka_kernels.cc:248] Kafka stream starts with current offset: 45056\n"
     ]
    },
    {
     "name": "stdout",
     "output_type": "stream",
     "text": [
      "716/938 [=====================>........] - ETA: 5s - loss: 0.4527 - accuracy: 0.7910"
     ]
    },
    {
     "name": "stderr",
     "output_type": "stream",
     "text": [
      "2021-09-20 13:18:40.754047: I tensorflow_io/core/kernels/kafka_kernels.cc:248] Kafka stream starts with current offset: 46080\n"
     ]
    },
    {
     "name": "stdout",
     "output_type": "stream",
     "text": [
      "720/938 [======================>.......] - ETA: 5s - loss: 0.4525 - accuracy: 0.7911"
     ]
    },
    {
     "name": "stderr",
     "output_type": "stream",
     "text": [
      "2021-09-20 13:18:41.267230: I tensorflow_io/core/kernels/kafka_kernels.cc:248] Kafka stream starts with current offset: 47104\n"
     ]
    },
    {
     "name": "stdout",
     "output_type": "stream",
     "text": [
      "736/938 [======================>.......] - ETA: 5s - loss: 0.4525 - accuracy: 0.7908"
     ]
    },
    {
     "name": "stderr",
     "output_type": "stream",
     "text": [
      "2021-09-20 13:18:41.768072: I tensorflow_io/core/kernels/kafka_kernels.cc:248] Kafka stream starts with current offset: 48128\n"
     ]
    },
    {
     "name": "stdout",
     "output_type": "stream",
     "text": [
      "752/938 [=======================>......] - ETA: 4s - loss: 0.4524 - accuracy: 0.7908"
     ]
    },
    {
     "name": "stderr",
     "output_type": "stream",
     "text": [
      "2021-09-20 13:18:42.280475: I tensorflow_io/core/kernels/kafka_kernels.cc:248] Kafka stream starts with current offset: 49152\n"
     ]
    },
    {
     "name": "stdout",
     "output_type": "stream",
     "text": [
      "780/938 [=======================>......] - ETA: 4s - loss: 0.4532 - accuracy: 0.7903"
     ]
    },
    {
     "name": "stderr",
     "output_type": "stream",
     "text": [
      "2021-09-20 13:18:42.829761: I tensorflow_io/core/kernels/kafka_kernels.cc:248] Kafka stream starts with current offset: 50176\n"
     ]
    },
    {
     "name": "stdout",
     "output_type": "stream",
     "text": [
      "796/938 [========================>.....] - ETA: 3s - loss: 0.4529 - accuracy: 0.7905"
     ]
    },
    {
     "name": "stderr",
     "output_type": "stream",
     "text": [
      "2021-09-20 13:18:43.349347: I tensorflow_io/core/kernels/kafka_kernels.cc:248] Kafka stream starts with current offset: 51200\n"
     ]
    },
    {
     "name": "stdout",
     "output_type": "stream",
     "text": [
      "811/938 [========================>.....] - ETA: 3s - loss: 0.4524 - accuracy: 0.7909"
     ]
    },
    {
     "name": "stderr",
     "output_type": "stream",
     "text": [
      "2021-09-20 13:18:43.864686: I tensorflow_io/core/kernels/kafka_kernels.cc:248] Kafka stream starts with current offset: 52224\n"
     ]
    },
    {
     "name": "stdout",
     "output_type": "stream",
     "text": [
      "816/938 [=========================>....] - ETA: 3s - loss: 0.4527 - accuracy: 0.7905"
     ]
    },
    {
     "name": "stderr",
     "output_type": "stream",
     "text": [
      "2021-09-20 13:18:44.373025: I tensorflow_io/core/kernels/kafka_kernels.cc:248] Kafka stream starts with current offset: 53248\n"
     ]
    },
    {
     "name": "stdout",
     "output_type": "stream",
     "text": [
      "832/938 [=========================>....] - ETA: 2s - loss: 0.4525 - accuracy: 0.7905"
     ]
    },
    {
     "name": "stderr",
     "output_type": "stream",
     "text": [
      "2021-09-20 13:18:44.857145: I tensorflow_io/core/kernels/kafka_kernels.cc:248] Kafka stream starts with current offset: 54272\n"
     ]
    },
    {
     "name": "stdout",
     "output_type": "stream",
     "text": [
      "848/938 [==========================>...] - ETA: 2s - loss: 0.4525 - accuracy: 0.7907"
     ]
    },
    {
     "name": "stderr",
     "output_type": "stream",
     "text": [
      "2021-09-20 13:18:45.394373: I tensorflow_io/core/kernels/kafka_kernels.cc:248] Kafka stream starts with current offset: 55296\n"
     ]
    },
    {
     "name": "stdout",
     "output_type": "stream",
     "text": [
      "864/938 [==========================>...] - ETA: 2s - loss: 0.4528 - accuracy: 0.7907"
     ]
    },
    {
     "name": "stderr",
     "output_type": "stream",
     "text": [
      "2021-09-20 13:18:45.877377: I tensorflow_io/core/kernels/kafka_kernels.cc:248] Kafka stream starts with current offset: 56320\n"
     ]
    },
    {
     "name": "stdout",
     "output_type": "stream",
     "text": [
      "890/938 [===========================>..] - ETA: 1s - loss: 0.4527 - accuracy: 0.7907"
     ]
    },
    {
     "name": "stderr",
     "output_type": "stream",
     "text": [
      "2021-09-20 13:18:46.429394: I tensorflow_io/core/kernels/kafka_kernels.cc:248] Kafka stream starts with current offset: 57344\n"
     ]
    },
    {
     "name": "stdout",
     "output_type": "stream",
     "text": [
      "909/938 [============================>.] - ETA: 0s - loss: 0.4526 - accuracy: 0.7906"
     ]
    },
    {
     "name": "stderr",
     "output_type": "stream",
     "text": [
      "2021-09-20 13:18:46.929089: I tensorflow_io/core/kernels/kafka_kernels.cc:248] Kafka stream starts with current offset: 58368\n"
     ]
    },
    {
     "name": "stdout",
     "output_type": "stream",
     "text": [
      "912/938 [============================>.] - ETA: 0s - loss: 0.4523 - accuracy: 0.7908"
     ]
    },
    {
     "name": "stderr",
     "output_type": "stream",
     "text": [
      "2021-09-20 13:18:47.398349: I tensorflow_io/core/kernels/kafka_kernels.cc:248] Kafka stream starts with current offset: 59392\n"
     ]
    },
    {
     "name": "stdout",
     "output_type": "stream",
     "text": [
      "938/938 [==============================] - 26s 27ms/step - loss: 0.4514 - accuracy: 0.7911\n",
      "Epoch 4/10\n"
     ]
    },
    {
     "name": "stderr",
     "output_type": "stream",
     "text": [
      "2021-09-20 13:18:47.911296: I tensorflow_io/core/kernels/kafka_kernels.cc:248] Kafka stream starts with current offset: 0\n"
     ]
    },
    {
     "name": "stdout",
     "output_type": "stream",
     "text": [
      " 13/938 [..............................] - ETA: 3s - loss: 0.4429 - accuracy: 0.7897  "
     ]
    },
    {
     "name": "stderr",
     "output_type": "stream",
     "text": [
      "2021-09-20 13:18:48.448240: I tensorflow_io/core/kernels/kafka_kernels.cc:248] Kafka stream starts with current offset: 1024\n",
      "2021-09-20 13:18:48.479665: I tensorflow_io/core/kernels/kafka_kernels.cc:248] Kafka stream starts with current offset: 2048\n"
     ]
    },
    {
     "name": "stdout",
     "output_type": "stream",
     "text": [
      " 32/938 [>.............................] - ETA: 17s - loss: 0.4502 - accuracy: 0.7920"
     ]
    },
    {
     "name": "stderr",
     "output_type": "stream",
     "text": [
      "2021-09-20 13:18:49.015358: I tensorflow_io/core/kernels/kafka_kernels.cc:248] Kafka stream starts with current offset: 3072\n"
     ]
    },
    {
     "name": "stdout",
     "output_type": "stream",
     "text": [
      " 59/938 [>.............................] - ETA: 17s - loss: 0.4493 - accuracy: 0.7940"
     ]
    },
    {
     "name": "stderr",
     "output_type": "stream",
     "text": [
      "2021-09-20 13:18:49.586004: I tensorflow_io/core/kernels/kafka_kernels.cc:248] Kafka stream starts with current offset: 4096\n"
     ]
    },
    {
     "name": "stdout",
     "output_type": "stream",
     "text": [
      " 64/938 [=>............................] - ETA: 23s - loss: 0.4482 - accuracy: 0.7959"
     ]
    },
    {
     "name": "stderr",
     "output_type": "stream",
     "text": [
      "2021-09-20 13:18:50.118347: I tensorflow_io/core/kernels/kafka_kernels.cc:248] Kafka stream starts with current offset: 5120\n"
     ]
    },
    {
     "name": "stdout",
     "output_type": "stream",
     "text": [
      " 80/938 [=>............................] - ETA: 24s - loss: 0.4503 - accuracy: 0.7957"
     ]
    },
    {
     "name": "stderr",
     "output_type": "stream",
     "text": [
      "2021-09-20 13:18:50.650943: I tensorflow_io/core/kernels/kafka_kernels.cc:248] Kafka stream starts with current offset: 6144\n"
     ]
    },
    {
     "name": "stdout",
     "output_type": "stream",
     "text": [
      " 96/938 [==>...........................] - ETA: 24s - loss: 0.4560 - accuracy: 0.7907"
     ]
    },
    {
     "name": "stderr",
     "output_type": "stream",
     "text": [
      "2021-09-20 13:18:51.186223: I tensorflow_io/core/kernels/kafka_kernels.cc:248] Kafka stream starts with current offset: 7168\n"
     ]
    },
    {
     "name": "stdout",
     "output_type": "stream",
     "text": [
      "112/938 [==>...........................] - ETA: 24s - loss: 0.4555 - accuracy: 0.7935"
     ]
    },
    {
     "name": "stderr",
     "output_type": "stream",
     "text": [
      "2021-09-20 13:18:51.715815: I tensorflow_io/core/kernels/kafka_kernels.cc:248] Kafka stream starts with current offset: 8192\n"
     ]
    },
    {
     "name": "stdout",
     "output_type": "stream",
     "text": [
      "128/938 [===>..........................] - ETA: 24s - loss: 0.4517 - accuracy: 0.7949"
     ]
    },
    {
     "name": "stderr",
     "output_type": "stream",
     "text": [
      "2021-09-20 13:18:52.246556: I tensorflow_io/core/kernels/kafka_kernels.cc:248] Kafka stream starts with current offset: 9216\n"
     ]
    },
    {
     "name": "stdout",
     "output_type": "stream",
     "text": [
      "144/938 [===>..........................] - ETA: 24s - loss: 0.4517 - accuracy: 0.7952"
     ]
    },
    {
     "name": "stderr",
     "output_type": "stream",
     "text": [
      "2021-09-20 13:18:52.797295: I tensorflow_io/core/kernels/kafka_kernels.cc:248] Kafka stream starts with current offset: 10240\n"
     ]
    },
    {
     "name": "stdout",
     "output_type": "stream",
     "text": [
      "160/938 [====>.........................] - ETA: 24s - loss: 0.4486 - accuracy: 0.7955"
     ]
    },
    {
     "name": "stderr",
     "output_type": "stream",
     "text": [
      "2021-09-20 13:18:53.352701: I tensorflow_io/core/kernels/kafka_kernels.cc:248] Kafka stream starts with current offset: 11264\n"
     ]
    },
    {
     "name": "stdout",
     "output_type": "stream",
     "text": [
      "187/938 [====>.........................] - ETA: 22s - loss: 0.4473 - accuracy: 0.7953"
     ]
    },
    {
     "name": "stderr",
     "output_type": "stream",
     "text": [
      "2021-09-20 13:18:53.919747: I tensorflow_io/core/kernels/kafka_kernels.cc:248] Kafka stream starts with current offset: 12288\n"
     ]
    },
    {
     "name": "stdout",
     "output_type": "stream",
     "text": [
      "192/938 [=====>........................] - ETA: 23s - loss: 0.4486 - accuracy: 0.7950"
     ]
    },
    {
     "name": "stderr",
     "output_type": "stream",
     "text": [
      "2021-09-20 13:18:54.437361: I tensorflow_io/core/kernels/kafka_kernels.cc:248] Kafka stream starts with current offset: 13312\n"
     ]
    },
    {
     "name": "stdout",
     "output_type": "stream",
     "text": [
      "208/938 [=====>........................] - ETA: 23s - loss: 0.4492 - accuracy: 0.7938"
     ]
    },
    {
     "name": "stderr",
     "output_type": "stream",
     "text": [
      "2021-09-20 13:18:54.967448: I tensorflow_io/core/kernels/kafka_kernels.cc:248] Kafka stream starts with current offset: 14336\n"
     ]
    },
    {
     "name": "stdout",
     "output_type": "stream",
     "text": [
      "224/938 [======>.......................] - ETA: 22s - loss: 0.4482 - accuracy: 0.7951"
     ]
    },
    {
     "name": "stderr",
     "output_type": "stream",
     "text": [
      "2021-09-20 13:18:55.521854: I tensorflow_io/core/kernels/kafka_kernels.cc:248] Kafka stream starts with current offset: 15360\n"
     ]
    },
    {
     "name": "stdout",
     "output_type": "stream",
     "text": [
      "240/938 [======>.......................] - ETA: 22s - loss: 0.4469 - accuracy: 0.7957"
     ]
    },
    {
     "name": "stderr",
     "output_type": "stream",
     "text": [
      "2021-09-20 13:18:56.044519: I tensorflow_io/core/kernels/kafka_kernels.cc:248] Kafka stream starts with current offset: 16384\n"
     ]
    },
    {
     "name": "stdout",
     "output_type": "stream",
     "text": [
      "256/938 [=======>......................] - ETA: 21s - loss: 0.4485 - accuracy: 0.7949"
     ]
    },
    {
     "name": "stderr",
     "output_type": "stream",
     "text": [
      "2021-09-20 13:18:56.572841: I tensorflow_io/core/kernels/kafka_kernels.cc:248] Kafka stream starts with current offset: 17408\n"
     ]
    },
    {
     "name": "stdout",
     "output_type": "stream",
     "text": [
      "287/938 [========>.....................] - ETA: 19s - loss: 0.4466 - accuracy: 0.7958"
     ]
    },
    {
     "name": "stderr",
     "output_type": "stream",
     "text": [
      "2021-09-20 13:18:57.130095: I tensorflow_io/core/kernels/kafka_kernels.cc:248] Kafka stream starts with current offset: 18432\n"
     ]
    },
    {
     "name": "stdout",
     "output_type": "stream",
     "text": [
      "288/938 [========>.....................] - ETA: 20s - loss: 0.4466 - accuracy: 0.7960"
     ]
    },
    {
     "name": "stderr",
     "output_type": "stream",
     "text": [
      "2021-09-20 13:18:57.656402: I tensorflow_io/core/kernels/kafka_kernels.cc:248] Kafka stream starts with current offset: 19456\n"
     ]
    },
    {
     "name": "stdout",
     "output_type": "stream",
     "text": [
      "316/938 [=========>....................] - ETA: 19s - loss: 0.4472 - accuracy: 0.7955"
     ]
    },
    {
     "name": "stderr",
     "output_type": "stream",
     "text": [
      "2021-09-20 13:18:58.218483: I tensorflow_io/core/kernels/kafka_kernels.cc:248] Kafka stream starts with current offset: 20480\n"
     ]
    },
    {
     "name": "stdout",
     "output_type": "stream",
     "text": [
      "320/938 [=========>....................] - ETA: 19s - loss: 0.4471 - accuracy: 0.7954"
     ]
    },
    {
     "name": "stderr",
     "output_type": "stream",
     "text": [
      "2021-09-20 13:18:58.745783: I tensorflow_io/core/kernels/kafka_kernels.cc:248] Kafka stream starts with current offset: 21504\n"
     ]
    },
    {
     "name": "stdout",
     "output_type": "stream",
     "text": [
      "336/938 [=========>....................] - ETA: 19s - loss: 0.4458 - accuracy: 0.7966"
     ]
    },
    {
     "name": "stderr",
     "output_type": "stream",
     "text": [
      "2021-09-20 13:18:59.268485: I tensorflow_io/core/kernels/kafka_kernels.cc:248] Kafka stream starts with current offset: 22528\n"
     ]
    },
    {
     "name": "stdout",
     "output_type": "stream",
     "text": [
      "352/938 [==========>...................] - ETA: 18s - loss: 0.4452 - accuracy: 0.7970"
     ]
    },
    {
     "name": "stderr",
     "output_type": "stream",
     "text": [
      "2021-09-20 13:18:59.792122: I tensorflow_io/core/kernels/kafka_kernels.cc:248] Kafka stream starts with current offset: 23552\n"
     ]
    },
    {
     "name": "stdout",
     "output_type": "stream",
     "text": [
      "368/938 [==========>...................] - ETA: 18s - loss: 0.4459 - accuracy: 0.7966"
     ]
    },
    {
     "name": "stderr",
     "output_type": "stream",
     "text": [
      "2021-09-20 13:19:00.316693: I tensorflow_io/core/kernels/kafka_kernels.cc:248] Kafka stream starts with current offset: 24576\n"
     ]
    },
    {
     "name": "stdout",
     "output_type": "stream",
     "text": [
      "384/938 [===========>..................] - ETA: 17s - loss: 0.4469 - accuracy: 0.7953"
     ]
    },
    {
     "name": "stderr",
     "output_type": "stream",
     "text": [
      "2021-09-20 13:19:00.870403: I tensorflow_io/core/kernels/kafka_kernels.cc:248] Kafka stream starts with current offset: 25600\n"
     ]
    },
    {
     "name": "stdout",
     "output_type": "stream",
     "text": [
      "414/938 [============>.................] - ETA: 16s - loss: 0.4485 - accuracy: 0.7940"
     ]
    },
    {
     "name": "stderr",
     "output_type": "stream",
     "text": [
      "2021-09-20 13:19:01.422211: I tensorflow_io/core/kernels/kafka_kernels.cc:248] Kafka stream starts with current offset: 26624\n"
     ]
    },
    {
     "name": "stdout",
     "output_type": "stream",
     "text": [
      "416/938 [============>.................] - ETA: 17s - loss: 0.4482 - accuracy: 0.7942"
     ]
    },
    {
     "name": "stderr",
     "output_type": "stream",
     "text": [
      "2021-09-20 13:19:01.964145: I tensorflow_io/core/kernels/kafka_kernels.cc:248] Kafka stream starts with current offset: 27648\n"
     ]
    },
    {
     "name": "stdout",
     "output_type": "stream",
     "text": [
      "445/938 [=============>................] - ETA: 15s - loss: 0.4490 - accuracy: 0.7936"
     ]
    },
    {
     "name": "stderr",
     "output_type": "stream",
     "text": [
      "2021-09-20 13:19:02.517864: I tensorflow_io/core/kernels/kafka_kernels.cc:248] Kafka stream starts with current offset: 28672\n"
     ]
    },
    {
     "name": "stdout",
     "output_type": "stream",
     "text": [
      "448/938 [=============>................] - ETA: 16s - loss: 0.4487 - accuracy: 0.7938"
     ]
    },
    {
     "name": "stderr",
     "output_type": "stream",
     "text": [
      "2021-09-20 13:19:03.024231: I tensorflow_io/core/kernels/kafka_kernels.cc:248] Kafka stream starts with current offset: 29696\n"
     ]
    },
    {
     "name": "stdout",
     "output_type": "stream",
     "text": [
      "464/938 [=============>................] - ETA: 15s - loss: 0.4485 - accuracy: 0.7939"
     ]
    },
    {
     "name": "stderr",
     "output_type": "stream",
     "text": [
      "2021-09-20 13:19:03.543136: I tensorflow_io/core/kernels/kafka_kernels.cc:248] Kafka stream starts with current offset: 30720\n"
     ]
    },
    {
     "name": "stdout",
     "output_type": "stream",
     "text": [
      "480/938 [==============>...............] - ETA: 14s - loss: 0.4490 - accuracy: 0.7937"
     ]
    },
    {
     "name": "stderr",
     "output_type": "stream",
     "text": [
      "2021-09-20 13:19:04.065331: I tensorflow_io/core/kernels/kafka_kernels.cc:248] Kafka stream starts with current offset: 31744\n"
     ]
    },
    {
     "name": "stdout",
     "output_type": "stream",
     "text": [
      "511/938 [===============>..............] - ETA: 13s - loss: 0.4485 - accuracy: 0.7941"
     ]
    },
    {
     "name": "stderr",
     "output_type": "stream",
     "text": [
      "2021-09-20 13:19:04.618607: I tensorflow_io/core/kernels/kafka_kernels.cc:248] Kafka stream starts with current offset: 32768\n"
     ]
    },
    {
     "name": "stdout",
     "output_type": "stream",
     "text": [
      "512/938 [===============>..............] - ETA: 13s - loss: 0.4486 - accuracy: 0.7941"
     ]
    },
    {
     "name": "stderr",
     "output_type": "stream",
     "text": [
      "2021-09-20 13:19:05.127875: I tensorflow_io/core/kernels/kafka_kernels.cc:248] Kafka stream starts with current offset: 33792\n"
     ]
    },
    {
     "name": "stdout",
     "output_type": "stream",
     "text": [
      "540/938 [================>.............] - ETA: 12s - loss: 0.4499 - accuracy: 0.7933"
     ]
    },
    {
     "name": "stderr",
     "output_type": "stream",
     "text": [
      "2021-09-20 13:19:05.686182: I tensorflow_io/core/kernels/kafka_kernels.cc:248] Kafka stream starts with current offset: 34816\n"
     ]
    },
    {
     "name": "stdout",
     "output_type": "stream",
     "text": [
      "544/938 [================>.............] - ETA: 12s - loss: 0.4498 - accuracy: 0.7932"
     ]
    },
    {
     "name": "stderr",
     "output_type": "stream",
     "text": [
      "2021-09-20 13:19:06.184683: I tensorflow_io/core/kernels/kafka_kernels.cc:248] Kafka stream starts with current offset: 35840\n"
     ]
    },
    {
     "name": "stdout",
     "output_type": "stream",
     "text": [
      "560/938 [================>.............] - ETA: 12s - loss: 0.4500 - accuracy: 0.7936"
     ]
    },
    {
     "name": "stderr",
     "output_type": "stream",
     "text": [
      "2021-09-20 13:19:06.704325: I tensorflow_io/core/kernels/kafka_kernels.cc:248] Kafka stream starts with current offset: 36864\n"
     ]
    },
    {
     "name": "stdout",
     "output_type": "stream",
     "text": [
      "576/938 [=================>............] - ETA: 11s - loss: 0.4494 - accuracy: 0.7938"
     ]
    },
    {
     "name": "stderr",
     "output_type": "stream",
     "text": [
      "2021-09-20 13:19:07.251506: I tensorflow_io/core/kernels/kafka_kernels.cc:248] Kafka stream starts with current offset: 37888\n"
     ]
    },
    {
     "name": "stdout",
     "output_type": "stream",
     "text": [
      "605/938 [==================>...........] - ETA: 10s - loss: 0.4488 - accuracy: 0.7939"
     ]
    },
    {
     "name": "stderr",
     "output_type": "stream",
     "text": [
      "2021-09-20 13:19:07.798784: I tensorflow_io/core/kernels/kafka_kernels.cc:248] Kafka stream starts with current offset: 38912\n"
     ]
    },
    {
     "name": "stdout",
     "output_type": "stream",
     "text": [
      "620/938 [==================>...........] - ETA: 10s - loss: 0.4490 - accuracy: 0.7938"
     ]
    },
    {
     "name": "stderr",
     "output_type": "stream",
     "text": [
      "2021-09-20 13:19:08.333983: I tensorflow_io/core/kernels/kafka_kernels.cc:248] Kafka stream starts with current offset: 39936\n"
     ]
    },
    {
     "name": "stdout",
     "output_type": "stream",
     "text": [
      "624/938 [==================>...........] - ETA: 10s - loss: 0.4496 - accuracy: 0.7933"
     ]
    },
    {
     "name": "stderr",
     "output_type": "stream",
     "text": [
      "2021-09-20 13:19:08.858550: I tensorflow_io/core/kernels/kafka_kernels.cc:248] Kafka stream starts with current offset: 40960\n"
     ]
    },
    {
     "name": "stdout",
     "output_type": "stream",
     "text": [
      "640/938 [===================>..........] - ETA: 9s - loss: 0.4497 - accuracy: 0.7934 "
     ]
    },
    {
     "name": "stderr",
     "output_type": "stream",
     "text": [
      "2021-09-20 13:19:09.361068: I tensorflow_io/core/kernels/kafka_kernels.cc:248] Kafka stream starts with current offset: 41984\n"
     ]
    },
    {
     "name": "stdout",
     "output_type": "stream",
     "text": [
      "671/938 [====================>.........] - ETA: 8s - loss: 0.4497 - accuracy: 0.7933"
     ]
    },
    {
     "name": "stderr",
     "output_type": "stream",
     "text": [
      "2021-09-20 13:19:09.909581: I tensorflow_io/core/kernels/kafka_kernels.cc:248] Kafka stream starts with current offset: 43008\n"
     ]
    },
    {
     "name": "stdout",
     "output_type": "stream",
     "text": [
      "672/938 [====================>.........] - ETA: 8s - loss: 0.4496 - accuracy: 0.7934"
     ]
    },
    {
     "name": "stderr",
     "output_type": "stream",
     "text": [
      "2021-09-20 13:19:10.434980: I tensorflow_io/core/kernels/kafka_kernels.cc:248] Kafka stream starts with current offset: 44032\n"
     ]
    },
    {
     "name": "stdout",
     "output_type": "stream",
     "text": [
      "688/938 [=====================>........] - ETA: 8s - loss: 0.4505 - accuracy: 0.7931"
     ]
    },
    {
     "name": "stderr",
     "output_type": "stream",
     "text": [
      "2021-09-20 13:19:10.932960: I tensorflow_io/core/kernels/kafka_kernels.cc:248] Kafka stream starts with current offset: 45056\n"
     ]
    },
    {
     "name": "stdout",
     "output_type": "stream",
     "text": [
      "704/938 [=====================>........] - ETA: 7s - loss: 0.4501 - accuracy: 0.7935"
     ]
    },
    {
     "name": "stderr",
     "output_type": "stream",
     "text": [
      "2021-09-20 13:19:11.476363: I tensorflow_io/core/kernels/kafka_kernels.cc:248] Kafka stream starts with current offset: 46080\n"
     ]
    },
    {
     "name": "stdout",
     "output_type": "stream",
     "text": [
      "720/938 [======================>.......] - ETA: 7s - loss: 0.4500 - accuracy: 0.7934"
     ]
    },
    {
     "name": "stderr",
     "output_type": "stream",
     "text": [
      "2021-09-20 13:19:11.973700: I tensorflow_io/core/kernels/kafka_kernels.cc:248] Kafka stream starts with current offset: 47104\n"
     ]
    },
    {
     "name": "stdout",
     "output_type": "stream",
     "text": [
      "747/938 [======================>.......] - ETA: 6s - loss: 0.4497 - accuracy: 0.7933"
     ]
    },
    {
     "name": "stderr",
     "output_type": "stream",
     "text": [
      "2021-09-20 13:19:12.531927: I tensorflow_io/core/kernels/kafka_kernels.cc:248] Kafka stream starts with current offset: 48128\n"
     ]
    },
    {
     "name": "stdout",
     "output_type": "stream",
     "text": [
      "766/938 [=======================>......] - ETA: 5s - loss: 0.4502 - accuracy: 0.7928"
     ]
    },
    {
     "name": "stderr",
     "output_type": "stream",
     "text": [
      "2021-09-20 13:19:13.041029: I tensorflow_io/core/kernels/kafka_kernels.cc:248] Kafka stream starts with current offset: 49152\n"
     ]
    },
    {
     "name": "stdout",
     "output_type": "stream",
     "text": [
      "780/938 [=======================>......] - ETA: 5s - loss: 0.4507 - accuracy: 0.7925"
     ]
    },
    {
     "name": "stderr",
     "output_type": "stream",
     "text": [
      "2021-09-20 13:19:13.567048: I tensorflow_io/core/kernels/kafka_kernels.cc:248] Kafka stream starts with current offset: 50176\n"
     ]
    },
    {
     "name": "stdout",
     "output_type": "stream",
     "text": [
      "796/938 [========================>.....] - ETA: 4s - loss: 0.4502 - accuracy: 0.7926"
     ]
    },
    {
     "name": "stderr",
     "output_type": "stream",
     "text": [
      "2021-09-20 13:19:14.080835: I tensorflow_io/core/kernels/kafka_kernels.cc:248] Kafka stream starts with current offset: 51200\n"
     ]
    },
    {
     "name": "stdout",
     "output_type": "stream",
     "text": [
      "812/938 [========================>.....] - ETA: 4s - loss: 0.4500 - accuracy: 0.7925"
     ]
    },
    {
     "name": "stderr",
     "output_type": "stream",
     "text": [
      "2021-09-20 13:19:14.597343: I tensorflow_io/core/kernels/kafka_kernels.cc:248] Kafka stream starts with current offset: 52224\n"
     ]
    },
    {
     "name": "stdout",
     "output_type": "stream",
     "text": [
      "827/938 [=========================>....] - ETA: 3s - loss: 0.4500 - accuracy: 0.7925"
     ]
    },
    {
     "name": "stderr",
     "output_type": "stream",
     "text": [
      "2021-09-20 13:19:15.117557: I tensorflow_io/core/kernels/kafka_kernels.cc:248] Kafka stream starts with current offset: 53248\n"
     ]
    },
    {
     "name": "stdout",
     "output_type": "stream",
     "text": [
      "842/938 [=========================>....] - ETA: 3s - loss: 0.4502 - accuracy: 0.7925"
     ]
    },
    {
     "name": "stderr",
     "output_type": "stream",
     "text": [
      "2021-09-20 13:19:15.629974: I tensorflow_io/core/kernels/kafka_kernels.cc:248] Kafka stream starts with current offset: 54272\n"
     ]
    },
    {
     "name": "stdout",
     "output_type": "stream",
     "text": [
      "859/938 [==========================>...] - ETA: 2s - loss: 0.4504 - accuracy: 0.7923"
     ]
    },
    {
     "name": "stderr",
     "output_type": "stream",
     "text": [
      "2021-09-20 13:19:16.140606: I tensorflow_io/core/kernels/kafka_kernels.cc:248] Kafka stream starts with current offset: 55296\n"
     ]
    },
    {
     "name": "stdout",
     "output_type": "stream",
     "text": [
      "864/938 [==========================>...] - ETA: 2s - loss: 0.4504 - accuracy: 0.7924"
     ]
    },
    {
     "name": "stderr",
     "output_type": "stream",
     "text": [
      "2021-09-20 13:19:16.607500: I tensorflow_io/core/kernels/kafka_kernels.cc:248] Kafka stream starts with current offset: 56320\n"
     ]
    },
    {
     "name": "stdout",
     "output_type": "stream",
     "text": [
      "893/938 [===========================>..] - ETA: 1s - loss: 0.4507 - accuracy: 0.7925"
     ]
    },
    {
     "name": "stderr",
     "output_type": "stream",
     "text": [
      "2021-09-20 13:19:17.155857: I tensorflow_io/core/kernels/kafka_kernels.cc:248] Kafka stream starts with current offset: 57344\n"
     ]
    },
    {
     "name": "stdout",
     "output_type": "stream",
     "text": [
      "896/938 [===========================>..] - ETA: 1s - loss: 0.4506 - accuracy: 0.7925"
     ]
    },
    {
     "name": "stderr",
     "output_type": "stream",
     "text": [
      "2021-09-20 13:19:17.626163: I tensorflow_io/core/kernels/kafka_kernels.cc:248] Kafka stream starts with current offset: 58368\n"
     ]
    },
    {
     "name": "stdout",
     "output_type": "stream",
     "text": [
      "922/938 [============================>.] - ETA: 0s - loss: 0.4501 - accuracy: 0.7929"
     ]
    },
    {
     "name": "stderr",
     "output_type": "stream",
     "text": [
      "2021-09-20 13:19:18.174822: I tensorflow_io/core/kernels/kafka_kernels.cc:248] Kafka stream starts with current offset: 59392\n"
     ]
    },
    {
     "name": "stdout",
     "output_type": "stream",
     "text": [
      "938/938 [==============================] - 31s 32ms/step - loss: 0.4495 - accuracy: 0.7932\n",
      "Epoch 5/10\n"
     ]
    },
    {
     "name": "stderr",
     "output_type": "stream",
     "text": [
      "2021-09-20 13:19:18.642039: I tensorflow_io/core/kernels/kafka_kernels.cc:248] Kafka stream starts with current offset: 0\n"
     ]
    },
    {
     "name": "stdout",
     "output_type": "stream",
     "text": [
      " 32/938 [>.............................] - ETA: 1s - loss: 0.4450 - accuracy: 0.7900  "
     ]
    },
    {
     "name": "stderr",
     "output_type": "stream",
     "text": [
      "2021-09-20 13:19:19.139129: I tensorflow_io/core/kernels/kafka_kernels.cc:248] Kafka stream starts with current offset: 1024\n",
      "2021-09-20 13:19:19.167696: I tensorflow_io/core/kernels/kafka_kernels.cc:248] Kafka stream starts with current offset: 2048\n",
      "2021-09-20 13:19:19.197416: I tensorflow_io/core/kernels/kafka_kernels.cc:248] Kafka stream starts with current offset: 3072\n"
     ]
    },
    {
     "name": "stdout",
     "output_type": "stream",
     "text": [
      " 48/938 [>.............................] - ETA: 11s - loss: 0.4453 - accuracy: 0.7917"
     ]
    },
    {
     "name": "stderr",
     "output_type": "stream",
     "text": [
      "2021-09-20 13:19:19.728229: I tensorflow_io/core/kernels/kafka_kernels.cc:248] Kafka stream starts with current offset: 4096\n"
     ]
    },
    {
     "name": "stdout",
     "output_type": "stream",
     "text": [
      " 64/938 [=>............................] - ETA: 15s - loss: 0.4430 - accuracy: 0.7971"
     ]
    },
    {
     "name": "stderr",
     "output_type": "stream",
     "text": [
      "2021-09-20 13:19:20.284863: I tensorflow_io/core/kernels/kafka_kernels.cc:248] Kafka stream starts with current offset: 5120\n"
     ]
    },
    {
     "name": "stdout",
     "output_type": "stream",
     "text": [
      " 92/938 [=>............................] - ETA: 16s - loss: 0.4488 - accuracy: 0.7928"
     ]
    },
    {
     "name": "stderr",
     "output_type": "stream",
     "text": [
      "2021-09-20 13:19:20.852947: I tensorflow_io/core/kernels/kafka_kernels.cc:248] Kafka stream starts with current offset: 6144\n"
     ]
    },
    {
     "name": "stdout",
     "output_type": "stream",
     "text": [
      "109/938 [==>...........................] - ETA: 17s - loss: 0.4500 - accuracy: 0.7939"
     ]
    },
    {
     "name": "stderr",
     "output_type": "stream",
     "text": [
      "2021-09-20 13:19:21.415822: I tensorflow_io/core/kernels/kafka_kernels.cc:248] Kafka stream starts with current offset: 7168\n"
     ]
    },
    {
     "name": "stdout",
     "output_type": "stream",
     "text": [
      "127/938 [===>..........................] - ETA: 18s - loss: 0.4479 - accuracy: 0.7939"
     ]
    },
    {
     "name": "stderr",
     "output_type": "stream",
     "text": [
      "2021-09-20 13:19:21.973252: I tensorflow_io/core/kernels/kafka_kernels.cc:248] Kafka stream starts with current offset: 8192\n"
     ]
    },
    {
     "name": "stdout",
     "output_type": "stream",
     "text": [
      "141/938 [===>..........................] - ETA: 19s - loss: 0.4495 - accuracy: 0.7940"
     ]
    },
    {
     "name": "stderr",
     "output_type": "stream",
     "text": [
      "2021-09-20 13:19:22.535052: I tensorflow_io/core/kernels/kafka_kernels.cc:248] Kafka stream starts with current offset: 9216\n"
     ]
    },
    {
     "name": "stdout",
     "output_type": "stream",
     "text": [
      "144/938 [===>..........................] - ETA: 21s - loss: 0.4477 - accuracy: 0.7950"
     ]
    },
    {
     "name": "stderr",
     "output_type": "stream",
     "text": [
      "2021-09-20 13:19:23.092275: I tensorflow_io/core/kernels/kafka_kernels.cc:248] Kafka stream starts with current offset: 10240\n"
     ]
    },
    {
     "name": "stdout",
     "output_type": "stream",
     "text": [
      "160/938 [====>.........................] - ETA: 21s - loss: 0.4439 - accuracy: 0.7965"
     ]
    },
    {
     "name": "stderr",
     "output_type": "stream",
     "text": [
      "2021-09-20 13:19:23.613255: I tensorflow_io/core/kernels/kafka_kernels.cc:248] Kafka stream starts with current offset: 11264\n"
     ]
    },
    {
     "name": "stdout",
     "output_type": "stream",
     "text": [
      "176/938 [====>.........................] - ETA: 21s - loss: 0.4450 - accuracy: 0.7957"
     ]
    },
    {
     "name": "stderr",
     "output_type": "stream",
     "text": [
      "2021-09-20 13:19:24.170011: I tensorflow_io/core/kernels/kafka_kernels.cc:248] Kafka stream starts with current offset: 12288\n"
     ]
    },
    {
     "name": "stdout",
     "output_type": "stream",
     "text": [
      "192/938 [=====>........................] - ETA: 21s - loss: 0.4456 - accuracy: 0.7959"
     ]
    },
    {
     "name": "stderr",
     "output_type": "stream",
     "text": [
      "2021-09-20 13:19:24.721180: I tensorflow_io/core/kernels/kafka_kernels.cc:248] Kafka stream starts with current offset: 13312\n"
     ]
    },
    {
     "name": "stdout",
     "output_type": "stream",
     "text": [
      "208/938 [=====>........................] - ETA: 21s - loss: 0.4461 - accuracy: 0.7957"
     ]
    },
    {
     "name": "stderr",
     "output_type": "stream",
     "text": [
      "2021-09-20 13:19:25.241280: I tensorflow_io/core/kernels/kafka_kernels.cc:248] Kafka stream starts with current offset: 14336\n"
     ]
    },
    {
     "name": "stdout",
     "output_type": "stream",
     "text": [
      "224/938 [======>.......................] - ETA: 21s - loss: 0.4448 - accuracy: 0.7967"
     ]
    },
    {
     "name": "stderr",
     "output_type": "stream",
     "text": [
      "2021-09-20 13:19:25.797645: I tensorflow_io/core/kernels/kafka_kernels.cc:248] Kafka stream starts with current offset: 15360\n"
     ]
    },
    {
     "name": "stdout",
     "output_type": "stream",
     "text": [
      "254/938 [=======>......................] - ETA: 19s - loss: 0.4460 - accuracy: 0.7958"
     ]
    },
    {
     "name": "stderr",
     "output_type": "stream",
     "text": [
      "2021-09-20 13:19:26.355769: I tensorflow_io/core/kernels/kafka_kernels.cc:248] Kafka stream starts with current offset: 16384\n"
     ]
    },
    {
     "name": "stdout",
     "output_type": "stream",
     "text": [
      "256/938 [=======>......................] - ETA: 20s - loss: 0.4458 - accuracy: 0.7957"
     ]
    },
    {
     "name": "stderr",
     "output_type": "stream",
     "text": [
      "2021-09-20 13:19:26.908844: I tensorflow_io/core/kernels/kafka_kernels.cc:248] Kafka stream starts with current offset: 17408\n"
     ]
    },
    {
     "name": "stdout",
     "output_type": "stream",
     "text": [
      "272/938 [=======>......................] - ETA: 20s - loss: 0.4448 - accuracy: 0.7966"
     ]
    },
    {
     "name": "stderr",
     "output_type": "stream",
     "text": [
      "2021-09-20 13:19:27.428609: I tensorflow_io/core/kernels/kafka_kernels.cc:248] Kafka stream starts with current offset: 18432\n"
     ]
    },
    {
     "name": "stdout",
     "output_type": "stream",
     "text": [
      "288/938 [========>.....................] - ETA: 19s - loss: 0.4445 - accuracy: 0.7971"
     ]
    },
    {
     "name": "stderr",
     "output_type": "stream",
     "text": [
      "2021-09-20 13:19:27.950379: I tensorflow_io/core/kernels/kafka_kernels.cc:248] Kafka stream starts with current offset: 19456\n"
     ]
    },
    {
     "name": "stdout",
     "output_type": "stream",
     "text": [
      "304/938 [========>.....................] - ETA: 19s - loss: 0.4445 - accuracy: 0.7972"
     ]
    },
    {
     "name": "stderr",
     "output_type": "stream",
     "text": [
      "2021-09-20 13:19:28.469051: I tensorflow_io/core/kernels/kafka_kernels.cc:248] Kafka stream starts with current offset: 20480\n"
     ]
    },
    {
     "name": "stdout",
     "output_type": "stream",
     "text": [
      "334/938 [=========>....................] - ETA: 17s - loss: 0.4434 - accuracy: 0.7973"
     ]
    },
    {
     "name": "stderr",
     "output_type": "stream",
     "text": [
      "2021-09-20 13:19:29.024860: I tensorflow_io/core/kernels/kafka_kernels.cc:248] Kafka stream starts with current offset: 21504\n"
     ]
    },
    {
     "name": "stdout",
     "output_type": "stream",
     "text": [
      "351/938 [==========>...................] - ETA: 17s - loss: 0.4427 - accuracy: 0.7979"
     ]
    },
    {
     "name": "stderr",
     "output_type": "stream",
     "text": [
      "2021-09-20 13:19:29.575520: I tensorflow_io/core/kernels/kafka_kernels.cc:248] Kafka stream starts with current offset: 22528\n"
     ]
    },
    {
     "name": "stdout",
     "output_type": "stream",
     "text": [
      "352/938 [==========>...................] - ETA: 18s - loss: 0.4427 - accuracy: 0.7980"
     ]
    },
    {
     "name": "stderr",
     "output_type": "stream",
     "text": [
      "2021-09-20 13:19:30.121769: I tensorflow_io/core/kernels/kafka_kernels.cc:248] Kafka stream starts with current offset: 23552\n"
     ]
    },
    {
     "name": "stdout",
     "output_type": "stream",
     "text": [
      "368/938 [==========>...................] - ETA: 17s - loss: 0.4434 - accuracy: 0.7977"
     ]
    },
    {
     "name": "stderr",
     "output_type": "stream",
     "text": [
      "2021-09-20 13:19:30.654587: I tensorflow_io/core/kernels/kafka_kernels.cc:248] Kafka stream starts with current offset: 24576\n"
     ]
    },
    {
     "name": "stdout",
     "output_type": "stream",
     "text": [
      "399/938 [===========>..................] - ETA: 16s - loss: 0.4460 - accuracy: 0.7961"
     ]
    },
    {
     "name": "stderr",
     "output_type": "stream",
     "text": [
      "2021-09-20 13:19:31.200563: I tensorflow_io/core/kernels/kafka_kernels.cc:248] Kafka stream starts with current offset: 25600\n"
     ]
    },
    {
     "name": "stdout",
     "output_type": "stream",
     "text": [
      "412/938 [============>.................] - ETA: 16s - loss: 0.4460 - accuracy: 0.7963"
     ]
    },
    {
     "name": "stderr",
     "output_type": "stream",
     "text": [
      "2021-09-20 13:19:31.754111: I tensorflow_io/core/kernels/kafka_kernels.cc:248] Kafka stream starts with current offset: 26624\n"
     ]
    },
    {
     "name": "stdout",
     "output_type": "stream",
     "text": [
      "416/938 [============>.................] - ETA: 16s - loss: 0.4459 - accuracy: 0.7962"
     ]
    },
    {
     "name": "stderr",
     "output_type": "stream",
     "text": [
      "2021-09-20 13:19:32.283318: I tensorflow_io/core/kernels/kafka_kernels.cc:248] Kafka stream starts with current offset: 27648\n"
     ]
    },
    {
     "name": "stdout",
     "output_type": "stream",
     "text": [
      "446/938 [=============>................] - ETA: 15s - loss: 0.4467 - accuracy: 0.7957"
     ]
    },
    {
     "name": "stderr",
     "output_type": "stream",
     "text": [
      "2021-09-20 13:19:32.835792: I tensorflow_io/core/kernels/kafka_kernels.cc:248] Kafka stream starts with current offset: 28672\n"
     ]
    },
    {
     "name": "stdout",
     "output_type": "stream",
     "text": [
      "448/938 [=============>................] - ETA: 15s - loss: 0.4466 - accuracy: 0.7956"
     ]
    },
    {
     "name": "stderr",
     "output_type": "stream",
     "text": [
      "2021-09-20 13:19:33.376740: I tensorflow_io/core/kernels/kafka_kernels.cc:248] Kafka stream starts with current offset: 29696\n"
     ]
    },
    {
     "name": "stdout",
     "output_type": "stream",
     "text": [
      "464/938 [=============>................] - ETA: 15s - loss: 0.4462 - accuracy: 0.7955"
     ]
    },
    {
     "name": "stderr",
     "output_type": "stream",
     "text": [
      "2021-09-20 13:19:33.918939: I tensorflow_io/core/kernels/kafka_kernels.cc:248] Kafka stream starts with current offset: 30720\n"
     ]
    },
    {
     "name": "stdout",
     "output_type": "stream",
     "text": [
      "480/938 [==============>...............] - ETA: 14s - loss: 0.4465 - accuracy: 0.7954"
     ]
    },
    {
     "name": "stderr",
     "output_type": "stream",
     "text": [
      "2021-09-20 13:19:34.461662: I tensorflow_io/core/kernels/kafka_kernels.cc:248] Kafka stream starts with current offset: 31744\n"
     ]
    },
    {
     "name": "stdout",
     "output_type": "stream",
     "text": [
      "496/938 [==============>...............] - ETA: 14s - loss: 0.4463 - accuracy: 0.7954"
     ]
    },
    {
     "name": "stderr",
     "output_type": "stream",
     "text": [
      "2021-09-20 13:19:34.981200: I tensorflow_io/core/kernels/kafka_kernels.cc:248] Kafka stream starts with current offset: 32768\n"
     ]
    },
    {
     "name": "stdout",
     "output_type": "stream",
     "text": [
      "512/938 [===============>..............] - ETA: 13s - loss: 0.4462 - accuracy: 0.7956"
     ]
    },
    {
     "name": "stderr",
     "output_type": "stream",
     "text": [
      "2021-09-20 13:19:35.502619: I tensorflow_io/core/kernels/kafka_kernels.cc:248] Kafka stream starts with current offset: 33792\n"
     ]
    },
    {
     "name": "stdout",
     "output_type": "stream",
     "text": [
      "528/938 [===============>..............] - ETA: 13s - loss: 0.4469 - accuracy: 0.7950"
     ]
    },
    {
     "name": "stderr",
     "output_type": "stream",
     "text": [
      "2021-09-20 13:19:36.046706: I tensorflow_io/core/kernels/kafka_kernels.cc:248] Kafka stream starts with current offset: 34816\n"
     ]
    },
    {
     "name": "stdout",
     "output_type": "stream",
     "text": [
      "544/938 [================>.............] - ETA: 12s - loss: 0.4472 - accuracy: 0.7947"
     ]
    },
    {
     "name": "stderr",
     "output_type": "stream",
     "text": [
      "2021-09-20 13:19:36.558332: I tensorflow_io/core/kernels/kafka_kernels.cc:248] Kafka stream starts with current offset: 35840\n"
     ]
    },
    {
     "name": "stdout",
     "output_type": "stream",
     "text": [
      "560/938 [================>.............] - ETA: 12s - loss: 0.4474 - accuracy: 0.7948"
     ]
    },
    {
     "name": "stderr",
     "output_type": "stream",
     "text": [
      "2021-09-20 13:19:37.068146: I tensorflow_io/core/kernels/kafka_kernels.cc:248] Kafka stream starts with current offset: 36864\n"
     ]
    },
    {
     "name": "stdout",
     "output_type": "stream",
     "text": [
      "576/938 [=================>............] - ETA: 11s - loss: 0.4471 - accuracy: 0.7950"
     ]
    },
    {
     "name": "stderr",
     "output_type": "stream",
     "text": [
      "2021-09-20 13:19:37.616395: I tensorflow_io/core/kernels/kafka_kernels.cc:248] Kafka stream starts with current offset: 37888\n"
     ]
    },
    {
     "name": "stdout",
     "output_type": "stream",
     "text": [
      "607/938 [==================>...........] - ETA: 10s - loss: 0.4463 - accuracy: 0.7955"
     ]
    },
    {
     "name": "stderr",
     "output_type": "stream",
     "text": [
      "2021-09-20 13:19:38.152386: I tensorflow_io/core/kernels/kafka_kernels.cc:248] Kafka stream starts with current offset: 38912\n"
     ]
    },
    {
     "name": "stdout",
     "output_type": "stream",
     "text": [
      "623/938 [==================>...........] - ETA: 9s - loss: 0.4469 - accuracy: 0.7951 "
     ]
    },
    {
     "name": "stderr",
     "output_type": "stream",
     "text": [
      "2021-09-20 13:19:38.689263: I tensorflow_io/core/kernels/kafka_kernels.cc:248] Kafka stream starts with current offset: 39936\n"
     ]
    },
    {
     "name": "stdout",
     "output_type": "stream",
     "text": [
      "624/938 [==================>...........] - ETA: 10s - loss: 0.4472 - accuracy: 0.7951"
     ]
    },
    {
     "name": "stderr",
     "output_type": "stream",
     "text": [
      "2021-09-20 13:19:39.215637: I tensorflow_io/core/kernels/kafka_kernels.cc:248] Kafka stream starts with current offset: 40960\n"
     ]
    },
    {
     "name": "stdout",
     "output_type": "stream",
     "text": [
      "640/938 [===================>..........] - ETA: 9s - loss: 0.4474 - accuracy: 0.7949 "
     ]
    },
    {
     "name": "stderr",
     "output_type": "stream",
     "text": [
      "2021-09-20 13:19:39.710158: I tensorflow_io/core/kernels/kafka_kernels.cc:248] Kafka stream starts with current offset: 41984\n"
     ]
    },
    {
     "name": "stdout",
     "output_type": "stream",
     "text": [
      "656/938 [===================>..........] - ETA: 9s - loss: 0.4473 - accuracy: 0.7951"
     ]
    },
    {
     "name": "stderr",
     "output_type": "stream",
     "text": [
      "2021-09-20 13:19:40.252095: I tensorflow_io/core/kernels/kafka_kernels.cc:248] Kafka stream starts with current offset: 43008\n"
     ]
    },
    {
     "name": "stdout",
     "output_type": "stream",
     "text": [
      "672/938 [====================>.........] - ETA: 8s - loss: 0.4474 - accuracy: 0.7950"
     ]
    },
    {
     "name": "stderr",
     "output_type": "stream",
     "text": [
      "2021-09-20 13:19:40.784212: I tensorflow_io/core/kernels/kafka_kernels.cc:248] Kafka stream starts with current offset: 44032\n"
     ]
    },
    {
     "name": "stdout",
     "output_type": "stream",
     "text": [
      "688/938 [=====================>........] - ETA: 8s - loss: 0.4481 - accuracy: 0.7947"
     ]
    },
    {
     "name": "stderr",
     "output_type": "stream",
     "text": [
      "2021-09-20 13:19:41.303445: I tensorflow_io/core/kernels/kafka_kernels.cc:248] Kafka stream starts with current offset: 45056\n"
     ]
    },
    {
     "name": "stdout",
     "output_type": "stream",
     "text": [
      "704/938 [=====================>........] - ETA: 7s - loss: 0.4480 - accuracy: 0.7949"
     ]
    },
    {
     "name": "stderr",
     "output_type": "stream",
     "text": [
      "2021-09-20 13:19:41.804192: I tensorflow_io/core/kernels/kafka_kernels.cc:248] Kafka stream starts with current offset: 46080\n"
     ]
    },
    {
     "name": "stdout",
     "output_type": "stream",
     "text": [
      "720/938 [======================>.......] - ETA: 7s - loss: 0.4480 - accuracy: 0.7949"
     ]
    },
    {
     "name": "stderr",
     "output_type": "stream",
     "text": [
      "2021-09-20 13:19:42.307663: I tensorflow_io/core/kernels/kafka_kernels.cc:248] Kafka stream starts with current offset: 47104\n"
     ]
    },
    {
     "name": "stdout",
     "output_type": "stream",
     "text": [
      "736/938 [======================>.......] - ETA: 6s - loss: 0.4479 - accuracy: 0.7947"
     ]
    },
    {
     "name": "stderr",
     "output_type": "stream",
     "text": [
      "2021-09-20 13:19:42.819320: I tensorflow_io/core/kernels/kafka_kernels.cc:248] Kafka stream starts with current offset: 48128\n"
     ]
    },
    {
     "name": "stdout",
     "output_type": "stream",
     "text": [
      "752/938 [=======================>......] - ETA: 5s - loss: 0.4477 - accuracy: 0.7950"
     ]
    },
    {
     "name": "stderr",
     "output_type": "stream",
     "text": [
      "2021-09-20 13:19:43.327096: I tensorflow_io/core/kernels/kafka_kernels.cc:248] Kafka stream starts with current offset: 49152\n"
     ]
    },
    {
     "name": "stdout",
     "output_type": "stream",
     "text": [
      "768/938 [=======================>......] - ETA: 5s - loss: 0.4483 - accuracy: 0.7944"
     ]
    },
    {
     "name": "stderr",
     "output_type": "stream",
     "text": [
      "2021-09-20 13:19:43.832090: I tensorflow_io/core/kernels/kafka_kernels.cc:248] Kafka stream starts with current offset: 50176\n"
     ]
    },
    {
     "name": "stdout",
     "output_type": "stream",
     "text": [
      "784/938 [========================>.....] - ETA: 4s - loss: 0.4485 - accuracy: 0.7941"
     ]
    },
    {
     "name": "stderr",
     "output_type": "stream",
     "text": [
      "2021-09-20 13:19:44.365113: I tensorflow_io/core/kernels/kafka_kernels.cc:248] Kafka stream starts with current offset: 51200\n"
     ]
    },
    {
     "name": "stdout",
     "output_type": "stream",
     "text": [
      "800/938 [========================>.....] - ETA: 4s - loss: 0.4482 - accuracy: 0.7944"
     ]
    },
    {
     "name": "stderr",
     "output_type": "stream",
     "text": [
      "2021-09-20 13:19:44.863449: I tensorflow_io/core/kernels/kafka_kernels.cc:248] Kafka stream starts with current offset: 52224\n"
     ]
    },
    {
     "name": "stdout",
     "output_type": "stream",
     "text": [
      "816/938 [=========================>....] - ETA: 3s - loss: 0.4481 - accuracy: 0.7941"
     ]
    },
    {
     "name": "stderr",
     "output_type": "stream",
     "text": [
      "2021-09-20 13:19:45.364863: I tensorflow_io/core/kernels/kafka_kernels.cc:248] Kafka stream starts with current offset: 53248\n"
     ]
    },
    {
     "name": "stdout",
     "output_type": "stream",
     "text": [
      "844/938 [=========================>....] - ETA: 2s - loss: 0.4477 - accuracy: 0.7944"
     ]
    },
    {
     "name": "stderr",
     "output_type": "stream",
     "text": [
      "2021-09-20 13:19:45.914380: I tensorflow_io/core/kernels/kafka_kernels.cc:248] Kafka stream starts with current offset: 54272\n"
     ]
    },
    {
     "name": "stdout",
     "output_type": "stream",
     "text": [
      "848/938 [==========================>...] - ETA: 2s - loss: 0.4478 - accuracy: 0.7943"
     ]
    },
    {
     "name": "stderr",
     "output_type": "stream",
     "text": [
      "2021-09-20 13:19:46.416782: I tensorflow_io/core/kernels/kafka_kernels.cc:248] Kafka stream starts with current offset: 55296\n"
     ]
    },
    {
     "name": "stdout",
     "output_type": "stream",
     "text": [
      "864/938 [==========================>...] - ETA: 2s - loss: 0.4480 - accuracy: 0.7942"
     ]
    },
    {
     "name": "stderr",
     "output_type": "stream",
     "text": [
      "2021-09-20 13:19:46.923968: I tensorflow_io/core/kernels/kafka_kernels.cc:248] Kafka stream starts with current offset: 56320\n"
     ]
    },
    {
     "name": "stdout",
     "output_type": "stream",
     "text": [
      "880/938 [===========================>..] - ETA: 1s - loss: 0.4481 - accuracy: 0.7941"
     ]
    },
    {
     "name": "stderr",
     "output_type": "stream",
     "text": [
      "2021-09-20 13:19:47.430223: I tensorflow_io/core/kernels/kafka_kernels.cc:248] Kafka stream starts with current offset: 57344\n"
     ]
    },
    {
     "name": "stdout",
     "output_type": "stream",
     "text": [
      "896/938 [===========================>..] - ETA: 1s - loss: 0.4479 - accuracy: 0.7941"
     ]
    },
    {
     "name": "stderr",
     "output_type": "stream",
     "text": [
      "2021-09-20 13:19:47.906264: I tensorflow_io/core/kernels/kafka_kernels.cc:248] Kafka stream starts with current offset: 58368\n"
     ]
    },
    {
     "name": "stdout",
     "output_type": "stream",
     "text": [
      "912/938 [============================>.] - ETA: 0s - loss: 0.4476 - accuracy: 0.7942"
     ]
    },
    {
     "name": "stderr",
     "output_type": "stream",
     "text": [
      "2021-09-20 13:19:48.416790: I tensorflow_io/core/kernels/kafka_kernels.cc:248] Kafka stream starts with current offset: 59392\n"
     ]
    },
    {
     "name": "stdout",
     "output_type": "stream",
     "text": [
      "938/938 [==============================] - 30s 32ms/step - loss: 0.4468 - accuracy: 0.7948\n",
      "Epoch 6/10\n"
     ]
    },
    {
     "name": "stderr",
     "output_type": "stream",
     "text": [
      "2021-09-20 13:19:48.946502: I tensorflow_io/core/kernels/kafka_kernels.cc:248] Kafka stream starts with current offset: 0\n"
     ]
    },
    {
     "name": "stdout",
     "output_type": "stream",
     "text": [
      " 16/938 [..............................] - ETA: 3s - loss: 0.4446 - accuracy: 0.8008  "
     ]
    },
    {
     "name": "stderr",
     "output_type": "stream",
     "text": [
      "2021-09-20 13:19:49.443779: I tensorflow_io/core/kernels/kafka_kernels.cc:248] Kafka stream starts with current offset: 1024\n",
      "2021-09-20 13:19:49.477187: I tensorflow_io/core/kernels/kafka_kernels.cc:248] Kafka stream starts with current offset: 2048\n"
     ]
    },
    {
     "name": "stdout",
     "output_type": "stream",
     "text": [
      " 46/938 [>.............................] - ETA: 12s - loss: 0.4476 - accuracy: 0.7914"
     ]
    },
    {
     "name": "stderr",
     "output_type": "stream",
     "text": [
      "2021-09-20 13:19:50.039161: I tensorflow_io/core/kernels/kafka_kernels.cc:248] Kafka stream starts with current offset: 3072\n"
     ]
    },
    {
     "name": "stdout",
     "output_type": "stream",
     "text": [
      " 48/938 [>.............................] - ETA: 21s - loss: 0.4444 - accuracy: 0.7930"
     ]
    },
    {
     "name": "stderr",
     "output_type": "stream",
     "text": [
      "2021-09-20 13:19:50.591234: I tensorflow_io/core/kernels/kafka_kernels.cc:248] Kafka stream starts with current offset: 4096\n"
     ]
    },
    {
     "name": "stdout",
     "output_type": "stream",
     "text": [
      " 64/938 [=>............................] - ETA: 23s - loss: 0.4435 - accuracy: 0.7974"
     ]
    },
    {
     "name": "stderr",
     "output_type": "stream",
     "text": [
      "2021-09-20 13:19:51.146035: I tensorflow_io/core/kernels/kafka_kernels.cc:248] Kafka stream starts with current offset: 5120\n"
     ]
    },
    {
     "name": "stdout",
     "output_type": "stream",
     "text": [
      " 94/938 [==>...........................] - ETA: 20s - loss: 0.4477 - accuracy: 0.7902"
     ]
    },
    {
     "name": "stderr",
     "output_type": "stream",
     "text": [
      "2021-09-20 13:19:51.711892: I tensorflow_io/core/kernels/kafka_kernels.cc:248] Kafka stream starts with current offset: 6144\n"
     ]
    },
    {
     "name": "stdout",
     "output_type": "stream",
     "text": [
      "108/938 [==>...........................] - ETA: 22s - loss: 0.4498 - accuracy: 0.7904"
     ]
    },
    {
     "name": "stderr",
     "output_type": "stream",
     "text": [
      "2021-09-20 13:19:52.278246: I tensorflow_io/core/kernels/kafka_kernels.cc:248] Kafka stream starts with current offset: 7168\n"
     ]
    },
    {
     "name": "stdout",
     "output_type": "stream",
     "text": [
      "126/938 [===>..........................] - ETA: 22s - loss: 0.4474 - accuracy: 0.7924"
     ]
    },
    {
     "name": "stderr",
     "output_type": "stream",
     "text": [
      "2021-09-20 13:19:52.836827: I tensorflow_io/core/kernels/kafka_kernels.cc:248] Kafka stream starts with current offset: 8192\n"
     ]
    },
    {
     "name": "stdout",
     "output_type": "stream",
     "text": [
      "128/938 [===>..........................] - ETA: 25s - loss: 0.4464 - accuracy: 0.7925"
     ]
    },
    {
     "name": "stderr",
     "output_type": "stream",
     "text": [
      "2021-09-20 13:19:53.380832: I tensorflow_io/core/kernels/kafka_kernels.cc:248] Kafka stream starts with current offset: 9216\n"
     ]
    },
    {
     "name": "stdout",
     "output_type": "stream",
     "text": [
      "158/938 [====>.........................] - ETA: 22s - loss: 0.4429 - accuracy: 0.7949"
     ]
    },
    {
     "name": "stderr",
     "output_type": "stream",
     "text": [
      "2021-09-20 13:19:53.936032: I tensorflow_io/core/kernels/kafka_kernels.cc:248] Kafka stream starts with current offset: 10240\n"
     ]
    },
    {
     "name": "stdout",
     "output_type": "stream",
     "text": [
      "160/938 [====>.........................] - ETA: 24s - loss: 0.4434 - accuracy: 0.7948"
     ]
    },
    {
     "name": "stderr",
     "output_type": "stream",
     "text": [
      "2021-09-20 13:19:54.473658: I tensorflow_io/core/kernels/kafka_kernels.cc:248] Kafka stream starts with current offset: 11264\n"
     ]
    },
    {
     "name": "stdout",
     "output_type": "stream",
     "text": [
      "176/938 [====>.........................] - ETA: 24s - loss: 0.4438 - accuracy: 0.7947"
     ]
    },
    {
     "name": "stderr",
     "output_type": "stream",
     "text": [
      "2021-09-20 13:19:55.005867: I tensorflow_io/core/kernels/kafka_kernels.cc:248] Kafka stream starts with current offset: 12288\n"
     ]
    },
    {
     "name": "stdout",
     "output_type": "stream",
     "text": [
      "206/938 [=====>........................] - ETA: 22s - loss: 0.4452 - accuracy: 0.7950"
     ]
    },
    {
     "name": "stderr",
     "output_type": "stream",
     "text": [
      "2021-09-20 13:19:55.564817: I tensorflow_io/core/kernels/kafka_kernels.cc:248] Kafka stream starts with current offset: 13312\n"
     ]
    },
    {
     "name": "stdout",
     "output_type": "stream",
     "text": [
      "221/938 [======>.......................] - ETA: 21s - loss: 0.4446 - accuracy: 0.7955"
     ]
    },
    {
     "name": "stderr",
     "output_type": "stream",
     "text": [
      "2021-09-20 13:19:56.126088: I tensorflow_io/core/kernels/kafka_kernels.cc:248] Kafka stream starts with current offset: 14336\n"
     ]
    },
    {
     "name": "stdout",
     "output_type": "stream",
     "text": [
      "224/938 [======>.......................] - ETA: 23s - loss: 0.4440 - accuracy: 0.7961"
     ]
    },
    {
     "name": "stderr",
     "output_type": "stream",
     "text": [
      "2021-09-20 13:19:56.649342: I tensorflow_io/core/kernels/kafka_kernels.cc:248] Kafka stream starts with current offset: 15360\n"
     ]
    },
    {
     "name": "stdout",
     "output_type": "stream",
     "text": [
      "240/938 [======>.......................] - ETA: 22s - loss: 0.4434 - accuracy: 0.7962"
     ]
    },
    {
     "name": "stderr",
     "output_type": "stream",
     "text": [
      "2021-09-20 13:19:57.197141: I tensorflow_io/core/kernels/kafka_kernels.cc:248] Kafka stream starts with current offset: 16384\n"
     ]
    },
    {
     "name": "stdout",
     "output_type": "stream",
     "text": [
      "256/938 [=======>......................] - ETA: 22s - loss: 0.4444 - accuracy: 0.7961"
     ]
    },
    {
     "name": "stderr",
     "output_type": "stream",
     "text": [
      "2021-09-20 13:19:57.750186: I tensorflow_io/core/kernels/kafka_kernels.cc:248] Kafka stream starts with current offset: 17408\n"
     ]
    },
    {
     "name": "stdout",
     "output_type": "stream",
     "text": [
      "285/938 [========>.....................] - ETA: 20s - loss: 0.4433 - accuracy: 0.7966"
     ]
    },
    {
     "name": "stderr",
     "output_type": "stream",
     "text": [
      "2021-09-20 13:19:58.306560: I tensorflow_io/core/kernels/kafka_kernels.cc:248] Kafka stream starts with current offset: 18432\n"
     ]
    },
    {
     "name": "stdout",
     "output_type": "stream",
     "text": [
      "303/938 [========>.....................] - ETA: 19s - loss: 0.4444 - accuracy: 0.7963"
     ]
    },
    {
     "name": "stderr",
     "output_type": "stream",
     "text": [
      "2021-09-20 13:19:58.862529: I tensorflow_io/core/kernels/kafka_kernels.cc:248] Kafka stream starts with current offset: 19456\n"
     ]
    },
    {
     "name": "stdout",
     "output_type": "stream",
     "text": [
      "304/938 [========>.....................] - ETA: 20s - loss: 0.4442 - accuracy: 0.7965"
     ]
    },
    {
     "name": "stderr",
     "output_type": "stream",
     "text": [
      "2021-09-20 13:19:59.403034: I tensorflow_io/core/kernels/kafka_kernels.cc:248] Kafka stream starts with current offset: 20480\n"
     ]
    },
    {
     "name": "stdout",
     "output_type": "stream",
     "text": [
      "320/938 [=========>....................] - ETA: 20s - loss: 0.4448 - accuracy: 0.7959"
     ]
    },
    {
     "name": "stderr",
     "output_type": "stream",
     "text": [
      "2021-09-20 13:19:59.955365: I tensorflow_io/core/kernels/kafka_kernels.cc:248] Kafka stream starts with current offset: 21504\n"
     ]
    },
    {
     "name": "stdout",
     "output_type": "stream",
     "text": [
      "336/938 [=========>....................] - ETA: 19s - loss: 0.4434 - accuracy: 0.7969"
     ]
    },
    {
     "name": "stderr",
     "output_type": "stream",
     "text": [
      "2021-09-20 13:20:00.503857: I tensorflow_io/core/kernels/kafka_kernels.cc:248] Kafka stream starts with current offset: 22528\n"
     ]
    },
    {
     "name": "stdout",
     "output_type": "stream",
     "text": [
      "352/938 [==========>...................] - ETA: 19s - loss: 0.4425 - accuracy: 0.7974"
     ]
    },
    {
     "name": "stderr",
     "output_type": "stream",
     "text": [
      "2021-09-20 13:20:01.027029: I tensorflow_io/core/kernels/kafka_kernels.cc:248] Kafka stream starts with current offset: 23552\n"
     ]
    },
    {
     "name": "stdout",
     "output_type": "stream",
     "text": [
      "368/938 [==========>...................] - ETA: 18s - loss: 0.4428 - accuracy: 0.7973"
     ]
    },
    {
     "name": "stderr",
     "output_type": "stream",
     "text": [
      "2021-09-20 13:20:01.557400: I tensorflow_io/core/kernels/kafka_kernels.cc:248] Kafka stream starts with current offset: 24576\n"
     ]
    },
    {
     "name": "stdout",
     "output_type": "stream",
     "text": [
      "384/938 [===========>..................] - ETA: 18s - loss: 0.4441 - accuracy: 0.7964"
     ]
    },
    {
     "name": "stderr",
     "output_type": "stream",
     "text": [
      "2021-09-20 13:20:02.097118: I tensorflow_io/core/kernels/kafka_kernels.cc:248] Kafka stream starts with current offset: 25600\n"
     ]
    },
    {
     "name": "stdout",
     "output_type": "stream",
     "text": [
      "400/938 [===========>..................] - ETA: 17s - loss: 0.4454 - accuracy: 0.7950"
     ]
    },
    {
     "name": "stderr",
     "output_type": "stream",
     "text": [
      "2021-09-20 13:20:02.635262: I tensorflow_io/core/kernels/kafka_kernels.cc:248] Kafka stream starts with current offset: 26624\n"
     ]
    },
    {
     "name": "stdout",
     "output_type": "stream",
     "text": [
      "430/938 [============>.................] - ETA: 16s - loss: 0.4459 - accuracy: 0.7953"
     ]
    },
    {
     "name": "stderr",
     "output_type": "stream",
     "text": [
      "2021-09-20 13:20:03.185460: I tensorflow_io/core/kernels/kafka_kernels.cc:248] Kafka stream starts with current offset: 27648\n"
     ]
    },
    {
     "name": "stdout",
     "output_type": "stream",
     "text": [
      "432/938 [============>.................] - ETA: 16s - loss: 0.4457 - accuracy: 0.7953"
     ]
    },
    {
     "name": "stderr",
     "output_type": "stream",
     "text": [
      "2021-09-20 13:20:03.721285: I tensorflow_io/core/kernels/kafka_kernels.cc:248] Kafka stream starts with current offset: 28672\n"
     ]
    },
    {
     "name": "stdout",
     "output_type": "stream",
     "text": [
      "448/938 [=============>................] - ETA: 16s - loss: 0.4463 - accuracy: 0.7948"
     ]
    },
    {
     "name": "stderr",
     "output_type": "stream",
     "text": [
      "2021-09-20 13:20:04.259833: I tensorflow_io/core/kernels/kafka_kernels.cc:248] Kafka stream starts with current offset: 29696\n"
     ]
    },
    {
     "name": "stdout",
     "output_type": "stream",
     "text": [
      "479/938 [==============>...............] - ETA: 14s - loss: 0.4463 - accuracy: 0.7950"
     ]
    },
    {
     "name": "stderr",
     "output_type": "stream",
     "text": [
      "2021-09-20 13:20:04.809599: I tensorflow_io/core/kernels/kafka_kernels.cc:248] Kafka stream starts with current offset: 30720\n"
     ]
    },
    {
     "name": "stdout",
     "output_type": "stream",
     "text": [
      "480/938 [==============>...............] - ETA: 15s - loss: 0.4464 - accuracy: 0.7949"
     ]
    },
    {
     "name": "stderr",
     "output_type": "stream",
     "text": [
      "2021-09-20 13:20:05.347342: I tensorflow_io/core/kernels/kafka_kernels.cc:248] Kafka stream starts with current offset: 31744\n"
     ]
    },
    {
     "name": "stdout",
     "output_type": "stream",
     "text": [
      "509/938 [===============>..............] - ETA: 13s - loss: 0.4454 - accuracy: 0.7953"
     ]
    },
    {
     "name": "stderr",
     "output_type": "stream",
     "text": [
      "2021-09-20 13:20:05.894127: I tensorflow_io/core/kernels/kafka_kernels.cc:248] Kafka stream starts with current offset: 32768\n"
     ]
    },
    {
     "name": "stdout",
     "output_type": "stream",
     "text": [
      "512/938 [===============>..............] - ETA: 14s - loss: 0.4457 - accuracy: 0.7951"
     ]
    },
    {
     "name": "stderr",
     "output_type": "stream",
     "text": [
      "2021-09-20 13:20:06.426406: I tensorflow_io/core/kernels/kafka_kernels.cc:248] Kafka stream starts with current offset: 33792\n"
     ]
    },
    {
     "name": "stdout",
     "output_type": "stream",
     "text": [
      "528/938 [===============>..............] - ETA: 13s - loss: 0.4463 - accuracy: 0.7952"
     ]
    },
    {
     "name": "stderr",
     "output_type": "stream",
     "text": [
      "2021-09-20 13:20:06.939214: I tensorflow_io/core/kernels/kafka_kernels.cc:248] Kafka stream starts with current offset: 34816\n"
     ]
    },
    {
     "name": "stdout",
     "output_type": "stream",
     "text": [
      "544/938 [================>.............] - ETA: 13s - loss: 0.4468 - accuracy: 0.7950"
     ]
    },
    {
     "name": "stderr",
     "output_type": "stream",
     "text": [
      "2021-09-20 13:20:07.461286: I tensorflow_io/core/kernels/kafka_kernels.cc:248] Kafka stream starts with current offset: 35840\n"
     ]
    },
    {
     "name": "stdout",
     "output_type": "stream",
     "text": [
      "573/938 [=================>............] - ETA: 11s - loss: 0.4466 - accuracy: 0.7951"
     ]
    },
    {
     "name": "stderr",
     "output_type": "stream",
     "text": [
      "2021-09-20 13:20:08.014526: I tensorflow_io/core/kernels/kafka_kernels.cc:248] Kafka stream starts with current offset: 36864\n"
     ]
    },
    {
     "name": "stdout",
     "output_type": "stream",
     "text": [
      "576/938 [=================>............] - ETA: 12s - loss: 0.4467 - accuracy: 0.7950"
     ]
    },
    {
     "name": "stderr",
     "output_type": "stream",
     "text": [
      "2021-09-20 13:20:08.529539: I tensorflow_io/core/kernels/kafka_kernels.cc:248] Kafka stream starts with current offset: 37888\n"
     ]
    },
    {
     "name": "stdout",
     "output_type": "stream",
     "text": [
      "606/938 [==================>...........] - ETA: 10s - loss: 0.4461 - accuracy: 0.7953"
     ]
    },
    {
     "name": "stderr",
     "output_type": "stream",
     "text": [
      "2021-09-20 13:20:09.074613: I tensorflow_io/core/kernels/kafka_kernels.cc:248] Kafka stream starts with current offset: 38912\n"
     ]
    },
    {
     "name": "stdout",
     "output_type": "stream",
     "text": [
      "608/938 [==================>...........] - ETA: 10s - loss: 0.4460 - accuracy: 0.7955"
     ]
    },
    {
     "name": "stderr",
     "output_type": "stream",
     "text": [
      "2021-09-20 13:20:09.568477: I tensorflow_io/core/kernels/kafka_kernels.cc:248] Kafka stream starts with current offset: 39936\n"
     ]
    },
    {
     "name": "stdout",
     "output_type": "stream",
     "text": [
      "624/938 [==================>...........] - ETA: 10s - loss: 0.4470 - accuracy: 0.7950"
     ]
    },
    {
     "name": "stderr",
     "output_type": "stream",
     "text": [
      "2021-09-20 13:20:10.109804: I tensorflow_io/core/kernels/kafka_kernels.cc:248] Kafka stream starts with current offset: 40960\n"
     ]
    },
    {
     "name": "stdout",
     "output_type": "stream",
     "text": [
      "655/938 [===================>..........] - ETA: 9s - loss: 0.4471 - accuracy: 0.7952"
     ]
    },
    {
     "name": "stderr",
     "output_type": "stream",
     "text": [
      "2021-09-20 13:20:10.644753: I tensorflow_io/core/kernels/kafka_kernels.cc:248] Kafka stream starts with current offset: 41984\n"
     ]
    },
    {
     "name": "stdout",
     "output_type": "stream",
     "text": [
      "656/938 [===================>..........] - ETA: 9s - loss: 0.4472 - accuracy: 0.7953"
     ]
    },
    {
     "name": "stderr",
     "output_type": "stream",
     "text": [
      "2021-09-20 13:20:11.140645: I tensorflow_io/core/kernels/kafka_kernels.cc:248] Kafka stream starts with current offset: 43008\n"
     ]
    },
    {
     "name": "stdout",
     "output_type": "stream",
     "text": [
      "687/938 [====================>.........] - ETA: 8s - loss: 0.4478 - accuracy: 0.7950"
     ]
    },
    {
     "name": "stderr",
     "output_type": "stream",
     "text": [
      "2021-09-20 13:20:11.679692: I tensorflow_io/core/kernels/kafka_kernels.cc:248] Kafka stream starts with current offset: 44032\n"
     ]
    },
    {
     "name": "stdout",
     "output_type": "stream",
     "text": [
      "701/938 [=====================>........] - ETA: 7s - loss: 0.4475 - accuracy: 0.7952"
     ]
    },
    {
     "name": "stderr",
     "output_type": "stream",
     "text": [
      "2021-09-20 13:20:12.209954: I tensorflow_io/core/kernels/kafka_kernels.cc:248] Kafka stream starts with current offset: 45056\n"
     ]
    },
    {
     "name": "stdout",
     "output_type": "stream",
     "text": [
      "704/938 [=====================>........] - ETA: 7s - loss: 0.4475 - accuracy: 0.7953"
     ]
    },
    {
     "name": "stderr",
     "output_type": "stream",
     "text": [
      "2021-09-20 13:20:12.727476: I tensorflow_io/core/kernels/kafka_kernels.cc:248] Kafka stream starts with current offset: 46080\n"
     ]
    },
    {
     "name": "stdout",
     "output_type": "stream",
     "text": [
      "734/938 [======================>.......] - ETA: 6s - loss: 0.4471 - accuracy: 0.7954"
     ]
    },
    {
     "name": "stderr",
     "output_type": "stream",
     "text": [
      "2021-09-20 13:20:13.255299: I tensorflow_io/core/kernels/kafka_kernels.cc:248] Kafka stream starts with current offset: 47104\n"
     ]
    },
    {
     "name": "stdout",
     "output_type": "stream",
     "text": [
      "749/938 [======================>.......] - ETA: 6s - loss: 0.4471 - accuracy: 0.7953"
     ]
    },
    {
     "name": "stderr",
     "output_type": "stream",
     "text": [
      "2021-09-20 13:20:13.778672: I tensorflow_io/core/kernels/kafka_kernels.cc:248] Kafka stream starts with current offset: 48128\n"
     ]
    },
    {
     "name": "stdout",
     "output_type": "stream",
     "text": [
      "752/938 [=======================>......] - ETA: 6s - loss: 0.4471 - accuracy: 0.7953"
     ]
    },
    {
     "name": "stderr",
     "output_type": "stream",
     "text": [
      "2021-09-20 13:20:14.282069: I tensorflow_io/core/kernels/kafka_kernels.cc:248] Kafka stream starts with current offset: 49152\n"
     ]
    },
    {
     "name": "stdout",
     "output_type": "stream",
     "text": [
      "782/938 [========================>.....] - ETA: 5s - loss: 0.4478 - accuracy: 0.7948"
     ]
    },
    {
     "name": "stderr",
     "output_type": "stream",
     "text": [
      "2021-09-20 13:20:14.810149: I tensorflow_io/core/kernels/kafka_kernels.cc:248] Kafka stream starts with current offset: 50176\n"
     ]
    },
    {
     "name": "stdout",
     "output_type": "stream",
     "text": [
      "784/938 [========================>.....] - ETA: 5s - loss: 0.4476 - accuracy: 0.7948"
     ]
    },
    {
     "name": "stderr",
     "output_type": "stream",
     "text": [
      "2021-09-20 13:20:15.291303: I tensorflow_io/core/kernels/kafka_kernels.cc:248] Kafka stream starts with current offset: 51200\n"
     ]
    },
    {
     "name": "stdout",
     "output_type": "stream",
     "text": [
      "813/938 [=========================>....] - ETA: 4s - loss: 0.4467 - accuracy: 0.7952"
     ]
    },
    {
     "name": "stderr",
     "output_type": "stream",
     "text": [
      "2021-09-20 13:20:15.833589: I tensorflow_io/core/kernels/kafka_kernels.cc:248] Kafka stream starts with current offset: 52224\n"
     ]
    },
    {
     "name": "stdout",
     "output_type": "stream",
     "text": [
      "830/938 [=========================>....] - ETA: 3s - loss: 0.4467 - accuracy: 0.7950"
     ]
    },
    {
     "name": "stderr",
     "output_type": "stream",
     "text": [
      "2021-09-20 13:20:16.347731: I tensorflow_io/core/kernels/kafka_kernels.cc:248] Kafka stream starts with current offset: 53248\n"
     ]
    },
    {
     "name": "stdout",
     "output_type": "stream",
     "text": [
      "846/938 [==========================>...] - ETA: 2s - loss: 0.4465 - accuracy: 0.7952"
     ]
    },
    {
     "name": "stderr",
     "output_type": "stream",
     "text": [
      "2021-09-20 13:20:16.861840: I tensorflow_io/core/kernels/kafka_kernels.cc:248] Kafka stream starts with current offset: 54272\n"
     ]
    },
    {
     "name": "stdout",
     "output_type": "stream",
     "text": [
      "848/938 [==========================>...] - ETA: 2s - loss: 0.4465 - accuracy: 0.7951"
     ]
    },
    {
     "name": "stderr",
     "output_type": "stream",
     "text": [
      "2021-09-20 13:20:17.348512: I tensorflow_io/core/kernels/kafka_kernels.cc:248] Kafka stream starts with current offset: 55296\n"
     ]
    },
    {
     "name": "stdout",
     "output_type": "stream",
     "text": [
      "864/938 [==========================>...] - ETA: 2s - loss: 0.4467 - accuracy: 0.7951"
     ]
    },
    {
     "name": "stderr",
     "output_type": "stream",
     "text": [
      "2021-09-20 13:20:17.880921: I tensorflow_io/core/kernels/kafka_kernels.cc:248] Kafka stream starts with current offset: 56320\n"
     ]
    },
    {
     "name": "stdout",
     "output_type": "stream",
     "text": [
      "894/938 [===========================>..] - ETA: 1s - loss: 0.4468 - accuracy: 0.7951"
     ]
    },
    {
     "name": "stderr",
     "output_type": "stream",
     "text": [
      "2021-09-20 13:20:18.389816: I tensorflow_io/core/kernels/kafka_kernels.cc:248] Kafka stream starts with current offset: 57344\n"
     ]
    },
    {
     "name": "stdout",
     "output_type": "stream",
     "text": [
      "910/938 [============================>.] - ETA: 0s - loss: 0.4467 - accuracy: 0.7951"
     ]
    },
    {
     "name": "stderr",
     "output_type": "stream",
     "text": [
      "2021-09-20 13:20:18.897300: I tensorflow_io/core/kernels/kafka_kernels.cc:248] Kafka stream starts with current offset: 58368\n"
     ]
    },
    {
     "name": "stdout",
     "output_type": "stream",
     "text": [
      "924/938 [============================>.] - ETA: 0s - loss: 0.4463 - accuracy: 0.7953"
     ]
    },
    {
     "name": "stderr",
     "output_type": "stream",
     "text": [
      "2021-09-20 13:20:19.405711: I tensorflow_io/core/kernels/kafka_kernels.cc:248] Kafka stream starts with current offset: 59392\n"
     ]
    },
    {
     "name": "stdout",
     "output_type": "stream",
     "text": [
      "938/938 [==============================] - 31s 33ms/step - loss: 0.4458 - accuracy: 0.7955\n",
      "Epoch 7/10\n"
     ]
    },
    {
     "name": "stderr",
     "output_type": "stream",
     "text": [
      "2021-09-20 13:20:19.916571: I tensorflow_io/core/kernels/kafka_kernels.cc:248] Kafka stream starts with current offset: 0\n"
     ]
    },
    {
     "name": "stdout",
     "output_type": "stream",
     "text": [
      " 29/938 [..............................] - ETA: 1s - loss: 0.4381 - accuracy: 0.7926  "
     ]
    },
    {
     "name": "stderr",
     "output_type": "stream",
     "text": [
      "2021-09-20 13:20:20.379759: I tensorflow_io/core/kernels/kafka_kernels.cc:248] Kafka stream starts with current offset: 1024\n",
      "2021-09-20 13:20:20.412656: I tensorflow_io/core/kernels/kafka_kernels.cc:248] Kafka stream starts with current offset: 2048\n"
     ]
    },
    {
     "name": "stdout",
     "output_type": "stream",
     "text": [
      " 32/938 [>.............................] - ETA: 16s - loss: 0.4387 - accuracy: 0.7910"
     ]
    },
    {
     "name": "stderr",
     "output_type": "stream",
     "text": [
      "2021-09-20 13:20:20.948442: I tensorflow_io/core/kernels/kafka_kernels.cc:248] Kafka stream starts with current offset: 3072\n"
     ]
    },
    {
     "name": "stdout",
     "output_type": "stream",
     "text": [
      " 48/938 [>.............................] - ETA: 20s - loss: 0.4422 - accuracy: 0.7900"
     ]
    },
    {
     "name": "stderr",
     "output_type": "stream",
     "text": [
      "2021-09-20 13:20:21.504471: I tensorflow_io/core/kernels/kafka_kernels.cc:248] Kafka stream starts with current offset: 4096\n"
     ]
    },
    {
     "name": "stdout",
     "output_type": "stream",
     "text": [
      " 76/938 [=>............................] - ETA: 19s - loss: 0.4434 - accuracy: 0.7961"
     ]
    },
    {
     "name": "stderr",
     "output_type": "stream",
     "text": [
      "2021-09-20 13:20:22.072011: I tensorflow_io/core/kernels/kafka_kernels.cc:248] Kafka stream starts with current offset: 5120\n"
     ]
    },
    {
     "name": "stdout",
     "output_type": "stream",
     "text": [
      " 80/938 [=>............................] - ETA: 24s - loss: 0.4435 - accuracy: 0.7953"
     ]
    },
    {
     "name": "stderr",
     "output_type": "stream",
     "text": [
      "2021-09-20 13:20:22.605948: I tensorflow_io/core/kernels/kafka_kernels.cc:248] Kafka stream starts with current offset: 6144\n"
     ]
    },
    {
     "name": "stdout",
     "output_type": "stream",
     "text": [
      "108/938 [==>...........................] - ETA: 21s - loss: 0.4481 - accuracy: 0.7924"
     ]
    },
    {
     "name": "stderr",
     "output_type": "stream",
     "text": [
      "2021-09-20 13:20:23.171226: I tensorflow_io/core/kernels/kafka_kernels.cc:248] Kafka stream starts with current offset: 7168\n"
     ]
    },
    {
     "name": "stdout",
     "output_type": "stream",
     "text": [
      "112/938 [==>...........................] - ETA: 24s - loss: 0.4487 - accuracy: 0.7914"
     ]
    },
    {
     "name": "stderr",
     "output_type": "stream",
     "text": [
      "2021-09-20 13:20:23.693720: I tensorflow_io/core/kernels/kafka_kernels.cc:248] Kafka stream starts with current offset: 8192\n"
     ]
    },
    {
     "name": "stdout",
     "output_type": "stream",
     "text": [
      "142/938 [===>..........................] - ETA: 21s - loss: 0.4455 - accuracy: 0.7945"
     ]
    },
    {
     "name": "stderr",
     "output_type": "stream",
     "text": [
      "2021-09-20 13:20:24.254171: I tensorflow_io/core/kernels/kafka_kernels.cc:248] Kafka stream starts with current offset: 9216\n"
     ]
    },
    {
     "name": "stdout",
     "output_type": "stream",
     "text": [
      "144/938 [===>..........................] - ETA: 24s - loss: 0.4443 - accuracy: 0.7955"
     ]
    },
    {
     "name": "stderr",
     "output_type": "stream",
     "text": [
      "2021-09-20 13:20:24.804606: I tensorflow_io/core/kernels/kafka_kernels.cc:248] Kafka stream starts with current offset: 10240\n"
     ]
    },
    {
     "name": "stdout",
     "output_type": "stream",
     "text": [
      "160/938 [====>.........................] - ETA: 24s - loss: 0.4411 - accuracy: 0.7965"
     ]
    },
    {
     "name": "stderr",
     "output_type": "stream",
     "text": [
      "2021-09-20 13:20:25.337113: I tensorflow_io/core/kernels/kafka_kernels.cc:248] Kafka stream starts with current offset: 11264\n"
     ]
    },
    {
     "name": "stdout",
     "output_type": "stream",
     "text": [
      "176/938 [====>.........................] - ETA: 23s - loss: 0.4411 - accuracy: 0.7963"
     ]
    },
    {
     "name": "stderr",
     "output_type": "stream",
     "text": [
      "2021-09-20 13:20:25.885579: I tensorflow_io/core/kernels/kafka_kernels.cc:248] Kafka stream starts with current offset: 12288\n"
     ]
    },
    {
     "name": "stdout",
     "output_type": "stream",
     "text": [
      "207/938 [=====>........................] - ETA: 21s - loss: 0.4429 - accuracy: 0.7969"
     ]
    },
    {
     "name": "stderr",
     "output_type": "stream",
     "text": [
      "2021-09-20 13:20:26.441101: I tensorflow_io/core/kernels/kafka_kernels.cc:248] Kafka stream starts with current offset: 13312\n"
     ]
    },
    {
     "name": "stdout",
     "output_type": "stream",
     "text": [
      "223/938 [======>.......................] - ETA: 21s - loss: 0.4415 - accuracy: 0.7978"
     ]
    },
    {
     "name": "stderr",
     "output_type": "stream",
     "text": [
      "2021-09-20 13:20:26.997986: I tensorflow_io/core/kernels/kafka_kernels.cc:248] Kafka stream starts with current offset: 14336\n"
     ]
    },
    {
     "name": "stdout",
     "output_type": "stream",
     "text": [
      "224/938 [======>.......................] - ETA: 22s - loss: 0.4417 - accuracy: 0.7978"
     ]
    },
    {
     "name": "stderr",
     "output_type": "stream",
     "text": [
      "2021-09-20 13:20:27.543500: I tensorflow_io/core/kernels/kafka_kernels.cc:248] Kafka stream starts with current offset: 15360\n"
     ]
    },
    {
     "name": "stdout",
     "output_type": "stream",
     "text": [
      "240/938 [======>.......................] - ETA: 22s - loss: 0.4407 - accuracy: 0.7980"
     ]
    },
    {
     "name": "stderr",
     "output_type": "stream",
     "text": [
      "2021-09-20 13:20:28.097634: I tensorflow_io/core/kernels/kafka_kernels.cc:248] Kafka stream starts with current offset: 16384\n"
     ]
    },
    {
     "name": "stdout",
     "output_type": "stream",
     "text": [
      "256/938 [=======>......................] - ETA: 22s - loss: 0.4427 - accuracy: 0.7967"
     ]
    },
    {
     "name": "stderr",
     "output_type": "stream",
     "text": [
      "2021-09-20 13:20:28.649344: I tensorflow_io/core/kernels/kafka_kernels.cc:248] Kafka stream starts with current offset: 17408\n"
     ]
    },
    {
     "name": "stdout",
     "output_type": "stream",
     "text": [
      "272/938 [=======>......................] - ETA: 21s - loss: 0.4419 - accuracy: 0.7977"
     ]
    },
    {
     "name": "stderr",
     "output_type": "stream",
     "text": [
      "2021-09-20 13:20:29.200744: I tensorflow_io/core/kernels/kafka_kernels.cc:248] Kafka stream starts with current offset: 18432\n"
     ]
    },
    {
     "name": "stdout",
     "output_type": "stream",
     "text": [
      "302/938 [========>.....................] - ETA: 19s - loss: 0.4421 - accuracy: 0.7979"
     ]
    },
    {
     "name": "stderr",
     "output_type": "stream",
     "text": [
      "2021-09-20 13:20:29.757442: I tensorflow_io/core/kernels/kafka_kernels.cc:248] Kafka stream starts with current offset: 19456\n"
     ]
    },
    {
     "name": "stdout",
     "output_type": "stream",
     "text": [
      "319/938 [=========>....................] - ETA: 19s - loss: 0.4418 - accuracy: 0.7982"
     ]
    },
    {
     "name": "stderr",
     "output_type": "stream",
     "text": [
      "2021-09-20 13:20:30.305479: I tensorflow_io/core/kernels/kafka_kernels.cc:248] Kafka stream starts with current offset: 20480\n"
     ]
    },
    {
     "name": "stdout",
     "output_type": "stream",
     "text": [
      "332/938 [=========>....................] - ETA: 19s - loss: 0.4408 - accuracy: 0.7986"
     ]
    },
    {
     "name": "stderr",
     "output_type": "stream",
     "text": [
      "2021-09-20 13:20:30.861909: I tensorflow_io/core/kernels/kafka_kernels.cc:248] Kafka stream starts with current offset: 21504\n"
     ]
    },
    {
     "name": "stdout",
     "output_type": "stream",
     "text": [
      "351/938 [==========>...................] - ETA: 18s - loss: 0.4397 - accuracy: 0.7991"
     ]
    },
    {
     "name": "stderr",
     "output_type": "stream",
     "text": [
      "2021-09-20 13:20:31.409878: I tensorflow_io/core/kernels/kafka_kernels.cc:248] Kafka stream starts with current offset: 22528\n"
     ]
    },
    {
     "name": "stdout",
     "output_type": "stream",
     "text": [
      "366/938 [==========>...................] - ETA: 18s - loss: 0.4405 - accuracy: 0.7986"
     ]
    },
    {
     "name": "stderr",
     "output_type": "stream",
     "text": [
      "2021-09-20 13:20:31.962922: I tensorflow_io/core/kernels/kafka_kernels.cc:248] Kafka stream starts with current offset: 23552\n"
     ]
    },
    {
     "name": "stdout",
     "output_type": "stream",
     "text": [
      "368/938 [==========>...................] - ETA: 18s - loss: 0.4406 - accuracy: 0.7984"
     ]
    },
    {
     "name": "stderr",
     "output_type": "stream",
     "text": [
      "2021-09-20 13:20:32.482042: I tensorflow_io/core/kernels/kafka_kernels.cc:248] Kafka stream starts with current offset: 24576\n"
     ]
    },
    {
     "name": "stdout",
     "output_type": "stream",
     "text": [
      "384/938 [===========>..................] - ETA: 18s - loss: 0.4419 - accuracy: 0.7977"
     ]
    },
    {
     "name": "stderr",
     "output_type": "stream",
     "text": [
      "2021-09-20 13:20:33.017902: I tensorflow_io/core/kernels/kafka_kernels.cc:248] Kafka stream starts with current offset: 25600\n"
     ]
    },
    {
     "name": "stdout",
     "output_type": "stream",
     "text": [
      "400/938 [===========>..................] - ETA: 17s - loss: 0.4427 - accuracy: 0.7966"
     ]
    },
    {
     "name": "stderr",
     "output_type": "stream",
     "text": [
      "2021-09-20 13:20:33.529201: I tensorflow_io/core/kernels/kafka_kernels.cc:248] Kafka stream starts with current offset: 26624\n"
     ]
    },
    {
     "name": "stdout",
     "output_type": "stream",
     "text": [
      "416/938 [============>.................] - ETA: 17s - loss: 0.4426 - accuracy: 0.7968"
     ]
    },
    {
     "name": "stderr",
     "output_type": "stream",
     "text": [
      "2021-09-20 13:20:34.054487: I tensorflow_io/core/kernels/kafka_kernels.cc:248] Kafka stream starts with current offset: 27648\n"
     ]
    },
    {
     "name": "stdout",
     "output_type": "stream",
     "text": [
      "432/938 [============>.................] - ETA: 16s - loss: 0.4427 - accuracy: 0.7968"
     ]
    },
    {
     "name": "stderr",
     "output_type": "stream",
     "text": [
      "2021-09-20 13:20:34.577593: I tensorflow_io/core/kernels/kafka_kernels.cc:248] Kafka stream starts with current offset: 28672\n"
     ]
    },
    {
     "name": "stdout",
     "output_type": "stream",
     "text": [
      "463/938 [=============>................] - ETA: 15s - loss: 0.4429 - accuracy: 0.7964"
     ]
    },
    {
     "name": "stderr",
     "output_type": "stream",
     "text": [
      "2021-09-20 13:20:35.129795: I tensorflow_io/core/kernels/kafka_kernels.cc:248] Kafka stream starts with current offset: 29696\n"
     ]
    },
    {
     "name": "stdout",
     "output_type": "stream",
     "text": [
      "464/938 [=============>................] - ETA: 15s - loss: 0.4433 - accuracy: 0.7962"
     ]
    },
    {
     "name": "stderr",
     "output_type": "stream",
     "text": [
      "2021-09-20 13:20:35.671411: I tensorflow_io/core/kernels/kafka_kernels.cc:248] Kafka stream starts with current offset: 30720\n"
     ]
    },
    {
     "name": "stdout",
     "output_type": "stream",
     "text": [
      "494/938 [==============>...............] - ETA: 14s - loss: 0.4438 - accuracy: 0.7959"
     ]
    },
    {
     "name": "stderr",
     "output_type": "stream",
     "text": [
      "2021-09-20 13:20:36.216781: I tensorflow_io/core/kernels/kafka_kernels.cc:248] Kafka stream starts with current offset: 31744\n"
     ]
    },
    {
     "name": "stdout",
     "output_type": "stream",
     "text": [
      "496/938 [==============>...............] - ETA: 14s - loss: 0.4436 - accuracy: 0.7960"
     ]
    },
    {
     "name": "stderr",
     "output_type": "stream",
     "text": [
      "2021-09-20 13:20:36.727643: I tensorflow_io/core/kernels/kafka_kernels.cc:248] Kafka stream starts with current offset: 32768\n"
     ]
    },
    {
     "name": "stdout",
     "output_type": "stream",
     "text": [
      "512/938 [===============>..............] - ETA: 14s - loss: 0.4434 - accuracy: 0.7963"
     ]
    },
    {
     "name": "stderr",
     "output_type": "stream",
     "text": [
      "2021-09-20 13:20:37.273855: I tensorflow_io/core/kernels/kafka_kernels.cc:248] Kafka stream starts with current offset: 33792\n"
     ]
    },
    {
     "name": "stdout",
     "output_type": "stream",
     "text": [
      "528/938 [===============>..............] - ETA: 13s - loss: 0.4441 - accuracy: 0.7958"
     ]
    },
    {
     "name": "stderr",
     "output_type": "stream",
     "text": [
      "2021-09-20 13:20:37.814504: I tensorflow_io/core/kernels/kafka_kernels.cc:248] Kafka stream starts with current offset: 34816\n"
     ]
    },
    {
     "name": "stdout",
     "output_type": "stream",
     "text": [
      "544/938 [================>.............] - ETA: 13s - loss: 0.4444 - accuracy: 0.7953"
     ]
    },
    {
     "name": "stderr",
     "output_type": "stream",
     "text": [
      "2021-09-20 13:20:38.354277: I tensorflow_io/core/kernels/kafka_kernels.cc:248] Kafka stream starts with current offset: 35840\n"
     ]
    },
    {
     "name": "stdout",
     "output_type": "stream",
     "text": [
      "560/938 [================>.............] - ETA: 12s - loss: 0.4446 - accuracy: 0.7951"
     ]
    },
    {
     "name": "stderr",
     "output_type": "stream",
     "text": [
      "2021-09-20 13:20:38.890477: I tensorflow_io/core/kernels/kafka_kernels.cc:248] Kafka stream starts with current offset: 36864\n"
     ]
    },
    {
     "name": "stdout",
     "output_type": "stream",
     "text": [
      "591/938 [=================>............] - ETA: 11s - loss: 0.4443 - accuracy: 0.7953"
     ]
    },
    {
     "name": "stderr",
     "output_type": "stream",
     "text": [
      "2021-09-20 13:20:39.427860: I tensorflow_io/core/kernels/kafka_kernels.cc:248] Kafka stream starts with current offset: 37888\n"
     ]
    },
    {
     "name": "stdout",
     "output_type": "stream",
     "text": [
      "607/938 [==================>...........] - ETA: 10s - loss: 0.4436 - accuracy: 0.7954"
     ]
    },
    {
     "name": "stderr",
     "output_type": "stream",
     "text": [
      "2021-09-20 13:20:39.963059: I tensorflow_io/core/kernels/kafka_kernels.cc:248] Kafka stream starts with current offset: 38912\n"
     ]
    },
    {
     "name": "stdout",
     "output_type": "stream",
     "text": [
      "608/938 [==================>...........] - ETA: 10s - loss: 0.4435 - accuracy: 0.7955"
     ]
    },
    {
     "name": "stderr",
     "output_type": "stream",
     "text": [
      "2021-09-20 13:20:40.471931: I tensorflow_io/core/kernels/kafka_kernels.cc:248] Kafka stream starts with current offset: 39936\n"
     ]
    },
    {
     "name": "stdout",
     "output_type": "stream",
     "text": [
      "624/938 [==================>...........] - ETA: 10s - loss: 0.4443 - accuracy: 0.7950"
     ]
    },
    {
     "name": "stderr",
     "output_type": "stream",
     "text": [
      "2021-09-20 13:20:40.991837: I tensorflow_io/core/kernels/kafka_kernels.cc:248] Kafka stream starts with current offset: 40960\n"
     ]
    },
    {
     "name": "stdout",
     "output_type": "stream",
     "text": [
      "640/938 [===================>..........] - ETA: 9s - loss: 0.4447 - accuracy: 0.7950 "
     ]
    },
    {
     "name": "stderr",
     "output_type": "stream",
     "text": [
      "2021-09-20 13:20:41.538351: I tensorflow_io/core/kernels/kafka_kernels.cc:248] Kafka stream starts with current offset: 41984\n"
     ]
    },
    {
     "name": "stdout",
     "output_type": "stream",
     "text": [
      "656/938 [===================>..........] - ETA: 9s - loss: 0.4449 - accuracy: 0.7950"
     ]
    },
    {
     "name": "stderr",
     "output_type": "stream",
     "text": [
      "2021-09-20 13:20:42.041619: I tensorflow_io/core/kernels/kafka_kernels.cc:248] Kafka stream starts with current offset: 43008\n"
     ]
    },
    {
     "name": "stdout",
     "output_type": "stream",
     "text": [
      "672/938 [====================>.........] - ETA: 8s - loss: 0.4449 - accuracy: 0.7948"
     ]
    },
    {
     "name": "stderr",
     "output_type": "stream",
     "text": [
      "2021-09-20 13:20:42.548222: I tensorflow_io/core/kernels/kafka_kernels.cc:248] Kafka stream starts with current offset: 44032\n"
     ]
    },
    {
     "name": "stdout",
     "output_type": "stream",
     "text": [
      "688/938 [=====================>........] - ETA: 8s - loss: 0.4459 - accuracy: 0.7944"
     ]
    },
    {
     "name": "stderr",
     "output_type": "stream",
     "text": [
      "2021-09-20 13:20:43.085996: I tensorflow_io/core/kernels/kafka_kernels.cc:248] Kafka stream starts with current offset: 45056\n"
     ]
    },
    {
     "name": "stdout",
     "output_type": "stream",
     "text": [
      "704/938 [=====================>........] - ETA: 7s - loss: 0.4453 - accuracy: 0.7947"
     ]
    },
    {
     "name": "stderr",
     "output_type": "stream",
     "text": [
      "2021-09-20 13:20:43.588109: I tensorflow_io/core/kernels/kafka_kernels.cc:248] Kafka stream starts with current offset: 46080\n"
     ]
    },
    {
     "name": "stdout",
     "output_type": "stream",
     "text": [
      "720/938 [======================>.......] - ETA: 7s - loss: 0.4451 - accuracy: 0.7949"
     ]
    },
    {
     "name": "stderr",
     "output_type": "stream",
     "text": [
      "2021-09-20 13:20:44.102430: I tensorflow_io/core/kernels/kafka_kernels.cc:248] Kafka stream starts with current offset: 47104\n"
     ]
    },
    {
     "name": "stdout",
     "output_type": "stream",
     "text": [
      "736/938 [======================>.......] - ETA: 6s - loss: 0.4448 - accuracy: 0.7950"
     ]
    },
    {
     "name": "stderr",
     "output_type": "stream",
     "text": [
      "2021-09-20 13:20:44.643397: I tensorflow_io/core/kernels/kafka_kernels.cc:248] Kafka stream starts with current offset: 48128\n"
     ]
    },
    {
     "name": "stdout",
     "output_type": "stream",
     "text": [
      "767/938 [=======================>......] - ETA: 5s - loss: 0.4454 - accuracy: 0.7941"
     ]
    },
    {
     "name": "stderr",
     "output_type": "stream",
     "text": [
      "2021-09-20 13:20:45.166983: I tensorflow_io/core/kernels/kafka_kernels.cc:248] Kafka stream starts with current offset: 49152\n"
     ]
    },
    {
     "name": "stdout",
     "output_type": "stream",
     "text": [
      "768/938 [=======================>......] - ETA: 5s - loss: 0.4455 - accuracy: 0.7941"
     ]
    },
    {
     "name": "stderr",
     "output_type": "stream",
     "text": [
      "2021-09-20 13:20:45.680933: I tensorflow_io/core/kernels/kafka_kernels.cc:248] Kafka stream starts with current offset: 50176\n"
     ]
    },
    {
     "name": "stdout",
     "output_type": "stream",
     "text": [
      "799/938 [========================>.....] - ETA: 4s - loss: 0.4452 - accuracy: 0.7943"
     ]
    },
    {
     "name": "stderr",
     "output_type": "stream",
     "text": [
      "2021-09-20 13:20:46.205329: I tensorflow_io/core/kernels/kafka_kernels.cc:248] Kafka stream starts with current offset: 51200\n"
     ]
    },
    {
     "name": "stdout",
     "output_type": "stream",
     "text": [
      "800/938 [========================>.....] - ETA: 4s - loss: 0.4453 - accuracy: 0.7942"
     ]
    },
    {
     "name": "stderr",
     "output_type": "stream",
     "text": [
      "2021-09-20 13:20:46.718779: I tensorflow_io/core/kernels/kafka_kernels.cc:248] Kafka stream starts with current offset: 52224\n"
     ]
    },
    {
     "name": "stdout",
     "output_type": "stream",
     "text": [
      "816/938 [=========================>....] - ETA: 4s - loss: 0.4450 - accuracy: 0.7941"
     ]
    },
    {
     "name": "stderr",
     "output_type": "stream",
     "text": [
      "2021-09-20 13:20:47.245204: I tensorflow_io/core/kernels/kafka_kernels.cc:248] Kafka stream starts with current offset: 53248\n"
     ]
    },
    {
     "name": "stdout",
     "output_type": "stream",
     "text": [
      "846/938 [==========================>...] - ETA: 2s - loss: 0.4446 - accuracy: 0.7945"
     ]
    },
    {
     "name": "stderr",
     "output_type": "stream",
     "text": [
      "2021-09-20 13:20:47.761190: I tensorflow_io/core/kernels/kafka_kernels.cc:248] Kafka stream starts with current offset: 54272\n"
     ]
    },
    {
     "name": "stdout",
     "output_type": "stream",
     "text": [
      "848/938 [==========================>...] - ETA: 2s - loss: 0.4447 - accuracy: 0.7943"
     ]
    },
    {
     "name": "stderr",
     "output_type": "stream",
     "text": [
      "2021-09-20 13:20:48.265257: I tensorflow_io/core/kernels/kafka_kernels.cc:248] Kafka stream starts with current offset: 55296\n"
     ]
    },
    {
     "name": "stdout",
     "output_type": "stream",
     "text": [
      "864/938 [==========================>...] - ETA: 2s - loss: 0.4449 - accuracy: 0.7942"
     ]
    },
    {
     "name": "stderr",
     "output_type": "stream",
     "text": [
      "2021-09-20 13:20:48.775827: I tensorflow_io/core/kernels/kafka_kernels.cc:248] Kafka stream starts with current offset: 56320\n"
     ]
    },
    {
     "name": "stdout",
     "output_type": "stream",
     "text": [
      "880/938 [===========================>..] - ETA: 1s - loss: 0.4451 - accuracy: 0.7943"
     ]
    },
    {
     "name": "stderr",
     "output_type": "stream",
     "text": [
      "2021-09-20 13:20:49.285464: I tensorflow_io/core/kernels/kafka_kernels.cc:248] Kafka stream starts with current offset: 57344\n"
     ]
    },
    {
     "name": "stdout",
     "output_type": "stream",
     "text": [
      "896/938 [===========================>..] - ETA: 1s - loss: 0.4450 - accuracy: 0.7944"
     ]
    },
    {
     "name": "stderr",
     "output_type": "stream",
     "text": [
      "2021-09-20 13:20:49.790776: I tensorflow_io/core/kernels/kafka_kernels.cc:248] Kafka stream starts with current offset: 58368\n"
     ]
    },
    {
     "name": "stdout",
     "output_type": "stream",
     "text": [
      "912/938 [============================>.] - ETA: 0s - loss: 0.4448 - accuracy: 0.7944"
     ]
    },
    {
     "name": "stderr",
     "output_type": "stream",
     "text": [
      "2021-09-20 13:20:50.292049: I tensorflow_io/core/kernels/kafka_kernels.cc:248] Kafka stream starts with current offset: 59392\n"
     ]
    },
    {
     "name": "stdout",
     "output_type": "stream",
     "text": [
      "938/938 [==============================] - 31s 32ms/step - loss: 0.4439 - accuracy: 0.7948\n",
      "Epoch 8/10\n"
     ]
    },
    {
     "name": "stderr",
     "output_type": "stream",
     "text": [
      "2021-09-20 13:20:50.812829: I tensorflow_io/core/kernels/kafka_kernels.cc:248] Kafka stream starts with current offset: 0\n"
     ]
    },
    {
     "name": "stdout",
     "output_type": "stream",
     "text": [
      " 57/938 [>.............................] - ETA: 1s - loss: 0.4429 - accuracy: 0.7963"
     ]
    },
    {
     "name": "stderr",
     "output_type": "stream",
     "text": [
      "2021-09-20 13:20:51.278688: I tensorflow_io/core/kernels/kafka_kernels.cc:248] Kafka stream starts with current offset: 1024\n",
      "2021-09-20 13:20:51.307274: I tensorflow_io/core/kernels/kafka_kernels.cc:248] Kafka stream starts with current offset: 2048\n",
      "2021-09-20 13:20:51.336291: I tensorflow_io/core/kernels/kafka_kernels.cc:248] Kafka stream starts with current offset: 3072\n",
      "2021-09-20 13:20:51.364519: I tensorflow_io/core/kernels/kafka_kernels.cc:248] Kafka stream starts with current offset: 4096\n",
      "2021-09-20 13:20:51.395232: I tensorflow_io/core/kernels/kafka_kernels.cc:248] Kafka stream starts with current offset: 5120\n"
     ]
    },
    {
     "name": "stdout",
     "output_type": "stream",
     "text": [
      " 80/938 [=>............................] - ETA: 7s - loss: 0.4429 - accuracy: 0.7969"
     ]
    },
    {
     "name": "stderr",
     "output_type": "stream",
     "text": [
      "2021-09-20 13:20:51.929221: I tensorflow_io/core/kernels/kafka_kernels.cc:248] Kafka stream starts with current offset: 6144\n"
     ]
    },
    {
     "name": "stdout",
     "output_type": "stream",
     "text": [
      " 96/938 [==>...........................] - ETA: 10s - loss: 0.4489 - accuracy: 0.7907"
     ]
    },
    {
     "name": "stderr",
     "output_type": "stream",
     "text": [
      "2021-09-20 13:20:52.488710: I tensorflow_io/core/kernels/kafka_kernels.cc:248] Kafka stream starts with current offset: 7168\n"
     ]
    },
    {
     "name": "stdout",
     "output_type": "stream",
     "text": [
      "112/938 [==>...........................] - ETA: 13s - loss: 0.4476 - accuracy: 0.7926"
     ]
    },
    {
     "name": "stderr",
     "output_type": "stream",
     "text": [
      "2021-09-20 13:20:53.050997: I tensorflow_io/core/kernels/kafka_kernels.cc:248] Kafka stream starts with current offset: 8192\n"
     ]
    },
    {
     "name": "stdout",
     "output_type": "stream",
     "text": [
      "128/938 [===>..........................] - ETA: 14s - loss: 0.4449 - accuracy: 0.7936"
     ]
    },
    {
     "name": "stderr",
     "output_type": "stream",
     "text": [
      "2021-09-20 13:20:53.587114: I tensorflow_io/core/kernels/kafka_kernels.cc:248] Kafka stream starts with current offset: 9216\n"
     ]
    },
    {
     "name": "stdout",
     "output_type": "stream",
     "text": [
      "144/938 [===>..........................] - ETA: 15s - loss: 0.4437 - accuracy: 0.7956"
     ]
    },
    {
     "name": "stderr",
     "output_type": "stream",
     "text": [
      "2021-09-20 13:20:54.141463: I tensorflow_io/core/kernels/kafka_kernels.cc:248] Kafka stream starts with current offset: 10240\n"
     ]
    },
    {
     "name": "stdout",
     "output_type": "stream",
     "text": [
      "173/938 [====>.........................] - ETA: 15s - loss: 0.4412 - accuracy: 0.7959"
     ]
    },
    {
     "name": "stderr",
     "output_type": "stream",
     "text": [
      "2021-09-20 13:20:54.699090: I tensorflow_io/core/kernels/kafka_kernels.cc:248] Kafka stream starts with current offset: 11264\n"
     ]
    },
    {
     "name": "stdout",
     "output_type": "stream",
     "text": [
      "191/938 [=====>........................] - ETA: 15s - loss: 0.4417 - accuracy: 0.7969"
     ]
    },
    {
     "name": "stderr",
     "output_type": "stream",
     "text": [
      "2021-09-20 13:20:55.254925: I tensorflow_io/core/kernels/kafka_kernels.cc:248] Kafka stream starts with current offset: 12288\n"
     ]
    },
    {
     "name": "stdout",
     "output_type": "stream",
     "text": [
      "192/938 [=====>........................] - ETA: 17s - loss: 0.4415 - accuracy: 0.7971"
     ]
    },
    {
     "name": "stderr",
     "output_type": "stream",
     "text": [
      "2021-09-20 13:20:55.786526: I tensorflow_io/core/kernels/kafka_kernels.cc:248] Kafka stream starts with current offset: 13312\n"
     ]
    },
    {
     "name": "stdout",
     "output_type": "stream",
     "text": [
      "222/938 [======>.......................] - ETA: 16s - loss: 0.4407 - accuracy: 0.7978"
     ]
    },
    {
     "name": "stderr",
     "output_type": "stream",
     "text": [
      "2021-09-20 13:20:56.341530: I tensorflow_io/core/kernels/kafka_kernels.cc:248] Kafka stream starts with current offset: 14336\n"
     ]
    },
    {
     "name": "stdout",
     "output_type": "stream",
     "text": [
      "224/938 [======>.......................] - ETA: 17s - loss: 0.4403 - accuracy: 0.7981"
     ]
    },
    {
     "name": "stderr",
     "output_type": "stream",
     "text": [
      "2021-09-20 13:20:56.868828: I tensorflow_io/core/kernels/kafka_kernels.cc:248] Kafka stream starts with current offset: 15360\n"
     ]
    },
    {
     "name": "stdout",
     "output_type": "stream",
     "text": [
      "240/938 [======>.......................] - ETA: 17s - loss: 0.4393 - accuracy: 0.7984"
     ]
    },
    {
     "name": "stderr",
     "output_type": "stream",
     "text": [
      "2021-09-20 13:20:57.420227: I tensorflow_io/core/kernels/kafka_kernels.cc:248] Kafka stream starts with current offset: 16384\n"
     ]
    },
    {
     "name": "stdout",
     "output_type": "stream",
     "text": [
      "256/938 [=======>......................] - ETA: 17s - loss: 0.4414 - accuracy: 0.7974"
     ]
    },
    {
     "name": "stderr",
     "output_type": "stream",
     "text": [
      "2021-09-20 13:20:57.944519: I tensorflow_io/core/kernels/kafka_kernels.cc:248] Kafka stream starts with current offset: 17408\n"
     ]
    },
    {
     "name": "stdout",
     "output_type": "stream",
     "text": [
      "286/938 [========>.....................] - ETA: 16s - loss: 0.4388 - accuracy: 0.7988"
     ]
    },
    {
     "name": "stderr",
     "output_type": "stream",
     "text": [
      "2021-09-20 13:20:58.503312: I tensorflow_io/core/kernels/kafka_kernels.cc:248] Kafka stream starts with current offset: 18432\n"
     ]
    },
    {
     "name": "stdout",
     "output_type": "stream",
     "text": [
      "303/938 [========>.....................] - ETA: 16s - loss: 0.4399 - accuracy: 0.7983"
     ]
    },
    {
     "name": "stderr",
     "output_type": "stream",
     "text": [
      "2021-09-20 13:20:59.057625: I tensorflow_io/core/kernels/kafka_kernels.cc:248] Kafka stream starts with current offset: 19456\n"
     ]
    },
    {
     "name": "stdout",
     "output_type": "stream",
     "text": [
      "304/938 [========>.....................] - ETA: 17s - loss: 0.4397 - accuracy: 0.7984"
     ]
    },
    {
     "name": "stderr",
     "output_type": "stream",
     "text": [
      "2021-09-20 13:20:59.581988: I tensorflow_io/core/kernels/kafka_kernels.cc:248] Kafka stream starts with current offset: 20480\n"
     ]
    },
    {
     "name": "stdout",
     "output_type": "stream",
     "text": [
      "320/938 [=========>....................] - ETA: 17s - loss: 0.4396 - accuracy: 0.7986"
     ]
    },
    {
     "name": "stderr",
     "output_type": "stream",
     "text": [
      "2021-09-20 13:21:00.107264: I tensorflow_io/core/kernels/kafka_kernels.cc:248] Kafka stream starts with current offset: 21504\n"
     ]
    },
    {
     "name": "stdout",
     "output_type": "stream",
     "text": [
      "350/938 [==========>...................] - ETA: 15s - loss: 0.4380 - accuracy: 0.7992"
     ]
    },
    {
     "name": "stderr",
     "output_type": "stream",
     "text": [
      "2021-09-20 13:21:00.662408: I tensorflow_io/core/kernels/kafka_kernels.cc:248] Kafka stream starts with current offset: 22528\n"
     ]
    },
    {
     "name": "stdout",
     "output_type": "stream",
     "text": [
      "367/938 [==========>...................] - ETA: 15s - loss: 0.4384 - accuracy: 0.7991"
     ]
    },
    {
     "name": "stderr",
     "output_type": "stream",
     "text": [
      "2021-09-20 13:21:01.206471: I tensorflow_io/core/kernels/kafka_kernels.cc:248] Kafka stream starts with current offset: 23552\n"
     ]
    },
    {
     "name": "stdout",
     "output_type": "stream",
     "text": [
      "382/938 [===========>..................] - ETA: 15s - loss: 0.4398 - accuracy: 0.7979"
     ]
    },
    {
     "name": "stderr",
     "output_type": "stream",
     "text": [
      "2021-09-20 13:21:01.757656: I tensorflow_io/core/kernels/kafka_kernels.cc:248] Kafka stream starts with current offset: 24576\n"
     ]
    },
    {
     "name": "stdout",
     "output_type": "stream",
     "text": [
      "384/938 [===========>..................] - ETA: 15s - loss: 0.4396 - accuracy: 0.7979"
     ]
    },
    {
     "name": "stderr",
     "output_type": "stream",
     "text": [
      "2021-09-20 13:21:02.302915: I tensorflow_io/core/kernels/kafka_kernels.cc:248] Kafka stream starts with current offset: 25600\n"
     ]
    },
    {
     "name": "stdout",
     "output_type": "stream",
     "text": [
      "400/938 [===========>..................] - ETA: 15s - loss: 0.4407 - accuracy: 0.7968"
     ]
    },
    {
     "name": "stderr",
     "output_type": "stream",
     "text": [
      "2021-09-20 13:21:02.847807: I tensorflow_io/core/kernels/kafka_kernels.cc:248] Kafka stream starts with current offset: 26624\n"
     ]
    },
    {
     "name": "stdout",
     "output_type": "stream",
     "text": [
      "431/938 [============>.................] - ETA: 14s - loss: 0.4411 - accuracy: 0.7967"
     ]
    },
    {
     "name": "stderr",
     "output_type": "stream",
     "text": [
      "2021-09-20 13:21:03.398827: I tensorflow_io/core/kernels/kafka_kernels.cc:248] Kafka stream starts with current offset: 27648\n"
     ]
    },
    {
     "name": "stdout",
     "output_type": "stream",
     "text": [
      "432/938 [============>.................] - ETA: 14s - loss: 0.4409 - accuracy: 0.7969"
     ]
    },
    {
     "name": "stderr",
     "output_type": "stream",
     "text": [
      "2021-09-20 13:21:03.925082: I tensorflow_io/core/kernels/kafka_kernels.cc:248] Kafka stream starts with current offset: 28672\n"
     ]
    },
    {
     "name": "stdout",
     "output_type": "stream",
     "text": [
      "448/938 [=============>................] - ETA: 14s - loss: 0.4417 - accuracy: 0.7965"
     ]
    },
    {
     "name": "stderr",
     "output_type": "stream",
     "text": [
      "2021-09-20 13:21:04.468135: I tensorflow_io/core/kernels/kafka_kernels.cc:248] Kafka stream starts with current offset: 29696\n"
     ]
    },
    {
     "name": "stdout",
     "output_type": "stream",
     "text": [
      "464/938 [=============>................] - ETA: 14s - loss: 0.4413 - accuracy: 0.7967"
     ]
    },
    {
     "name": "stderr",
     "output_type": "stream",
     "text": [
      "2021-09-20 13:21:05.013385: I tensorflow_io/core/kernels/kafka_kernels.cc:248] Kafka stream starts with current offset: 30720\n"
     ]
    },
    {
     "name": "stdout",
     "output_type": "stream",
     "text": [
      "480/938 [==============>...............] - ETA: 13s - loss: 0.4421 - accuracy: 0.7964"
     ]
    },
    {
     "name": "stderr",
     "output_type": "stream",
     "text": [
      "2021-09-20 13:21:05.556839: I tensorflow_io/core/kernels/kafka_kernels.cc:248] Kafka stream starts with current offset: 31744\n"
     ]
    },
    {
     "name": "stdout",
     "output_type": "stream",
     "text": [
      "496/938 [==============>...............] - ETA: 13s - loss: 0.4420 - accuracy: 0.7962"
     ]
    },
    {
     "name": "stderr",
     "output_type": "stream",
     "text": [
      "2021-09-20 13:21:06.070933: I tensorflow_io/core/kernels/kafka_kernels.cc:248] Kafka stream starts with current offset: 32768\n"
     ]
    },
    {
     "name": "stdout",
     "output_type": "stream",
     "text": [
      "512/938 [===============>..............] - ETA: 12s - loss: 0.4419 - accuracy: 0.7968"
     ]
    },
    {
     "name": "stderr",
     "output_type": "stream",
     "text": [
      "2021-09-20 13:21:06.591983: I tensorflow_io/core/kernels/kafka_kernels.cc:248] Kafka stream starts with current offset: 33792\n"
     ]
    },
    {
     "name": "stdout",
     "output_type": "stream",
     "text": [
      "528/938 [===============>..............] - ETA: 12s - loss: 0.4424 - accuracy: 0.7961"
     ]
    },
    {
     "name": "stderr",
     "output_type": "stream",
     "text": [
      "2021-09-20 13:21:07.139208: I tensorflow_io/core/kernels/kafka_kernels.cc:248] Kafka stream starts with current offset: 34816\n"
     ]
    },
    {
     "name": "stdout",
     "output_type": "stream",
     "text": [
      "544/938 [================>.............] - ETA: 11s - loss: 0.4430 - accuracy: 0.7957"
     ]
    },
    {
     "name": "stderr",
     "output_type": "stream",
     "text": [
      "2021-09-20 13:21:07.653569: I tensorflow_io/core/kernels/kafka_kernels.cc:248] Kafka stream starts with current offset: 35840\n"
     ]
    },
    {
     "name": "stdout",
     "output_type": "stream",
     "text": [
      "560/938 [================>.............] - ETA: 11s - loss: 0.4430 - accuracy: 0.7958"
     ]
    },
    {
     "name": "stderr",
     "output_type": "stream",
     "text": [
      "2021-09-20 13:21:08.198855: I tensorflow_io/core/kernels/kafka_kernels.cc:248] Kafka stream starts with current offset: 36864\n"
     ]
    },
    {
     "name": "stdout",
     "output_type": "stream",
     "text": [
      "576/938 [=================>............] - ETA: 10s - loss: 0.4430 - accuracy: 0.7959"
     ]
    },
    {
     "name": "stderr",
     "output_type": "stream",
     "text": [
      "2021-09-20 13:21:08.723084: I tensorflow_io/core/kernels/kafka_kernels.cc:248] Kafka stream starts with current offset: 37888\n"
     ]
    },
    {
     "name": "stdout",
     "output_type": "stream",
     "text": [
      "592/938 [=================>............] - ETA: 10s - loss: 0.4427 - accuracy: 0.7960"
     ]
    },
    {
     "name": "stderr",
     "output_type": "stream",
     "text": [
      "2021-09-20 13:21:09.268349: I tensorflow_io/core/kernels/kafka_kernels.cc:248] Kafka stream starts with current offset: 38912\n"
     ]
    },
    {
     "name": "stdout",
     "output_type": "stream",
     "text": [
      "608/938 [==================>...........] - ETA: 10s - loss: 0.4422 - accuracy: 0.7964"
     ]
    },
    {
     "name": "stderr",
     "output_type": "stream",
     "text": [
      "2021-09-20 13:21:09.798151: I tensorflow_io/core/kernels/kafka_kernels.cc:248] Kafka stream starts with current offset: 39936\n"
     ]
    },
    {
     "name": "stdout",
     "output_type": "stream",
     "text": [
      "639/938 [===================>..........] - ETA: 8s - loss: 0.4430 - accuracy: 0.7961"
     ]
    },
    {
     "name": "stderr",
     "output_type": "stream",
     "text": [
      "2021-09-20 13:21:10.335000: I tensorflow_io/core/kernels/kafka_kernels.cc:248] Kafka stream starts with current offset: 40960\n"
     ]
    },
    {
     "name": "stdout",
     "output_type": "stream",
     "text": [
      "640/938 [===================>..........] - ETA: 9s - loss: 0.4430 - accuracy: 0.7961"
     ]
    },
    {
     "name": "stderr",
     "output_type": "stream",
     "text": [
      "2021-09-20 13:21:10.865197: I tensorflow_io/core/kernels/kafka_kernels.cc:248] Kafka stream starts with current offset: 41984\n"
     ]
    },
    {
     "name": "stdout",
     "output_type": "stream",
     "text": [
      "656/938 [===================>..........] - ETA: 8s - loss: 0.4431 - accuracy: 0.7960"
     ]
    },
    {
     "name": "stderr",
     "output_type": "stream",
     "text": [
      "2021-09-20 13:21:11.392768: I tensorflow_io/core/kernels/kafka_kernels.cc:248] Kafka stream starts with current offset: 43008\n"
     ]
    },
    {
     "name": "stdout",
     "output_type": "stream",
     "text": [
      "672/938 [====================>.........] - ETA: 8s - loss: 0.4435 - accuracy: 0.7960"
     ]
    },
    {
     "name": "stderr",
     "output_type": "stream",
     "text": [
      "2021-09-20 13:21:11.896091: I tensorflow_io/core/kernels/kafka_kernels.cc:248] Kafka stream starts with current offset: 44032\n"
     ]
    },
    {
     "name": "stdout",
     "output_type": "stream",
     "text": [
      "688/938 [=====================>........] - ETA: 7s - loss: 0.4446 - accuracy: 0.7957"
     ]
    },
    {
     "name": "stderr",
     "output_type": "stream",
     "text": [
      "2021-09-20 13:21:12.440459: I tensorflow_io/core/kernels/kafka_kernels.cc:248] Kafka stream starts with current offset: 45056\n"
     ]
    },
    {
     "name": "stdout",
     "output_type": "stream",
     "text": [
      "704/938 [=====================>........] - ETA: 7s - loss: 0.4442 - accuracy: 0.7960"
     ]
    },
    {
     "name": "stderr",
     "output_type": "stream",
     "text": [
      "2021-09-20 13:21:12.960300: I tensorflow_io/core/kernels/kafka_kernels.cc:248] Kafka stream starts with current offset: 46080\n"
     ]
    },
    {
     "name": "stdout",
     "output_type": "stream",
     "text": [
      "720/938 [======================>.......] - ETA: 6s - loss: 0.4439 - accuracy: 0.7960"
     ]
    },
    {
     "name": "stderr",
     "output_type": "stream",
     "text": [
      "2021-09-20 13:21:13.490192: I tensorflow_io/core/kernels/kafka_kernels.cc:248] Kafka stream starts with current offset: 47104\n"
     ]
    },
    {
     "name": "stdout",
     "output_type": "stream",
     "text": [
      "736/938 [======================>.......] - ETA: 6s - loss: 0.4437 - accuracy: 0.7958"
     ]
    },
    {
     "name": "stderr",
     "output_type": "stream",
     "text": [
      "2021-09-20 13:21:14.015896: I tensorflow_io/core/kernels/kafka_kernels.cc:248] Kafka stream starts with current offset: 48128\n"
     ]
    },
    {
     "name": "stdout",
     "output_type": "stream",
     "text": [
      "752/938 [=======================>......] - ETA: 5s - loss: 0.4438 - accuracy: 0.7958"
     ]
    },
    {
     "name": "stderr",
     "output_type": "stream",
     "text": [
      "2021-09-20 13:21:14.514898: I tensorflow_io/core/kernels/kafka_kernels.cc:248] Kafka stream starts with current offset: 49152\n"
     ]
    },
    {
     "name": "stdout",
     "output_type": "stream",
     "text": [
      "768/938 [=======================>......] - ETA: 5s - loss: 0.4443 - accuracy: 0.7955"
     ]
    },
    {
     "name": "stderr",
     "output_type": "stream",
     "text": [
      "2021-09-20 13:21:15.049732: I tensorflow_io/core/kernels/kafka_kernels.cc:248] Kafka stream starts with current offset: 50176\n"
     ]
    },
    {
     "name": "stdout",
     "output_type": "stream",
     "text": [
      "784/938 [========================>.....] - ETA: 4s - loss: 0.4446 - accuracy: 0.7954"
     ]
    },
    {
     "name": "stderr",
     "output_type": "stream",
     "text": [
      "2021-09-20 13:21:15.566414: I tensorflow_io/core/kernels/kafka_kernels.cc:248] Kafka stream starts with current offset: 51200\n"
     ]
    },
    {
     "name": "stdout",
     "output_type": "stream",
     "text": [
      "800/938 [========================>.....] - ETA: 4s - loss: 0.4444 - accuracy: 0.7956"
     ]
    },
    {
     "name": "stderr",
     "output_type": "stream",
     "text": [
      "2021-09-20 13:21:16.058412: I tensorflow_io/core/kernels/kafka_kernels.cc:248] Kafka stream starts with current offset: 52224\n"
     ]
    },
    {
     "name": "stdout",
     "output_type": "stream",
     "text": [
      "816/938 [=========================>....] - ETA: 3s - loss: 0.4440 - accuracy: 0.7957"
     ]
    },
    {
     "name": "stderr",
     "output_type": "stream",
     "text": [
      "2021-09-20 13:21:16.571826: I tensorflow_io/core/kernels/kafka_kernels.cc:248] Kafka stream starts with current offset: 53248\n"
     ]
    },
    {
     "name": "stdout",
     "output_type": "stream",
     "text": [
      "832/938 [=========================>....] - ETA: 3s - loss: 0.4438 - accuracy: 0.7957"
     ]
    },
    {
     "name": "stderr",
     "output_type": "stream",
     "text": [
      "2021-09-20 13:21:17.092711: I tensorflow_io/core/kernels/kafka_kernels.cc:248] Kafka stream starts with current offset: 54272\n"
     ]
    },
    {
     "name": "stdout",
     "output_type": "stream",
     "text": [
      "863/938 [==========================>...] - ETA: 2s - loss: 0.4438 - accuracy: 0.7959"
     ]
    },
    {
     "name": "stderr",
     "output_type": "stream",
     "text": [
      "2021-09-20 13:21:17.620119: I tensorflow_io/core/kernels/kafka_kernels.cc:248] Kafka stream starts with current offset: 55296\n"
     ]
    },
    {
     "name": "stdout",
     "output_type": "stream",
     "text": [
      "864/938 [==========================>...] - ETA: 2s - loss: 0.4439 - accuracy: 0.7958"
     ]
    },
    {
     "name": "stderr",
     "output_type": "stream",
     "text": [
      "2021-09-20 13:21:18.130497: I tensorflow_io/core/kernels/kafka_kernels.cc:248] Kafka stream starts with current offset: 56320\n"
     ]
    },
    {
     "name": "stdout",
     "output_type": "stream",
     "text": [
      "895/938 [===========================>..] - ETA: 1s - loss: 0.4440 - accuracy: 0.7960"
     ]
    },
    {
     "name": "stderr",
     "output_type": "stream",
     "text": [
      "2021-09-20 13:21:18.640014: I tensorflow_io/core/kernels/kafka_kernels.cc:248] Kafka stream starts with current offset: 57344\n"
     ]
    },
    {
     "name": "stdout",
     "output_type": "stream",
     "text": [
      "911/938 [============================>.] - ETA: 0s - loss: 0.4438 - accuracy: 0.7960"
     ]
    },
    {
     "name": "stderr",
     "output_type": "stream",
     "text": [
      "2021-09-20 13:21:19.146293: I tensorflow_io/core/kernels/kafka_kernels.cc:248] Kafka stream starts with current offset: 58368\n"
     ]
    },
    {
     "name": "stdout",
     "output_type": "stream",
     "text": [
      "912/938 [============================>.] - ETA: 0s - loss: 0.4438 - accuracy: 0.7960"
     ]
    },
    {
     "name": "stderr",
     "output_type": "stream",
     "text": [
      "2021-09-20 13:21:19.642531: I tensorflow_io/core/kernels/kafka_kernels.cc:248] Kafka stream starts with current offset: 59392\n"
     ]
    },
    {
     "name": "stdout",
     "output_type": "stream",
     "text": [
      "938/938 [==============================] - 29s 31ms/step - loss: 0.4431 - accuracy: 0.7964\n",
      "Epoch 9/10\n"
     ]
    },
    {
     "name": "stderr",
     "output_type": "stream",
     "text": [
      "2021-09-20 13:21:20.162771: I tensorflow_io/core/kernels/kafka_kernels.cc:248] Kafka stream starts with current offset: 0\n"
     ]
    },
    {
     "name": "stdout",
     "output_type": "stream",
     "text": [
      " 13/938 [..............................] - ETA: 3s - loss: 0.4379 - accuracy: 0.7933  "
     ]
    },
    {
     "name": "stderr",
     "output_type": "stream",
     "text": [
      "2021-09-20 13:21:20.664446: I tensorflow_io/core/kernels/kafka_kernels.cc:248] Kafka stream starts with current offset: 1024\n"
     ]
    },
    {
     "name": "stdout",
     "output_type": "stream",
     "text": [
      " 16/938 [..............................] - ETA: 34s - loss: 0.4470 - accuracy: 0.7939"
     ]
    },
    {
     "name": "stderr",
     "output_type": "stream",
     "text": [
      "2021-09-20 13:21:21.194333: I tensorflow_io/core/kernels/kafka_kernels.cc:248] Kafka stream starts with current offset: 2048\n"
     ]
    },
    {
     "name": "stdout",
     "output_type": "stream",
     "text": [
      " 47/938 [>.............................] - ETA: 22s - loss: 0.4422 - accuracy: 0.7932"
     ]
    },
    {
     "name": "stderr",
     "output_type": "stream",
     "text": [
      "2021-09-20 13:21:21.755989: I tensorflow_io/core/kernels/kafka_kernels.cc:248] Kafka stream starts with current offset: 3072\n"
     ]
    },
    {
     "name": "stdout",
     "output_type": "stream",
     "text": [
      " 48/938 [>.............................] - ETA: 31s - loss: 0.4417 - accuracy: 0.7930"
     ]
    },
    {
     "name": "stderr",
     "output_type": "stream",
     "text": [
      "2021-09-20 13:21:22.315669: I tensorflow_io/core/kernels/kafka_kernels.cc:248] Kafka stream starts with current offset: 4096\n"
     ]
    },
    {
     "name": "stdout",
     "output_type": "stream",
     "text": [
      " 77/938 [=>............................] - ETA: 25s - loss: 0.4435 - accuracy: 0.7953"
     ]
    },
    {
     "name": "stderr",
     "output_type": "stream",
     "text": [
      "2021-09-20 13:21:22.879721: I tensorflow_io/core/kernels/kafka_kernels.cc:248] Kafka stream starts with current offset: 5120\n"
     ]
    },
    {
     "name": "stdout",
     "output_type": "stream",
     "text": [
      " 80/938 [=>............................] - ETA: 30s - loss: 0.4418 - accuracy: 0.7971"
     ]
    },
    {
     "name": "stderr",
     "output_type": "stream",
     "text": [
      "2021-09-20 13:21:23.435773: I tensorflow_io/core/kernels/kafka_kernels.cc:248] Kafka stream starts with current offset: 6144\n"
     ]
    },
    {
     "name": "stdout",
     "output_type": "stream",
     "text": [
      " 96/938 [==>...........................] - ETA: 29s - loss: 0.4472 - accuracy: 0.7918"
     ]
    },
    {
     "name": "stderr",
     "output_type": "stream",
     "text": [
      "2021-09-20 13:21:23.970779: I tensorflow_io/core/kernels/kafka_kernels.cc:248] Kafka stream starts with current offset: 7168\n"
     ]
    },
    {
     "name": "stdout",
     "output_type": "stream",
     "text": [
      "112/938 [==>...........................] - ETA: 28s - loss: 0.4474 - accuracy: 0.7932"
     ]
    },
    {
     "name": "stderr",
     "output_type": "stream",
     "text": [
      "2021-09-20 13:21:24.526550: I tensorflow_io/core/kernels/kafka_kernels.cc:248] Kafka stream starts with current offset: 8192\n"
     ]
    },
    {
     "name": "stdout",
     "output_type": "stream",
     "text": [
      "140/938 [===>..........................] - ETA: 25s - loss: 0.4448 - accuracy: 0.7944"
     ]
    },
    {
     "name": "stderr",
     "output_type": "stream",
     "text": [
      "2021-09-20 13:21:25.093316: I tensorflow_io/core/kernels/kafka_kernels.cc:248] Kafka stream starts with current offset: 9216\n"
     ]
    },
    {
     "name": "stdout",
     "output_type": "stream",
     "text": [
      "156/938 [===>..........................] - ETA: 25s - loss: 0.4408 - accuracy: 0.7966"
     ]
    },
    {
     "name": "stderr",
     "output_type": "stream",
     "text": [
      "2021-09-20 13:21:25.656576: I tensorflow_io/core/kernels/kafka_kernels.cc:248] Kafka stream starts with current offset: 10240\n"
     ]
    },
    {
     "name": "stdout",
     "output_type": "stream",
     "text": [
      "160/938 [====>.........................] - ETA: 27s - loss: 0.4402 - accuracy: 0.7965"
     ]
    },
    {
     "name": "stderr",
     "output_type": "stream",
     "text": [
      "2021-09-20 13:21:26.210728: I tensorflow_io/core/kernels/kafka_kernels.cc:248] Kafka stream starts with current offset: 11264\n"
     ]
    },
    {
     "name": "stdout",
     "output_type": "stream",
     "text": [
      "176/938 [====>.........................] - ETA: 26s - loss: 0.4402 - accuracy: 0.7967"
     ]
    },
    {
     "name": "stderr",
     "output_type": "stream",
     "text": [
      "2021-09-20 13:21:26.762855: I tensorflow_io/core/kernels/kafka_kernels.cc:248] Kafka stream starts with current offset: 12288\n"
     ]
    },
    {
     "name": "stdout",
     "output_type": "stream",
     "text": [
      "192/938 [=====>........................] - ETA: 26s - loss: 0.4414 - accuracy: 0.7975"
     ]
    },
    {
     "name": "stderr",
     "output_type": "stream",
     "text": [
      "2021-09-20 13:21:27.319682: I tensorflow_io/core/kernels/kafka_kernels.cc:248] Kafka stream starts with current offset: 13312\n"
     ]
    },
    {
     "name": "stdout",
     "output_type": "stream",
     "text": [
      "208/938 [=====>........................] - ETA: 25s - loss: 0.4416 - accuracy: 0.7976"
     ]
    },
    {
     "name": "stderr",
     "output_type": "stream",
     "text": [
      "2021-09-20 13:21:27.873464: I tensorflow_io/core/kernels/kafka_kernels.cc:248] Kafka stream starts with current offset: 14336\n"
     ]
    },
    {
     "name": "stdout",
     "output_type": "stream",
     "text": [
      "224/938 [======>.......................] - ETA: 24s - loss: 0.4414 - accuracy: 0.7990"
     ]
    },
    {
     "name": "stderr",
     "output_type": "stream",
     "text": [
      "2021-09-20 13:21:28.403215: I tensorflow_io/core/kernels/kafka_kernels.cc:248] Kafka stream starts with current offset: 15360\n"
     ]
    },
    {
     "name": "stdout",
     "output_type": "stream",
     "text": [
      "240/938 [======>.......................] - ETA: 24s - loss: 0.4399 - accuracy: 0.7996"
     ]
    },
    {
     "name": "stderr",
     "output_type": "stream",
     "text": [
      "2021-09-20 13:21:28.949365: I tensorflow_io/core/kernels/kafka_kernels.cc:248] Kafka stream starts with current offset: 16384\n"
     ]
    },
    {
     "name": "stdout",
     "output_type": "stream",
     "text": [
      "256/938 [=======>......................] - ETA: 23s - loss: 0.4412 - accuracy: 0.7990"
     ]
    },
    {
     "name": "stderr",
     "output_type": "stream",
     "text": [
      "2021-09-20 13:21:29.500027: I tensorflow_io/core/kernels/kafka_kernels.cc:248] Kafka stream starts with current offset: 17408\n"
     ]
    },
    {
     "name": "stdout",
     "output_type": "stream",
     "text": [
      "272/938 [=======>......................] - ETA: 23s - loss: 0.4407 - accuracy: 0.7999"
     ]
    },
    {
     "name": "stderr",
     "output_type": "stream",
     "text": [
      "2021-09-20 13:21:30.051274: I tensorflow_io/core/kernels/kafka_kernels.cc:248] Kafka stream starts with current offset: 18432\n"
     ]
    },
    {
     "name": "stdout",
     "output_type": "stream",
     "text": [
      "288/938 [========>.....................] - ETA: 22s - loss: 0.4401 - accuracy: 0.8005"
     ]
    },
    {
     "name": "stderr",
     "output_type": "stream",
     "text": [
      "2021-09-20 13:21:30.600594: I tensorflow_io/core/kernels/kafka_kernels.cc:248] Kafka stream starts with current offset: 19456\n"
     ]
    },
    {
     "name": "stdout",
     "output_type": "stream",
     "text": [
      "304/938 [========>.....................] - ETA: 21s - loss: 0.4402 - accuracy: 0.8000"
     ]
    },
    {
     "name": "stderr",
     "output_type": "stream",
     "text": [
      "2021-09-20 13:21:31.150321: I tensorflow_io/core/kernels/kafka_kernels.cc:248] Kafka stream starts with current offset: 20480\n"
     ]
    },
    {
     "name": "stdout",
     "output_type": "stream",
     "text": [
      "320/938 [=========>....................] - ETA: 21s - loss: 0.4394 - accuracy: 0.7998"
     ]
    },
    {
     "name": "stderr",
     "output_type": "stream",
     "text": [
      "2021-09-20 13:21:31.699608: I tensorflow_io/core/kernels/kafka_kernels.cc:248] Kafka stream starts with current offset: 21504\n"
     ]
    },
    {
     "name": "stdout",
     "output_type": "stream",
     "text": [
      "350/938 [==========>...................] - ETA: 19s - loss: 0.4377 - accuracy: 0.8004"
     ]
    },
    {
     "name": "stderr",
     "output_type": "stream",
     "text": [
      "2021-09-20 13:21:32.253441: I tensorflow_io/core/kernels/kafka_kernels.cc:248] Kafka stream starts with current offset: 22528\n"
     ]
    },
    {
     "name": "stdout",
     "output_type": "stream",
     "text": [
      "352/938 [==========>...................] - ETA: 20s - loss: 0.4374 - accuracy: 0.8005"
     ]
    },
    {
     "name": "stderr",
     "output_type": "stream",
     "text": [
      "2021-09-20 13:21:32.795070: I tensorflow_io/core/kernels/kafka_kernels.cc:248] Kafka stream starts with current offset: 23552\n"
     ]
    },
    {
     "name": "stdout",
     "output_type": "stream",
     "text": [
      "383/938 [===========>..................] - ETA: 18s - loss: 0.4386 - accuracy: 0.7998"
     ]
    },
    {
     "name": "stderr",
     "output_type": "stream",
     "text": [
      "2021-09-20 13:21:33.340198: I tensorflow_io/core/kernels/kafka_kernels.cc:248] Kafka stream starts with current offset: 24576\n"
     ]
    },
    {
     "name": "stdout",
     "output_type": "stream",
     "text": [
      "384/938 [===========>..................] - ETA: 19s - loss: 0.4387 - accuracy: 0.7996"
     ]
    },
    {
     "name": "stderr",
     "output_type": "stream",
     "text": [
      "2021-09-20 13:21:33.882821: I tensorflow_io/core/kernels/kafka_kernels.cc:248] Kafka stream starts with current offset: 25600\n"
     ]
    },
    {
     "name": "stdout",
     "output_type": "stream",
     "text": [
      "414/938 [============>.................] - ETA: 17s - loss: 0.4405 - accuracy: 0.7986"
     ]
    },
    {
     "name": "stderr",
     "output_type": "stream",
     "text": [
      "2021-09-20 13:21:34.432874: I tensorflow_io/core/kernels/kafka_kernels.cc:248] Kafka stream starts with current offset: 26624\n"
     ]
    },
    {
     "name": "stdout",
     "output_type": "stream",
     "text": [
      "431/938 [============>.................] - ETA: 16s - loss: 0.4405 - accuracy: 0.7987"
     ]
    },
    {
     "name": "stderr",
     "output_type": "stream",
     "text": [
      "2021-09-20 13:21:34.977739: I tensorflow_io/core/kernels/kafka_kernels.cc:248] Kafka stream starts with current offset: 27648\n"
     ]
    },
    {
     "name": "stdout",
     "output_type": "stream",
     "text": [
      "432/938 [============>.................] - ETA: 17s - loss: 0.4404 - accuracy: 0.7988"
     ]
    },
    {
     "name": "stderr",
     "output_type": "stream",
     "text": [
      "2021-09-20 13:21:35.503637: I tensorflow_io/core/kernels/kafka_kernels.cc:248] Kafka stream starts with current offset: 28672\n"
     ]
    },
    {
     "name": "stdout",
     "output_type": "stream",
     "text": [
      "448/938 [=============>................] - ETA: 16s - loss: 0.4405 - accuracy: 0.7984"
     ]
    },
    {
     "name": "stderr",
     "output_type": "stream",
     "text": [
      "2021-09-20 13:21:36.053341: I tensorflow_io/core/kernels/kafka_kernels.cc:248] Kafka stream starts with current offset: 29696\n"
     ]
    },
    {
     "name": "stdout",
     "output_type": "stream",
     "text": [
      "464/938 [=============>................] - ETA: 16s - loss: 0.4401 - accuracy: 0.7985"
     ]
    },
    {
     "name": "stderr",
     "output_type": "stream",
     "text": [
      "2021-09-20 13:21:36.597251: I tensorflow_io/core/kernels/kafka_kernels.cc:248] Kafka stream starts with current offset: 30720\n"
     ]
    },
    {
     "name": "stdout",
     "output_type": "stream",
     "text": [
      "480/938 [==============>...............] - ETA: 15s - loss: 0.4411 - accuracy: 0.7979"
     ]
    },
    {
     "name": "stderr",
     "output_type": "stream",
     "text": [
      "2021-09-20 13:21:37.138925: I tensorflow_io/core/kernels/kafka_kernels.cc:248] Kafka stream starts with current offset: 31744\n"
     ]
    },
    {
     "name": "stdout",
     "output_type": "stream",
     "text": [
      "496/938 [==============>...............] - ETA: 15s - loss: 0.4411 - accuracy: 0.7979"
     ]
    },
    {
     "name": "stderr",
     "output_type": "stream",
     "text": [
      "2021-09-20 13:21:37.655941: I tensorflow_io/core/kernels/kafka_kernels.cc:248] Kafka stream starts with current offset: 32768\n"
     ]
    },
    {
     "name": "stdout",
     "output_type": "stream",
     "text": [
      "512/938 [===============>..............] - ETA: 14s - loss: 0.4409 - accuracy: 0.7983"
     ]
    },
    {
     "name": "stderr",
     "output_type": "stream",
     "text": [
      "2021-09-20 13:21:38.179597: I tensorflow_io/core/kernels/kafka_kernels.cc:248] Kafka stream starts with current offset: 33792\n"
     ]
    },
    {
     "name": "stdout",
     "output_type": "stream",
     "text": [
      "528/938 [===============>..............] - ETA: 14s - loss: 0.4416 - accuracy: 0.7979"
     ]
    },
    {
     "name": "stderr",
     "output_type": "stream",
     "text": [
      "2021-09-20 13:21:38.698442: I tensorflow_io/core/kernels/kafka_kernels.cc:248] Kafka stream starts with current offset: 34816\n"
     ]
    },
    {
     "name": "stdout",
     "output_type": "stream",
     "text": [
      "544/938 [================>.............] - ETA: 13s - loss: 0.4421 - accuracy: 0.7975"
     ]
    },
    {
     "name": "stderr",
     "output_type": "stream",
     "text": [
      "2021-09-20 13:21:39.215884: I tensorflow_io/core/kernels/kafka_kernels.cc:248] Kafka stream starts with current offset: 35840\n"
     ]
    },
    {
     "name": "stdout",
     "output_type": "stream",
     "text": [
      "575/938 [=================>............] - ETA: 12s - loss: 0.4417 - accuracy: 0.7979"
     ]
    },
    {
     "name": "stderr",
     "output_type": "stream",
     "text": [
      "2021-09-20 13:21:39.761790: I tensorflow_io/core/kernels/kafka_kernels.cc:248] Kafka stream starts with current offset: 36864\n"
     ]
    },
    {
     "name": "stdout",
     "output_type": "stream",
     "text": [
      "576/938 [=================>............] - ETA: 12s - loss: 0.4416 - accuracy: 0.7980"
     ]
    },
    {
     "name": "stderr",
     "output_type": "stream",
     "text": [
      "2021-09-20 13:21:40.298108: I tensorflow_io/core/kernels/kafka_kernels.cc:248] Kafka stream starts with current offset: 37888\n"
     ]
    },
    {
     "name": "stdout",
     "output_type": "stream",
     "text": [
      "592/938 [=================>............] - ETA: 11s - loss: 0.4415 - accuracy: 0.7980"
     ]
    },
    {
     "name": "stderr",
     "output_type": "stream",
     "text": [
      "2021-09-20 13:21:40.802852: I tensorflow_io/core/kernels/kafka_kernels.cc:248] Kafka stream starts with current offset: 38912\n"
     ]
    },
    {
     "name": "stdout",
     "output_type": "stream",
     "text": [
      "622/938 [==================>...........] - ETA: 10s - loss: 0.4418 - accuracy: 0.7977"
     ]
    },
    {
     "name": "stderr",
     "output_type": "stream",
     "text": [
      "2021-09-20 13:21:41.351885: I tensorflow_io/core/kernels/kafka_kernels.cc:248] Kafka stream starts with current offset: 39936\n"
     ]
    },
    {
     "name": "stdout",
     "output_type": "stream",
     "text": [
      "637/938 [===================>..........] - ETA: 10s - loss: 0.4424 - accuracy: 0.7977"
     ]
    },
    {
     "name": "stderr",
     "output_type": "stream",
     "text": [
      "2021-09-20 13:21:41.885829: I tensorflow_io/core/kernels/kafka_kernels.cc:248] Kafka stream starts with current offset: 40960\n"
     ]
    },
    {
     "name": "stdout",
     "output_type": "stream",
     "text": [
      "640/938 [===================>..........] - ETA: 10s - loss: 0.4422 - accuracy: 0.7978"
     ]
    },
    {
     "name": "stderr",
     "output_type": "stream",
     "text": [
      "2021-09-20 13:21:42.413736: I tensorflow_io/core/kernels/kafka_kernels.cc:248] Kafka stream starts with current offset: 41984\n"
     ]
    },
    {
     "name": "stdout",
     "output_type": "stream",
     "text": [
      "656/938 [===================>..........] - ETA: 9s - loss: 0.4422 - accuracy: 0.7980 "
     ]
    },
    {
     "name": "stderr",
     "output_type": "stream",
     "text": [
      "2021-09-20 13:21:42.911423: I tensorflow_io/core/kernels/kafka_kernels.cc:248] Kafka stream starts with current offset: 43008\n"
     ]
    },
    {
     "name": "stdout",
     "output_type": "stream",
     "text": [
      "672/938 [====================>.........] - ETA: 9s - loss: 0.4424 - accuracy: 0.7979"
     ]
    },
    {
     "name": "stderr",
     "output_type": "stream",
     "text": [
      "2021-09-20 13:21:43.424153: I tensorflow_io/core/kernels/kafka_kernels.cc:248] Kafka stream starts with current offset: 44032\n"
     ]
    },
    {
     "name": "stdout",
     "output_type": "stream",
     "text": [
      "703/938 [=====================>........] - ETA: 7s - loss: 0.4427 - accuracy: 0.7981"
     ]
    },
    {
     "name": "stderr",
     "output_type": "stream",
     "text": [
      "2021-09-20 13:21:43.970879: I tensorflow_io/core/kernels/kafka_kernels.cc:248] Kafka stream starts with current offset: 45056\n"
     ]
    },
    {
     "name": "stdout",
     "output_type": "stream",
     "text": [
      "704/938 [=====================>........] - ETA: 7s - loss: 0.4426 - accuracy: 0.7982"
     ]
    },
    {
     "name": "stderr",
     "output_type": "stream",
     "text": [
      "2021-09-20 13:21:44.496139: I tensorflow_io/core/kernels/kafka_kernels.cc:248] Kafka stream starts with current offset: 46080\n"
     ]
    },
    {
     "name": "stdout",
     "output_type": "stream",
     "text": [
      "720/938 [======================>.......] - ETA: 7s - loss: 0.4426 - accuracy: 0.7980"
     ]
    },
    {
     "name": "stderr",
     "output_type": "stream",
     "text": [
      "2021-09-20 13:21:44.992057: I tensorflow_io/core/kernels/kafka_kernels.cc:248] Kafka stream starts with current offset: 47104\n"
     ]
    },
    {
     "name": "stdout",
     "output_type": "stream",
     "text": [
      "736/938 [======================>.......] - ETA: 6s - loss: 0.4425 - accuracy: 0.7979"
     ]
    },
    {
     "name": "stderr",
     "output_type": "stream",
     "text": [
      "2021-09-20 13:21:45.499234: I tensorflow_io/core/kernels/kafka_kernels.cc:248] Kafka stream starts with current offset: 48128\n"
     ]
    },
    {
     "name": "stdout",
     "output_type": "stream",
     "text": [
      "752/938 [=======================>......] - ETA: 6s - loss: 0.4425 - accuracy: 0.7978"
     ]
    },
    {
     "name": "stderr",
     "output_type": "stream",
     "text": [
      "2021-09-20 13:21:46.014301: I tensorflow_io/core/kernels/kafka_kernels.cc:248] Kafka stream starts with current offset: 49152\n"
     ]
    },
    {
     "name": "stdout",
     "output_type": "stream",
     "text": [
      "768/938 [=======================>......] - ETA: 5s - loss: 0.4432 - accuracy: 0.7972"
     ]
    },
    {
     "name": "stderr",
     "output_type": "stream",
     "text": [
      "2021-09-20 13:21:46.521788: I tensorflow_io/core/kernels/kafka_kernels.cc:248] Kafka stream starts with current offset: 50176\n"
     ]
    },
    {
     "name": "stdout",
     "output_type": "stream",
     "text": [
      "784/938 [========================>.....] - ETA: 5s - loss: 0.4434 - accuracy: 0.7971"
     ]
    },
    {
     "name": "stderr",
     "output_type": "stream",
     "text": [
      "2021-09-20 13:21:47.062919: I tensorflow_io/core/kernels/kafka_kernels.cc:248] Kafka stream starts with current offset: 51200\n"
     ]
    },
    {
     "name": "stdout",
     "output_type": "stream",
     "text": [
      "800/938 [========================>.....] - ETA: 4s - loss: 0.4432 - accuracy: 0.7970"
     ]
    },
    {
     "name": "stderr",
     "output_type": "stream",
     "text": [
      "2021-09-20 13:21:47.552456: I tensorflow_io/core/kernels/kafka_kernels.cc:248] Kafka stream starts with current offset: 52224\n"
     ]
    },
    {
     "name": "stdout",
     "output_type": "stream",
     "text": [
      "816/938 [=========================>....] - ETA: 4s - loss: 0.4433 - accuracy: 0.7967"
     ]
    },
    {
     "name": "stderr",
     "output_type": "stream",
     "text": [
      "2021-09-20 13:21:48.083564: I tensorflow_io/core/kernels/kafka_kernels.cc:248] Kafka stream starts with current offset: 53248\n"
     ]
    },
    {
     "name": "stdout",
     "output_type": "stream",
     "text": [
      "847/938 [==========================>...] - ETA: 3s - loss: 0.4428 - accuracy: 0.7970"
     ]
    },
    {
     "name": "stderr",
     "output_type": "stream",
     "text": [
      "2021-09-20 13:21:48.601291: I tensorflow_io/core/kernels/kafka_kernels.cc:248] Kafka stream starts with current offset: 54272\n"
     ]
    },
    {
     "name": "stdout",
     "output_type": "stream",
     "text": [
      "848/938 [==========================>...] - ETA: 3s - loss: 0.4429 - accuracy: 0.7969"
     ]
    },
    {
     "name": "stderr",
     "output_type": "stream",
     "text": [
      "2021-09-20 13:21:49.106591: I tensorflow_io/core/kernels/kafka_kernels.cc:248] Kafka stream starts with current offset: 55296\n"
     ]
    },
    {
     "name": "stdout",
     "output_type": "stream",
     "text": [
      "864/938 [==========================>...] - ETA: 2s - loss: 0.4432 - accuracy: 0.7968"
     ]
    },
    {
     "name": "stderr",
     "output_type": "stream",
     "text": [
      "2021-09-20 13:21:49.590537: I tensorflow_io/core/kernels/kafka_kernels.cc:248] Kafka stream starts with current offset: 56320\n"
     ]
    },
    {
     "name": "stdout",
     "output_type": "stream",
     "text": [
      "880/938 [===========================>..] - ETA: 1s - loss: 0.4433 - accuracy: 0.7970"
     ]
    },
    {
     "name": "stderr",
     "output_type": "stream",
     "text": [
      "2021-09-20 13:21:50.126826: I tensorflow_io/core/kernels/kafka_kernels.cc:248] Kafka stream starts with current offset: 57344\n"
     ]
    },
    {
     "name": "stdout",
     "output_type": "stream",
     "text": [
      "909/938 [============================>.] - ETA: 0s - loss: 0.4431 - accuracy: 0.7970"
     ]
    },
    {
     "name": "stderr",
     "output_type": "stream",
     "text": [
      "2021-09-20 13:21:50.637417: I tensorflow_io/core/kernels/kafka_kernels.cc:248] Kafka stream starts with current offset: 58368\n"
     ]
    },
    {
     "name": "stdout",
     "output_type": "stream",
     "text": [
      "912/938 [============================>.] - ETA: 0s - loss: 0.4430 - accuracy: 0.7970"
     ]
    },
    {
     "name": "stderr",
     "output_type": "stream",
     "text": [
      "2021-09-20 13:21:51.109927: I tensorflow_io/core/kernels/kafka_kernels.cc:248] Kafka stream starts with current offset: 59392\n"
     ]
    },
    {
     "name": "stdout",
     "output_type": "stream",
     "text": [
      "938/938 [==============================] - 31s 33ms/step - loss: 0.4422 - accuracy: 0.7973\n",
      "Epoch 10/10\n"
     ]
    },
    {
     "name": "stderr",
     "output_type": "stream",
     "text": [
      "2021-09-20 13:21:51.640717: I tensorflow_io/core/kernels/kafka_kernels.cc:248] Kafka stream starts with current offset: 0\n"
     ]
    },
    {
     "name": "stdout",
     "output_type": "stream",
     "text": [
      " 29/938 [..............................] - ETA: 1s - loss: 0.4343 - accuracy: 0.7904  "
     ]
    },
    {
     "name": "stderr",
     "output_type": "stream",
     "text": [
      "2021-09-20 13:21:52.117699: I tensorflow_io/core/kernels/kafka_kernels.cc:248] Kafka stream starts with current offset: 1024\n",
      "2021-09-20 13:21:52.147818: I tensorflow_io/core/kernels/kafka_kernels.cc:248] Kafka stream starts with current offset: 2048\n"
     ]
    },
    {
     "name": "stdout",
     "output_type": "stream",
     "text": [
      " 32/938 [>.............................] - ETA: 16s - loss: 0.4331 - accuracy: 0.7944"
     ]
    },
    {
     "name": "stderr",
     "output_type": "stream",
     "text": [
      "2021-09-20 13:21:52.682321: I tensorflow_io/core/kernels/kafka_kernels.cc:248] Kafka stream starts with current offset: 3072\n"
     ]
    },
    {
     "name": "stdout",
     "output_type": "stream",
     "text": [
      " 60/938 [>.............................] - ETA: 17s - loss: 0.4363 - accuracy: 0.7979"
     ]
    },
    {
     "name": "stderr",
     "output_type": "stream",
     "text": [
      "2021-09-20 13:21:53.246238: I tensorflow_io/core/kernels/kafka_kernels.cc:248] Kafka stream starts with current offset: 4096\n"
     ]
    },
    {
     "name": "stdout",
     "output_type": "stream",
     "text": [
      " 79/938 [=>............................] - ETA: 18s - loss: 0.4386 - accuracy: 0.7979"
     ]
    },
    {
     "name": "stderr",
     "output_type": "stream",
     "text": [
      "2021-09-20 13:21:53.805699: I tensorflow_io/core/kernels/kafka_kernels.cc:248] Kafka stream starts with current offset: 5120\n"
     ]
    },
    {
     "name": "stdout",
     "output_type": "stream",
     "text": [
      " 93/938 [=>............................] - ETA: 20s - loss: 0.4432 - accuracy: 0.7928"
     ]
    },
    {
     "name": "stderr",
     "output_type": "stream",
     "text": [
      "2021-09-20 13:21:54.370064: I tensorflow_io/core/kernels/kafka_kernels.cc:248] Kafka stream starts with current offset: 6144\n"
     ]
    },
    {
     "name": "stdout",
     "output_type": "stream",
     "text": [
      " 96/938 [==>...........................] - ETA: 24s - loss: 0.4454 - accuracy: 0.7917"
     ]
    },
    {
     "name": "stderr",
     "output_type": "stream",
     "text": [
      "2021-09-20 13:21:54.910373: I tensorflow_io/core/kernels/kafka_kernels.cc:248] Kafka stream starts with current offset: 7168\n"
     ]
    },
    {
     "name": "stdout",
     "output_type": "stream",
     "text": [
      "112/938 [==>...........................] - ETA: 24s - loss: 0.4450 - accuracy: 0.7932"
     ]
    },
    {
     "name": "stderr",
     "output_type": "stream",
     "text": [
      "2021-09-20 13:21:55.465996: I tensorflow_io/core/kernels/kafka_kernels.cc:248] Kafka stream starts with current offset: 8192\n"
     ]
    },
    {
     "name": "stdout",
     "output_type": "stream",
     "text": [
      "142/938 [===>..........................] - ETA: 22s - loss: 0.4412 - accuracy: 0.7957"
     ]
    },
    {
     "name": "stderr",
     "output_type": "stream",
     "text": [
      "2021-09-20 13:21:56.022884: I tensorflow_io/core/kernels/kafka_kernels.cc:248] Kafka stream starts with current offset: 9216\n"
     ]
    },
    {
     "name": "stdout",
     "output_type": "stream",
     "text": [
      "144/938 [===>..........................] - ETA: 24s - loss: 0.4402 - accuracy: 0.7964"
     ]
    },
    {
     "name": "stderr",
     "output_type": "stream",
     "text": [
      "2021-09-20 13:21:56.546564: I tensorflow_io/core/kernels/kafka_kernels.cc:248] Kafka stream starts with current offset: 10240\n"
     ]
    },
    {
     "name": "stdout",
     "output_type": "stream",
     "text": [
      "160/938 [====>.........................] - ETA: 24s - loss: 0.4379 - accuracy: 0.7974"
     ]
    },
    {
     "name": "stderr",
     "output_type": "stream",
     "text": [
      "2021-09-20 13:21:57.076502: I tensorflow_io/core/kernels/kafka_kernels.cc:248] Kafka stream starts with current offset: 11264\n"
     ]
    },
    {
     "name": "stdout",
     "output_type": "stream",
     "text": [
      "189/938 [=====>........................] - ETA: 22s - loss: 0.4384 - accuracy: 0.7979"
     ]
    },
    {
     "name": "stderr",
     "output_type": "stream",
     "text": [
      "2021-09-20 13:21:57.634509: I tensorflow_io/core/kernels/kafka_kernels.cc:248] Kafka stream starts with current offset: 12288\n"
     ]
    },
    {
     "name": "stdout",
     "output_type": "stream",
     "text": [
      "207/938 [=====>........................] - ETA: 21s - loss: 0.4396 - accuracy: 0.7979"
     ]
    },
    {
     "name": "stderr",
     "output_type": "stream",
     "text": [
      "2021-09-20 13:21:58.189592: I tensorflow_io/core/kernels/kafka_kernels.cc:248] Kafka stream starts with current offset: 13312\n"
     ]
    },
    {
     "name": "stdout",
     "output_type": "stream",
     "text": [
      "208/938 [=====>........................] - ETA: 23s - loss: 0.4392 - accuracy: 0.7977"
     ]
    },
    {
     "name": "stderr",
     "output_type": "stream",
     "text": [
      "2021-09-20 13:21:58.741210: I tensorflow_io/core/kernels/kafka_kernels.cc:248] Kafka stream starts with current offset: 14336\n"
     ]
    },
    {
     "name": "stdout",
     "output_type": "stream",
     "text": [
      "224/938 [======>.......................] - ETA: 22s - loss: 0.4382 - accuracy: 0.7990"
     ]
    },
    {
     "name": "stderr",
     "output_type": "stream",
     "text": [
      "2021-09-20 13:21:59.265214: I tensorflow_io/core/kernels/kafka_kernels.cc:248] Kafka stream starts with current offset: 15360\n"
     ]
    },
    {
     "name": "stdout",
     "output_type": "stream",
     "text": [
      "254/938 [=======>......................] - ETA: 20s - loss: 0.4395 - accuracy: 0.7982"
     ]
    },
    {
     "name": "stderr",
     "output_type": "stream",
     "text": [
      "2021-09-20 13:21:59.822042: I tensorflow_io/core/kernels/kafka_kernels.cc:248] Kafka stream starts with current offset: 16384\n"
     ]
    },
    {
     "name": "stdout",
     "output_type": "stream",
     "text": [
      "256/938 [=======>......................] - ETA: 22s - loss: 0.4398 - accuracy: 0.7980"
     ]
    },
    {
     "name": "stderr",
     "output_type": "stream",
     "text": [
      "2021-09-20 13:22:00.376761: I tensorflow_io/core/kernels/kafka_kernels.cc:248] Kafka stream starts with current offset: 17408\n"
     ]
    },
    {
     "name": "stdout",
     "output_type": "stream",
     "text": [
      "285/938 [========>.....................] - ETA: 20s - loss: 0.4377 - accuracy: 0.7994"
     ]
    },
    {
     "name": "stderr",
     "output_type": "stream",
     "text": [
      "2021-09-20 13:22:00.932516: I tensorflow_io/core/kernels/kafka_kernels.cc:248] Kafka stream starts with current offset: 18432\n"
     ]
    },
    {
     "name": "stdout",
     "output_type": "stream",
     "text": [
      "288/938 [========>.....................] - ETA: 21s - loss: 0.4383 - accuracy: 0.7992"
     ]
    },
    {
     "name": "stderr",
     "output_type": "stream",
     "text": [
      "2021-09-20 13:22:01.443965: I tensorflow_io/core/kernels/kafka_kernels.cc:248] Kafka stream starts with current offset: 19456\n"
     ]
    },
    {
     "name": "stdout",
     "output_type": "stream",
     "text": [
      "304/938 [========>.....................] - ETA: 20s - loss: 0.4391 - accuracy: 0.7987"
     ]
    },
    {
     "name": "stderr",
     "output_type": "stream",
     "text": [
      "2021-09-20 13:22:01.980742: I tensorflow_io/core/kernels/kafka_kernels.cc:248] Kafka stream starts with current offset: 20480\n"
     ]
    },
    {
     "name": "stdout",
     "output_type": "stream",
     "text": [
      "320/938 [=========>....................] - ETA: 20s - loss: 0.4393 - accuracy: 0.7987"
     ]
    },
    {
     "name": "stderr",
     "output_type": "stream",
     "text": [
      "2021-09-20 13:22:02.525255: I tensorflow_io/core/kernels/kafka_kernels.cc:248] Kafka stream starts with current offset: 21504\n"
     ]
    },
    {
     "name": "stdout",
     "output_type": "stream",
     "text": [
      "336/938 [=========>....................] - ETA: 19s - loss: 0.4379 - accuracy: 0.7994"
     ]
    },
    {
     "name": "stderr",
     "output_type": "stream",
     "text": [
      "2021-09-20 13:22:03.073903: I tensorflow_io/core/kernels/kafka_kernels.cc:248] Kafka stream starts with current offset: 22528\n"
     ]
    },
    {
     "name": "stdout",
     "output_type": "stream",
     "text": [
      "352/938 [==========>...................] - ETA: 19s - loss: 0.4375 - accuracy: 0.7997"
     ]
    },
    {
     "name": "stderr",
     "output_type": "stream",
     "text": [
      "2021-09-20 13:22:03.595852: I tensorflow_io/core/kernels/kafka_kernels.cc:248] Kafka stream starts with current offset: 23552\n"
     ]
    },
    {
     "name": "stdout",
     "output_type": "stream",
     "text": [
      "368/938 [==========>...................] - ETA: 18s - loss: 0.4380 - accuracy: 0.7994"
     ]
    },
    {
     "name": "stderr",
     "output_type": "stream",
     "text": [
      "2021-09-20 13:22:04.119781: I tensorflow_io/core/kernels/kafka_kernels.cc:248] Kafka stream starts with current offset: 24576\n"
     ]
    },
    {
     "name": "stdout",
     "output_type": "stream",
     "text": [
      "399/938 [===========>..................] - ETA: 17s - loss: 0.4403 - accuracy: 0.7977"
     ]
    },
    {
     "name": "stderr",
     "output_type": "stream",
     "text": [
      "2021-09-20 13:22:04.672049: I tensorflow_io/core/kernels/kafka_kernels.cc:248] Kafka stream starts with current offset: 25600\n"
     ]
    },
    {
     "name": "stdout",
     "output_type": "stream",
     "text": [
      "400/938 [===========>..................] - ETA: 17s - loss: 0.4404 - accuracy: 0.7975"
     ]
    },
    {
     "name": "stderr",
     "output_type": "stream",
     "text": [
      "2021-09-20 13:22:05.186911: I tensorflow_io/core/kernels/kafka_kernels.cc:248] Kafka stream starts with current offset: 26624\n"
     ]
    },
    {
     "name": "stdout",
     "output_type": "stream",
     "text": [
      "416/938 [============>.................] - ETA: 17s - loss: 0.4406 - accuracy: 0.7976"
     ]
    },
    {
     "name": "stderr",
     "output_type": "stream",
     "text": [
      "2021-09-20 13:22:05.710003: I tensorflow_io/core/kernels/kafka_kernels.cc:248] Kafka stream starts with current offset: 27648\n"
     ]
    },
    {
     "name": "stdout",
     "output_type": "stream",
     "text": [
      "432/938 [============>.................] - ETA: 16s - loss: 0.4405 - accuracy: 0.7978"
     ]
    },
    {
     "name": "stderr",
     "output_type": "stream",
     "text": [
      "2021-09-20 13:22:06.231637: I tensorflow_io/core/kernels/kafka_kernels.cc:248] Kafka stream starts with current offset: 28672\n"
     ]
    },
    {
     "name": "stdout",
     "output_type": "stream",
     "text": [
      "448/938 [=============>................] - ETA: 16s - loss: 0.4414 - accuracy: 0.7970"
     ]
    },
    {
     "name": "stderr",
     "output_type": "stream",
     "text": [
      "2021-09-20 13:22:06.753852: I tensorflow_io/core/kernels/kafka_kernels.cc:248] Kafka stream starts with current offset: 29696\n"
     ]
    },
    {
     "name": "stdout",
     "output_type": "stream",
     "text": [
      "464/938 [=============>................] - ETA: 15s - loss: 0.4409 - accuracy: 0.7971"
     ]
    },
    {
     "name": "stderr",
     "output_type": "stream",
     "text": [
      "2021-09-20 13:22:07.303605: I tensorflow_io/core/kernels/kafka_kernels.cc:248] Kafka stream starts with current offset: 30720\n"
     ]
    },
    {
     "name": "stdout",
     "output_type": "stream",
     "text": [
      "480/938 [==============>...............] - ETA: 15s - loss: 0.4418 - accuracy: 0.7965"
     ]
    },
    {
     "name": "stderr",
     "output_type": "stream",
     "text": [
      "2021-09-20 13:22:07.843084: I tensorflow_io/core/kernels/kafka_kernels.cc:248] Kafka stream starts with current offset: 31744\n"
     ]
    },
    {
     "name": "stdout",
     "output_type": "stream",
     "text": [
      "496/938 [==============>...............] - ETA: 14s - loss: 0.4415 - accuracy: 0.7966"
     ]
    },
    {
     "name": "stderr",
     "output_type": "stream",
     "text": [
      "2021-09-20 13:22:08.380508: I tensorflow_io/core/kernels/kafka_kernels.cc:248] Kafka stream starts with current offset: 32768\n"
     ]
    },
    {
     "name": "stdout",
     "output_type": "stream",
     "text": [
      "512/938 [===============>..............] - ETA: 13s - loss: 0.4413 - accuracy: 0.7968"
     ]
    },
    {
     "name": "stderr",
     "output_type": "stream",
     "text": [
      "2021-09-20 13:22:08.893370: I tensorflow_io/core/kernels/kafka_kernels.cc:248] Kafka stream starts with current offset: 33792\n"
     ]
    },
    {
     "name": "stdout",
     "output_type": "stream",
     "text": [
      "528/938 [===============>..............] - ETA: 13s - loss: 0.4419 - accuracy: 0.7963"
     ]
    },
    {
     "name": "stderr",
     "output_type": "stream",
     "text": [
      "2021-09-20 13:22:09.438362: I tensorflow_io/core/kernels/kafka_kernels.cc:248] Kafka stream starts with current offset: 34816\n"
     ]
    },
    {
     "name": "stdout",
     "output_type": "stream",
     "text": [
      "544/938 [================>.............] - ETA: 12s - loss: 0.4422 - accuracy: 0.7960"
     ]
    },
    {
     "name": "stderr",
     "output_type": "stream",
     "text": [
      "2021-09-20 13:22:09.974554: I tensorflow_io/core/kernels/kafka_kernels.cc:248] Kafka stream starts with current offset: 35840\n"
     ]
    },
    {
     "name": "stdout",
     "output_type": "stream",
     "text": [
      "560/938 [================>.............] - ETA: 12s - loss: 0.4424 - accuracy: 0.7958"
     ]
    },
    {
     "name": "stderr",
     "output_type": "stream",
     "text": [
      "2021-09-20 13:22:10.488810: I tensorflow_io/core/kernels/kafka_kernels.cc:248] Kafka stream starts with current offset: 36864\n"
     ]
    },
    {
     "name": "stdout",
     "output_type": "stream",
     "text": [
      "576/938 [=================>............] - ETA: 11s - loss: 0.4418 - accuracy: 0.7961"
     ]
    },
    {
     "name": "stderr",
     "output_type": "stream",
     "text": [
      "2021-09-20 13:22:11.008869: I tensorflow_io/core/kernels/kafka_kernels.cc:248] Kafka stream starts with current offset: 37888\n"
     ]
    },
    {
     "name": "stdout",
     "output_type": "stream",
     "text": [
      "592/938 [=================>............] - ETA: 11s - loss: 0.4418 - accuracy: 0.7959"
     ]
    },
    {
     "name": "stderr",
     "output_type": "stream",
     "text": [
      "2021-09-20 13:22:11.553487: I tensorflow_io/core/kernels/kafka_kernels.cc:248] Kafka stream starts with current offset: 38912\n"
     ]
    },
    {
     "name": "stdout",
     "output_type": "stream",
     "text": [
      "608/938 [==================>...........] - ETA: 10s - loss: 0.4413 - accuracy: 0.7965"
     ]
    },
    {
     "name": "stderr",
     "output_type": "stream",
     "text": [
      "2021-09-20 13:22:12.086893: I tensorflow_io/core/kernels/kafka_kernels.cc:248] Kafka stream starts with current offset: 39936\n"
     ]
    },
    {
     "name": "stdout",
     "output_type": "stream",
     "text": [
      "624/938 [==================>...........] - ETA: 10s - loss: 0.4423 - accuracy: 0.7961"
     ]
    },
    {
     "name": "stderr",
     "output_type": "stream",
     "text": [
      "2021-09-20 13:22:12.589227: I tensorflow_io/core/kernels/kafka_kernels.cc:248] Kafka stream starts with current offset: 40960\n"
     ]
    },
    {
     "name": "stdout",
     "output_type": "stream",
     "text": [
      "655/938 [===================>..........] - ETA: 9s - loss: 0.4426 - accuracy: 0.7961"
     ]
    },
    {
     "name": "stderr",
     "output_type": "stream",
     "text": [
      "2021-09-20 13:22:13.139083: I tensorflow_io/core/kernels/kafka_kernels.cc:248] Kafka stream starts with current offset: 41984\n"
     ]
    },
    {
     "name": "stdout",
     "output_type": "stream",
     "text": [
      "656/938 [===================>..........] - ETA: 9s - loss: 0.4426 - accuracy: 0.7960"
     ]
    },
    {
     "name": "stderr",
     "output_type": "stream",
     "text": [
      "2021-09-20 13:22:13.637238: I tensorflow_io/core/kernels/kafka_kernels.cc:248] Kafka stream starts with current offset: 43008\n"
     ]
    },
    {
     "name": "stdout",
     "output_type": "stream",
     "text": [
      "672/938 [====================>.........] - ETA: 8s - loss: 0.4430 - accuracy: 0.7959"
     ]
    },
    {
     "name": "stderr",
     "output_type": "stream",
     "text": [
      "2021-09-20 13:22:14.182412: I tensorflow_io/core/kernels/kafka_kernels.cc:248] Kafka stream starts with current offset: 44032\n"
     ]
    },
    {
     "name": "stdout",
     "output_type": "stream",
     "text": [
      "688/938 [=====================>........] - ETA: 8s - loss: 0.4438 - accuracy: 0.7954"
     ]
    },
    {
     "name": "stderr",
     "output_type": "stream",
     "text": [
      "2021-09-20 13:22:14.689789: I tensorflow_io/core/kernels/kafka_kernels.cc:248] Kafka stream starts with current offset: 45056\n"
     ]
    },
    {
     "name": "stdout",
     "output_type": "stream",
     "text": [
      "718/938 [=====================>........] - ETA: 7s - loss: 0.4433 - accuracy: 0.7954"
     ]
    },
    {
     "name": "stderr",
     "output_type": "stream",
     "text": [
      "2021-09-20 13:22:15.222267: I tensorflow_io/core/kernels/kafka_kernels.cc:248] Kafka stream starts with current offset: 46080\n"
     ]
    },
    {
     "name": "stdout",
     "output_type": "stream",
     "text": [
      "720/938 [======================>.......] - ETA: 7s - loss: 0.4429 - accuracy: 0.7956"
     ]
    },
    {
     "name": "stderr",
     "output_type": "stream",
     "text": [
      "2021-09-20 13:22:15.736116: I tensorflow_io/core/kernels/kafka_kernels.cc:248] Kafka stream starts with current offset: 47104\n"
     ]
    },
    {
     "name": "stdout",
     "output_type": "stream",
     "text": [
      "736/938 [======================>.......] - ETA: 6s - loss: 0.4430 - accuracy: 0.7955"
     ]
    },
    {
     "name": "stderr",
     "output_type": "stream",
     "text": [
      "2021-09-20 13:22:16.233993: I tensorflow_io/core/kernels/kafka_kernels.cc:248] Kafka stream starts with current offset: 48128\n"
     ]
    },
    {
     "name": "stdout",
     "output_type": "stream",
     "text": [
      "752/938 [=======================>......] - ETA: 6s - loss: 0.4431 - accuracy: 0.7953"
     ]
    },
    {
     "name": "stderr",
     "output_type": "stream",
     "text": [
      "2021-09-20 13:22:16.774664: I tensorflow_io/core/kernels/kafka_kernels.cc:248] Kafka stream starts with current offset: 49152\n"
     ]
    },
    {
     "name": "stdout",
     "output_type": "stream",
     "text": [
      "783/938 [========================>.....] - ETA: 4s - loss: 0.4436 - accuracy: 0.7950"
     ]
    },
    {
     "name": "stderr",
     "output_type": "stream",
     "text": [
      "2021-09-20 13:22:17.297427: I tensorflow_io/core/kernels/kafka_kernels.cc:248] Kafka stream starts with current offset: 50176\n"
     ]
    },
    {
     "name": "stdout",
     "output_type": "stream",
     "text": [
      "798/938 [========================>.....] - ETA: 4s - loss: 0.4432 - accuracy: 0.7954"
     ]
    },
    {
     "name": "stderr",
     "output_type": "stream",
     "text": [
      "2021-09-20 13:22:17.816825: I tensorflow_io/core/kernels/kafka_kernels.cc:248] Kafka stream starts with current offset: 51200\n"
     ]
    },
    {
     "name": "stdout",
     "output_type": "stream",
     "text": [
      "800/938 [========================>.....] - ETA: 4s - loss: 0.4434 - accuracy: 0.7953"
     ]
    },
    {
     "name": "stderr",
     "output_type": "stream",
     "text": [
      "2021-09-20 13:22:18.327972: I tensorflow_io/core/kernels/kafka_kernels.cc:248] Kafka stream starts with current offset: 52224\n"
     ]
    },
    {
     "name": "stdout",
     "output_type": "stream",
     "text": [
      "816/938 [=========================>....] - ETA: 3s - loss: 0.4432 - accuracy: 0.7953"
     ]
    },
    {
     "name": "stderr",
     "output_type": "stream",
     "text": [
      "2021-09-20 13:22:18.842475: I tensorflow_io/core/kernels/kafka_kernels.cc:248] Kafka stream starts with current offset: 53248\n"
     ]
    },
    {
     "name": "stdout",
     "output_type": "stream",
     "text": [
      "845/938 [==========================>...] - ETA: 3s - loss: 0.4428 - accuracy: 0.7957"
     ]
    },
    {
     "name": "stderr",
     "output_type": "stream",
     "text": [
      "2021-09-20 13:22:19.359731: I tensorflow_io/core/kernels/kafka_kernels.cc:248] Kafka stream starts with current offset: 54272\n"
     ]
    },
    {
     "name": "stdout",
     "output_type": "stream",
     "text": [
      "848/938 [==========================>...] - ETA: 2s - loss: 0.4428 - accuracy: 0.7956"
     ]
    },
    {
     "name": "stderr",
     "output_type": "stream",
     "text": [
      "2021-09-20 13:22:19.841631: I tensorflow_io/core/kernels/kafka_kernels.cc:248] Kafka stream starts with current offset: 55296\n"
     ]
    },
    {
     "name": "stdout",
     "output_type": "stream",
     "text": [
      "878/938 [===========================>..] - ETA: 1s - loss: 0.4434 - accuracy: 0.7955"
     ]
    },
    {
     "name": "stderr",
     "output_type": "stream",
     "text": [
      "2021-09-20 13:22:20.380713: I tensorflow_io/core/kernels/kafka_kernels.cc:248] Kafka stream starts with current offset: 56320\n"
     ]
    },
    {
     "name": "stdout",
     "output_type": "stream",
     "text": [
      "880/938 [===========================>..] - ETA: 1s - loss: 0.4435 - accuracy: 0.7953"
     ]
    },
    {
     "name": "stderr",
     "output_type": "stream",
     "text": [
      "2021-09-20 13:22:20.885829: I tensorflow_io/core/kernels/kafka_kernels.cc:248] Kafka stream starts with current offset: 57344\n"
     ]
    },
    {
     "name": "stdout",
     "output_type": "stream",
     "text": [
      "911/938 [============================>.] - ETA: 0s - loss: 0.4428 - accuracy: 0.7955"
     ]
    },
    {
     "name": "stderr",
     "output_type": "stream",
     "text": [
      "2021-09-20 13:22:21.392583: I tensorflow_io/core/kernels/kafka_kernels.cc:248] Kafka stream starts with current offset: 58368\n"
     ]
    },
    {
     "name": "stdout",
     "output_type": "stream",
     "text": [
      "912/938 [============================>.] - ETA: 0s - loss: 0.4428 - accuracy: 0.7955"
     ]
    },
    {
     "name": "stderr",
     "output_type": "stream",
     "text": [
      "2021-09-20 13:22:21.892921: I tensorflow_io/core/kernels/kafka_kernels.cc:248] Kafka stream starts with current offset: 59392\n"
     ]
    },
    {
     "name": "stdout",
     "output_type": "stream",
     "text": [
      "938/938 [==============================] - 31s 32ms/step - loss: 0.4422 - accuracy: 0.7959\n"
     ]
    },
    {
     "data": {
      "text/plain": [
       "<keras.callbacks.History at 0x7f6b8d2fabe0>"
      ]
     },
     "execution_count": 23,
     "metadata": {},
     "output_type": "execute_result"
    }
   ],
   "source": [
    "# fit the model\n",
    "\n",
    "model.fit(train_ds, epochs=EPOCHS)"
   ]
  },
  {
   "cell_type": "markdown",
   "metadata": {},
   "source": [
    "# Infer on the test data\n",
    "To infer on the test data by adhering to the 'exactly-once' semantics along with fault-tolerance, the streaming.KafkaGroupIODataset can be utilized.\n",
    "\n",
    "## Define the tfio test dataset\n",
    "The stream_timeout parameter blocks for the given duration for new data points to be streamed into the topic. This removes the need for creating new datasets if the data is being streamed into the topic in an intermittent fashion."
   ]
  },
  {
   "cell_type": "code",
   "execution_count": 24,
   "metadata": {},
   "outputs": [
    {
     "name": "stdout",
     "output_type": "stream",
     "text": [
      "WARNING:tensorflow:From /home/dpacman/anaconda3/envs/kafka-ml/lib/python3.9/site-packages/tensorflow/python/data/experimental/ops/counter.py:66: scan (from tensorflow.python.data.experimental.ops.scan_ops) is deprecated and will be removed in a future version.\n",
      "Instructions for updating:\n",
      "Use `tf.data.Dataset.scan(...) instead\n",
      "WARNING:tensorflow:From /home/dpacman/anaconda3/envs/kafka-ml/lib/python3.9/site-packages/tensorflow_io/python/experimental/kafka_group_io_dataset_ops.py:187: take_while (from tensorflow.python.data.experimental.ops.take_while_ops) is deprecated and will be removed in a future version.\n",
      "Instructions for updating:\n",
      "Use `tf.data.Dataset.take_while(...)\n"
     ]
    },
    {
     "name": "stderr",
     "output_type": "stream",
     "text": [
      "2021-09-20 13:25:00.487241: I tensorflow_io/core/kernels/kafka_kernels.cc:879] Kafka configuration: session.timeout.ms=7000\n",
      "2021-09-20 13:25:00.487318: I tensorflow_io/core/kernels/kafka_kernels.cc:879] Kafka configuration: max.poll.interval.ms=8000\n",
      "2021-09-20 13:25:00.487363: I tensorflow_io/core/kernels/kafka_kernels.cc:879] Kafka configuration: auto.offset.reset=earliest\n",
      "2021-09-20 13:25:00.487396: I tensorflow_io/core/kernels/kafka_kernels.cc:879] Kafka configuration: group.id=testcg\n",
      "2021-09-20 13:25:00.487424: I tensorflow_io/core/kernels/kafka_kernels.cc:879] Kafka configuration: bootstrap.servers=127.0.0.1:9092\n",
      "2021-09-20 13:25:00.487492: I tensorflow_io/core/kernels/kafka_kernels.cc:919] max num of messages per batch: 10000\n",
      "2021-09-20 13:25:00.487529: I tensorflow_io/core/kernels/kafka_kernels.cc:938] Creating the kafka consumer\n",
      "2021-09-20 13:25:00.487993: I tensorflow_io/core/kernels/kafka_kernels.cc:945] Subscribing to the kafka topic: susy-test\n"
     ]
    }
   ],
   "source": [
    "test_ds = tfio.experimental.streaming.KafkaGroupIODataset(\n",
    "    topics=[\"susy-test\"],\n",
    "    group_id=\"testcg\",\n",
    "    servers=\"127.0.0.1:9092\",\n",
    "    stream_timeout=10000,\n",
    "    configuration=[\n",
    "        \"session.timeout.ms=7000\",\n",
    "        \"max.poll.interval.ms=8000\",\n",
    "        \"auto.offset.reset=earliest\"\n",
    "    ],\n",
    ")\n",
    "\n",
    "def decode_kafka_test_item(raw_message, raw_key):\n",
    "    message = tf.io.decode_csv(raw_message, [[0.0] for i in range(NUM_COLUMNS)])\n",
    "    key = tf.strings.to_number(raw_key)\n",
    "    return (message, key)"
   ]
  },
  {
   "cell_type": "code",
   "execution_count": 25,
   "metadata": {},
   "outputs": [],
   "source": [
    "test_ds = test_ds.map(decode_kafka_test_item)\n",
    "test_ds = test_ds.batch(BATCH_SIZE)"
   ]
  },
  {
   "cell_type": "markdown",
   "metadata": {},
   "source": [
    "#### Though this class can be used for training purposes, there are caveats which need to be addressed. Once all the messages are read from kafka and the latest offsets are committed using the streaming.KafkaGroupIODataset, the consumer doesn't restart reading the messages from the beginning. Thus, while training, it is possible only to train for a single epoch with the data continuously flowing in. This kind of a functionality has limited use cases during the training phase wherein, once a datapoint has been consumed by the model it is no longer required and can be discarded.\n",
    "\n",
    "#### However, this functionality shines when it comes to robust inference with exactly-once semantics."
   ]
  },
  {
   "cell_type": "markdown",
   "metadata": {},
   "source": [
    "# Evaluate the performance on the test data"
   ]
  },
  {
   "cell_type": "code",
   "execution_count": null,
   "metadata": {},
   "outputs": [
    {
     "name": "stdout",
     "output_type": "stream",
     "text": [
      "      1/Unknown - 0s 270ms/step - loss: 0.4394 - accuracy: 0.8281"
     ]
    },
    {
     "name": "stderr",
     "output_type": "stream",
     "text": [
      "2021-09-20 13:25:05.989833: E tensorflow_io/core/kernels/kafka_kernels.cc:774] REBALANCE: Local: Assign partitions\n",
      "2021-09-20 13:25:05.993252: E tensorflow_io/core/kernels/kafka_kernels.cc:776] Retrieved committed offsets with status code: 0\n",
      "2021-09-20 13:25:05.993276: I tensorflow_io/core/kernels/kafka_kernels.cc:787] REBALANCE: susy-test[0], OFFSET: -1001 ERROR_CODE: 0\n",
      "2021-09-20 13:25:05.993280: I tensorflow_io/core/kernels/kafka_kernels.cc:802] REBALANCE: Assigning partitions\n"
     ]
    },
    {
     "name": "stdout",
     "output_type": "stream",
     "text": [
      "    618/Unknown - 1s 661us/step - loss: 0.4393 - accuracy: 0.7944"
     ]
    },
    {
     "name": "stderr",
     "output_type": "stream",
     "text": [
      "2021-09-20 13:25:06.653757: I tensorflow_io/core/kernels/kafka_kernels.cc:996] EOF reached for all 1 partition(s)\n",
      "2021-09-20 13:25:16.654180: E tensorflow_io/core/kernels/kafka_kernels.cc:1001] Local: Timed out\n",
      "2021-09-20 13:25:26.655233: E tensorflow_io/core/kernels/kafka_kernels.cc:1001] Local: Timed out\n",
      "2021-09-20 13:25:36.656089: E tensorflow_io/core/kernels/kafka_kernels.cc:1001] Local: Timed out\n",
      "2021-09-20 13:25:46.657041: E tensorflow_io/core/kernels/kafka_kernels.cc:1001] Local: Timed out\n",
      "2021-09-20 13:25:56.658056: E tensorflow_io/core/kernels/kafka_kernels.cc:1001] Local: Timed out\n"
     ]
    }
   ],
   "source": [
    "res = model.evaluate(test_ds)\n",
    "print(\"test loss, test acc:\", res)"
   ]
  },
  {
   "cell_type": "code",
   "execution_count": null,
   "metadata": {},
   "outputs": [],
   "source": []
  },
  {
   "cell_type": "code",
   "execution_count": null,
   "metadata": {},
   "outputs": [],
   "source": []
  },
  {
   "cell_type": "code",
   "execution_count": null,
   "metadata": {},
   "outputs": [],
   "source": []
  },
  {
   "cell_type": "code",
   "execution_count": null,
   "metadata": {},
   "outputs": [],
   "source": []
  }
 ],
 "metadata": {
  "kernelspec": {
   "display_name": "Python 3 (ipykernel)",
   "language": "python",
   "name": "python3"
  },
  "language_info": {
   "codemirror_mode": {
    "name": "ipython",
    "version": 3
   },
   "file_extension": ".py",
   "mimetype": "text/x-python",
   "name": "python",
   "nbconvert_exporter": "python",
   "pygments_lexer": "ipython3",
   "version": "3.9.7"
  }
 },
 "nbformat": 4,
 "nbformat_minor": 4
}
